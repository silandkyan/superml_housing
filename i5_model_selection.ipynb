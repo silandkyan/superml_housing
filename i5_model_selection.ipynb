{
 "cells": [
  {
   "cell_type": "markdown",
   "id": "0708dc79-c432-4c4b-94dc-c7acf6e4b8f7",
   "metadata": {},
   "source": [
    "# Iteration 5: Model selection"
   ]
  },
  {
   "cell_type": "markdown",
   "id": "f8e1927c-827b-4792-9098-46fb1d4f4849",
   "metadata": {},
   "source": [
    "## Load data"
   ]
  },
  {
   "cell_type": "code",
   "execution_count": 1,
   "id": "87a35a5f-817e-41fd-8c31-50275839cbd5",
   "metadata": {},
   "outputs": [],
   "source": [
    "import pandas as pd\n",
    "from sklearn.model_selection import train_test_split\n",
    "from sklearn.metrics import accuracy_score\n"
   ]
  },
  {
   "cell_type": "code",
   "execution_count": 2,
   "id": "5f52a68f-6228-4678-9b7b-f3e744fec0b6",
   "metadata": {},
   "outputs": [
    {
     "data": {
      "text/html": [
       "<div>\n",
       "<style scoped>\n",
       "    .dataframe tbody tr th:only-of-type {\n",
       "        vertical-align: middle;\n",
       "    }\n",
       "\n",
       "    .dataframe tbody tr th {\n",
       "        vertical-align: top;\n",
       "    }\n",
       "\n",
       "    .dataframe thead th {\n",
       "        text-align: right;\n",
       "    }\n",
       "</style>\n",
       "<table border=\"1\" class=\"dataframe\">\n",
       "  <thead>\n",
       "    <tr style=\"text-align: right;\">\n",
       "      <th></th>\n",
       "      <th>LotArea</th>\n",
       "      <th>LotFrontage</th>\n",
       "      <th>TotalBsmtSF</th>\n",
       "      <th>BedroomAbvGr</th>\n",
       "      <th>Fireplaces</th>\n",
       "      <th>PoolArea</th>\n",
       "      <th>GarageCars</th>\n",
       "      <th>WoodDeckSF</th>\n",
       "      <th>ScreenPorch</th>\n",
       "      <th>Expensive</th>\n",
       "      <th>MSZoning</th>\n",
       "      <th>Condition1</th>\n",
       "      <th>Heating</th>\n",
       "      <th>Street</th>\n",
       "      <th>CentralAir</th>\n",
       "      <th>Foundation</th>\n",
       "    </tr>\n",
       "  </thead>\n",
       "  <tbody>\n",
       "    <tr>\n",
       "      <th>0</th>\n",
       "      <td>8450</td>\n",
       "      <td>65.0</td>\n",
       "      <td>856</td>\n",
       "      <td>3</td>\n",
       "      <td>0</td>\n",
       "      <td>0</td>\n",
       "      <td>2</td>\n",
       "      <td>0</td>\n",
       "      <td>0</td>\n",
       "      <td>0</td>\n",
       "      <td>RL</td>\n",
       "      <td>Norm</td>\n",
       "      <td>GasA</td>\n",
       "      <td>Pave</td>\n",
       "      <td>Y</td>\n",
       "      <td>PConc</td>\n",
       "    </tr>\n",
       "    <tr>\n",
       "      <th>1</th>\n",
       "      <td>9600</td>\n",
       "      <td>80.0</td>\n",
       "      <td>1262</td>\n",
       "      <td>3</td>\n",
       "      <td>1</td>\n",
       "      <td>0</td>\n",
       "      <td>2</td>\n",
       "      <td>298</td>\n",
       "      <td>0</td>\n",
       "      <td>0</td>\n",
       "      <td>RL</td>\n",
       "      <td>Feedr</td>\n",
       "      <td>GasA</td>\n",
       "      <td>Pave</td>\n",
       "      <td>Y</td>\n",
       "      <td>CBlock</td>\n",
       "    </tr>\n",
       "    <tr>\n",
       "      <th>2</th>\n",
       "      <td>11250</td>\n",
       "      <td>68.0</td>\n",
       "      <td>920</td>\n",
       "      <td>3</td>\n",
       "      <td>1</td>\n",
       "      <td>0</td>\n",
       "      <td>2</td>\n",
       "      <td>0</td>\n",
       "      <td>0</td>\n",
       "      <td>0</td>\n",
       "      <td>RL</td>\n",
       "      <td>Norm</td>\n",
       "      <td>GasA</td>\n",
       "      <td>Pave</td>\n",
       "      <td>Y</td>\n",
       "      <td>PConc</td>\n",
       "    </tr>\n",
       "    <tr>\n",
       "      <th>3</th>\n",
       "      <td>9550</td>\n",
       "      <td>60.0</td>\n",
       "      <td>756</td>\n",
       "      <td>3</td>\n",
       "      <td>1</td>\n",
       "      <td>0</td>\n",
       "      <td>3</td>\n",
       "      <td>0</td>\n",
       "      <td>0</td>\n",
       "      <td>0</td>\n",
       "      <td>RL</td>\n",
       "      <td>Norm</td>\n",
       "      <td>GasA</td>\n",
       "      <td>Pave</td>\n",
       "      <td>Y</td>\n",
       "      <td>BrkTil</td>\n",
       "    </tr>\n",
       "    <tr>\n",
       "      <th>4</th>\n",
       "      <td>14260</td>\n",
       "      <td>84.0</td>\n",
       "      <td>1145</td>\n",
       "      <td>4</td>\n",
       "      <td>1</td>\n",
       "      <td>0</td>\n",
       "      <td>3</td>\n",
       "      <td>192</td>\n",
       "      <td>0</td>\n",
       "      <td>0</td>\n",
       "      <td>RL</td>\n",
       "      <td>Norm</td>\n",
       "      <td>GasA</td>\n",
       "      <td>Pave</td>\n",
       "      <td>Y</td>\n",
       "      <td>PConc</td>\n",
       "    </tr>\n",
       "  </tbody>\n",
       "</table>\n",
       "</div>"
      ],
      "text/plain": [
       "   LotArea  LotFrontage  TotalBsmtSF  BedroomAbvGr  Fireplaces  PoolArea  \\\n",
       "0     8450         65.0          856             3           0         0   \n",
       "1     9600         80.0         1262             3           1         0   \n",
       "2    11250         68.0          920             3           1         0   \n",
       "3     9550         60.0          756             3           1         0   \n",
       "4    14260         84.0         1145             4           1         0   \n",
       "\n",
       "   GarageCars  WoodDeckSF  ScreenPorch  Expensive MSZoning Condition1 Heating  \\\n",
       "0           2           0            0          0       RL       Norm    GasA   \n",
       "1           2         298            0          0       RL      Feedr    GasA   \n",
       "2           2           0            0          0       RL       Norm    GasA   \n",
       "3           3           0            0          0       RL       Norm    GasA   \n",
       "4           3         192            0          0       RL       Norm    GasA   \n",
       "\n",
       "  Street CentralAir Foundation  \n",
       "0   Pave          Y      PConc  \n",
       "1   Pave          Y     CBlock  \n",
       "2   Pave          Y      PConc  \n",
       "3   Pave          Y     BrkTil  \n",
       "4   Pave          Y      PConc  "
      ]
     },
     "execution_count": 2,
     "metadata": {},
     "output_type": "execute_result"
    }
   ],
   "source": [
    "df = pd.read_csv('./data/housing_iteration_3_classification.csv')\n",
    "df.head()"
   ]
  },
  {
   "cell_type": "code",
   "execution_count": 3,
   "id": "b43c2ecc-8b23-4ac7-a8ac-65dfd32d9f67",
   "metadata": {},
   "outputs": [
    {
     "name": "stdout",
     "output_type": "stream",
     "text": [
      "<class 'pandas.core.frame.DataFrame'>\n",
      "RangeIndex: 1460 entries, 0 to 1459\n",
      "Data columns (total 16 columns):\n",
      " #   Column        Non-Null Count  Dtype  \n",
      "---  ------        --------------  -----  \n",
      " 0   LotArea       1460 non-null   int64  \n",
      " 1   LotFrontage   1201 non-null   float64\n",
      " 2   TotalBsmtSF   1460 non-null   int64  \n",
      " 3   BedroomAbvGr  1460 non-null   int64  \n",
      " 4   Fireplaces    1460 non-null   int64  \n",
      " 5   PoolArea      1460 non-null   int64  \n",
      " 6   GarageCars    1460 non-null   int64  \n",
      " 7   WoodDeckSF    1460 non-null   int64  \n",
      " 8   ScreenPorch   1460 non-null   int64  \n",
      " 9   Expensive     1460 non-null   int64  \n",
      " 10  MSZoning      1460 non-null   object \n",
      " 11  Condition1    1460 non-null   object \n",
      " 12  Heating       1460 non-null   object \n",
      " 13  Street        1460 non-null   object \n",
      " 14  CentralAir    1460 non-null   object \n",
      " 15  Foundation    1460 non-null   object \n",
      "dtypes: float64(1), int64(9), object(6)\n",
      "memory usage: 182.6+ KB\n"
     ]
    }
   ],
   "source": [
    "df.info()"
   ]
  },
  {
   "cell_type": "code",
   "execution_count": 4,
   "id": "747c5215-aa1d-4d95-8e92-997267e41a30",
   "metadata": {},
   "outputs": [],
   "source": [
    "for col in df.select_dtypes(exclude=\"number\").columns:\n",
    "    #print(df[col].value_counts())\n",
    "    pass"
   ]
  },
  {
   "cell_type": "code",
   "execution_count": 5,
   "id": "3f9034ff-629f-4b4e-840a-b7a3b8e05aca",
   "metadata": {},
   "outputs": [],
   "source": [
    "y = df.pop('Expensive')"
   ]
  },
  {
   "cell_type": "code",
   "execution_count": 6,
   "id": "11975a7d-a71b-415f-b9b5-818f511a5b22",
   "metadata": {},
   "outputs": [],
   "source": [
    "X = df.copy()"
   ]
  },
  {
   "cell_type": "markdown",
   "id": "f6e904c6-1758-4ca0-8a67-5a210a9d748a",
   "metadata": {},
   "source": [
    "## Train-test split"
   ]
  },
  {
   "cell_type": "code",
   "execution_count": 7,
   "id": "463bba08-c1ed-4211-82ad-a5016abf16a7",
   "metadata": {},
   "outputs": [],
   "source": [
    "X_train, X_test, y_train, y_test = train_test_split(X, y, test_size=0.2)"
   ]
  },
  {
   "cell_type": "markdown",
   "id": "da2a878d-3881-4169-9a44-24cfe9719995",
   "metadata": {},
   "source": [
    "## Build Pipeline"
   ]
  },
  {
   "cell_type": "markdown",
   "id": "1e527edc-2c09-4636-9f0f-4eee13ed31c6",
   "metadata": {},
   "source": [
    "### Define preprocessing steps"
   ]
  },
  {
   "cell_type": "code",
   "execution_count": 8,
   "id": "f8875f29-733f-4773-b69b-80aba4dd4808",
   "metadata": {},
   "outputs": [],
   "source": [
    "from sklearn.impute import SimpleImputer\n",
    "from sklearn.preprocessing import MinMaxScaler, OneHotEncoder\n",
    "from sklearn.compose import ColumnTransformer\n",
    "from sklearn.pipeline import Pipeline"
   ]
  },
  {
   "cell_type": "code",
   "execution_count": 9,
   "id": "daa43601-da4e-426f-bb1c-305356547a08",
   "metadata": {},
   "outputs": [],
   "source": [
    "# select categorical and numerical column names\n",
    "X_cat_columns = X.select_dtypes(exclude=\"number\").columns\n",
    "X_num_columns = X.select_dtypes(include=\"number\").columns\n",
    "\n",
    "# create numerical pipeline, only with the SimpleImputer(strategy=\"mean\")\n",
    "numeric_pipe = Pipeline(\n",
    "    steps=[('num_imputer', SimpleImputer()), \n",
    "           ('num_scaler', MinMaxScaler())\n",
    "          ])\n",
    "\n",
    " # create categorical pipeline, with the SimpleImputer(fill_value=\"N_A\") and the OneHotEncoder\n",
    "categoric_pipe = Pipeline(\n",
    "    steps=[('cat_imputer', SimpleImputer(strategy='constant', fill_value='N_A')), \n",
    "           ('cat_encoder', OneHotEncoder(drop='first', \n",
    "                                         sparse_output=False, \n",
    "                                         handle_unknown='ignore'#,infrequent_if_exist', \n",
    "                                         #min_frequency=0.03\n",
    "                                        ))\n",
    "          ])"
   ]
  },
  {
   "cell_type": "code",
   "execution_count": 10,
   "id": "2b4a8e44-babc-4c5e-8802-083e456c761f",
   "metadata": {},
   "outputs": [],
   "source": [
    "preprocessor = ColumnTransformer(\n",
    "    transformers=[\n",
    "        ('num', numeric_pipe, X_num_columns), \n",
    "        ('cat', categoric_pipe, X_cat_columns)\n",
    "    ])"
   ]
  },
  {
   "cell_type": "markdown",
   "id": "8a0109a5-04f8-4232-b94a-2253a213a98b",
   "metadata": {},
   "source": [
    "### Define classifiers to test"
   ]
  },
  {
   "cell_type": "code",
   "execution_count": 11,
   "id": "d3f646ba-9529-4e29-b4e4-536dc2999863",
   "metadata": {},
   "outputs": [],
   "source": [
    "from sklearn.tree import DecisionTreeClassifier\n",
    "from sklearn.neighbors import KNeighborsClassifier\n",
    "from sklearn.linear_model import LogisticRegression\n",
    "from sklearn.ensemble import RandomForestClassifier\n",
    "from sklearn.ensemble import GradientBoostingClassifier\n",
    "from sklearn.svm import SVC"
   ]
  },
  {
   "cell_type": "code",
   "execution_count": 12,
   "id": "d9be3d28-7bd4-4e64-9ecc-ab355690bf4e",
   "metadata": {},
   "outputs": [],
   "source": [
    "classifiers = [\n",
    "    ('DecisionTree', DecisionTreeClassifier()),\n",
    "    ('KNN', KNeighborsClassifier()),\n",
    "    ('LogReg', LogisticRegression()),\n",
    "    ('RandomForest', RandomForestClassifier()),\n",
    "    ('GradientBoosting', GradientBoostingClassifier()),\n",
    "    ('SVM', SVC())\n",
    "]"
   ]
  },
  {
   "cell_type": "markdown",
   "id": "b34bf26c-3e6a-481d-ad4e-bdb669ae7ccc",
   "metadata": {},
   "source": [
    "### Create a pipeline for each classifier"
   ]
  },
  {
   "cell_type": "code",
   "execution_count": 13,
   "id": "f07cee73-15b1-4dbb-9f97-6e7eb1e62549",
   "metadata": {},
   "outputs": [],
   "source": [
    "pipelines = []\n",
    "for name, clf in classifiers:\n",
    "    pipe = Pipeline(steps=[('preprocessor', preprocessor),\n",
    "                           ('classifier', clf)]).set_output(transform='pandas')\n",
    "    pipelines.append((name, pipe))\n"
   ]
  },
  {
   "cell_type": "markdown",
   "id": "343ff77c-bd23-449a-be12-0259a2e40361",
   "metadata": {},
   "source": [
    "## Exploratory hyperparameter search"
   ]
  },
  {
   "cell_type": "markdown",
   "id": "d51c3396-611b-4735-ba96-f9db66985087",
   "metadata": {},
   "source": [
    "### Define exploratory hyperparameters"
   ]
  },
  {
   "cell_type": "code",
   "execution_count": 15,
   "id": "5ddb736d-7b13-44a7-bf7b-0581fab5902b",
   "metadata": {},
   "outputs": [],
   "source": [
    "param_grids_explore = {\n",
    "    'DecisionTree': {\n",
    "        'classifier__max_depth': range(2, 14),\n",
    "        'classifier__min_samples_leaf': range(3, 15, 2),\n",
    "        'classifier__min_samples_split': range(3, 30, 5),\n",
    "        'classifier__criterion':['gini', 'entropy']\n",
    "    },\n",
    "    'KNN': {\n",
    "        'classifier__n_neighbors': range(3, 33, 5),\n",
    "        'classifier__weights': ['uniform', 'distance'],\n",
    "        'classifier__metric': ['minkowski', 'manhattan'],\n",
    "    },\n",
    "    'LogReg': {\n",
    "        'classifier__penalty': ['l1', 'l2', 'elasticnet', None],\n",
    "        'classifier__C': [0.01, 0.05, 0.1, 0.5, 1, 5, 10, 50, 100],\n",
    "    },\n",
    "    'RandomForest': {\n",
    "        'classifier__n_estimators': range(5, 100, 10),\n",
    "        'classifier__max_depth': [None, 10, 20],\n",
    "        'classifier__min_samples_leaf': range(1, 20, 2)\n",
    "    },\n",
    "    'GradientBoosting': {\n",
    "        'classifier__n_estimators': range(1, 300, 20),\n",
    "        'classifier__learning_rate': [0.01, 0.05, 0.1, 0.5, 1, 5, 10, 50, 100]\n",
    "    },\n",
    "    'SVM': {\n",
    "        'classifier__C': [0.01, 0.05, 0.1, 0.5, 1, 5, 10, 50, 100],\n",
    "        'classifier__gamma': ['scale', 'auto']\n",
    "    }\n",
    "}\n"
   ]
  },
  {
   "cell_type": "markdown",
   "id": "4a79fb08-f385-4a77-9508-bfeeb37bc252",
   "metadata": {},
   "source": [
    "### Fit and evaluate models"
   ]
  },
  {
   "cell_type": "code",
   "execution_count": 16,
   "id": "cb19fb49-9791-42f0-82dc-e97060a95565",
   "metadata": {},
   "outputs": [],
   "source": [
    "from sklearn.model_selection import GridSearchCV\n",
    "\n",
    "import warnings\n",
    "warnings.filterwarnings('ignore')"
   ]
  },
  {
   "cell_type": "code",
   "execution_count": 17,
   "id": "fe87f74b-f79d-490d-bca4-d08beb5b1bbf",
   "metadata": {},
   "outputs": [
    {
     "name": "stdout",
     "output_type": "stream",
     "text": [
      "\n",
      "Training and evaluating DecisionTree...\n",
      "Fitting 5 folds for each of 864 candidates, totalling 4320 fits\n",
      "Best parameters found:\n",
      "{'classifier__criterion': 'gini', 'classifier__max_depth': 5, 'classifier__min_samples_leaf': 9, 'classifier__min_samples_split': 3}\n",
      "\n",
      "Training and evaluating KNN...\n",
      "Fitting 5 folds for each of 24 candidates, totalling 120 fits\n",
      "Best parameters found:\n",
      "{'classifier__metric': 'manhattan', 'classifier__n_neighbors': 13, 'classifier__weights': 'distance'}\n",
      "\n",
      "Training and evaluating LogReg...\n",
      "Fitting 5 folds for each of 36 candidates, totalling 180 fits\n",
      "Best parameters found:\n",
      "{'classifier__C': 0.01, 'classifier__penalty': None}\n",
      "\n",
      "Training and evaluating RandomForest...\n",
      "Fitting 5 folds for each of 300 candidates, totalling 1500 fits\n",
      "Best parameters found:\n",
      "{'classifier__max_depth': 20, 'classifier__min_samples_leaf': 1, 'classifier__n_estimators': 45}\n",
      "\n",
      "Training and evaluating GradientBoosting...\n",
      "Fitting 5 folds for each of 135 candidates, totalling 675 fits\n",
      "Best parameters found:\n",
      "{'classifier__learning_rate': 0.1, 'classifier__n_estimators': 181}\n",
      "\n",
      "Training and evaluating SVM...\n",
      "Fitting 5 folds for each of 18 candidates, totalling 90 fits\n",
      "Best parameters found:\n",
      "{'classifier__C': 10, 'classifier__gamma': 'scale'}\n"
     ]
    }
   ],
   "source": [
    "# Fit and evaluate each pipeline\n",
    "scores_explore = {}\n",
    "params_explore = {}\n",
    "\n",
    "for name, pipe in pipelines:\n",
    "    print(f\"\\nTraining and evaluating {name}...\")\n",
    "    grid_search = GridSearchCV(pipe, \n",
    "                               param_grids_explore[name], \n",
    "                               cv=5, scoring='accuracy',\n",
    "                              verbose=1)\n",
    "    grid_search.fit(X_train, y_train)\n",
    "    \n",
    "    # Evaluate on test set\n",
    "    #y_pred = grid_search.predict(X_test)\n",
    "    #accuracy = accuracy_score(y_test, y_pred)\n",
    "    \n",
    "    #print(\"Best parameters found:\")\n",
    "    #print(grid_search.best_params_)\n",
    "    #print(\"Classification report:\")\n",
    "    #print(classification_report(y_test, y_pred))\n",
    "    #print(f\"Accuracy: {accuracy:.4f}\")\n",
    "    \n",
    "    scores_explore[name] = grid_search.best_score_\n",
    "    params_explore[name] = grid_search.best_params_"
   ]
  },
  {
   "cell_type": "code",
   "execution_count": 18,
   "id": "f4bb5c55-ae37-44cd-a9dd-ce22fb079fc2",
   "metadata": {},
   "outputs": [
    {
     "data": {
      "text/plain": [
       "{'DecisionTree': 0.9212354645831041,\n",
       " 'KNN': 0.9255089688566084,\n",
       " 'LogReg': 0.9280804079087341,\n",
       " 'RandomForest': 0.9366310846997543,\n",
       " 'GradientBoosting': 0.9331976083049044,\n",
       " 'SVM': 0.9212317963390925}"
      ]
     },
     "execution_count": 18,
     "metadata": {},
     "output_type": "execute_result"
    }
   ],
   "source": [
    "scores_explore"
   ]
  },
  {
   "cell_type": "code",
   "execution_count": 19,
   "id": "1dec5f44-edc9-4bbd-a8af-b25b9303bf7e",
   "metadata": {},
   "outputs": [
    {
     "data": {
      "text/plain": [
       "{'DecisionTree': {'classifier__criterion': 'gini',\n",
       "  'classifier__max_depth': 5,\n",
       "  'classifier__min_samples_leaf': 9,\n",
       "  'classifier__min_samples_split': 3},\n",
       " 'KNN': {'classifier__metric': 'manhattan',\n",
       "  'classifier__n_neighbors': 13,\n",
       "  'classifier__weights': 'distance'},\n",
       " 'LogReg': {'classifier__C': 0.01, 'classifier__penalty': None},\n",
       " 'RandomForest': {'classifier__max_depth': 20,\n",
       "  'classifier__min_samples_leaf': 1,\n",
       "  'classifier__n_estimators': 45},\n",
       " 'GradientBoosting': {'classifier__learning_rate': 0.1,\n",
       "  'classifier__n_estimators': 181},\n",
       " 'SVM': {'classifier__C': 10, 'classifier__gamma': 'scale'}}"
      ]
     },
     "execution_count": 19,
     "metadata": {},
     "output_type": "execute_result"
    }
   ],
   "source": [
    "params_explore"
   ]
  },
  {
   "cell_type": "code",
   "execution_count": 20,
   "id": "c00ab9d1-2e85-45a2-82a7-f1e837fb0d1b",
   "metadata": {},
   "outputs": [],
   "source": [
    "#TODO: fine-tune parameters"
   ]
  },
  {
   "cell_type": "markdown",
   "id": "490c486c-e954-4094-ae52-d1ce1c9929f5",
   "metadata": {},
   "source": [
    "## Refined hyperparameter search"
   ]
  },
  {
   "cell_type": "markdown",
   "id": "e86b939a-fae0-4318-8dc0-e079636b1c1b",
   "metadata": {},
   "source": [
    "### Define exploratory hyperparameters"
   ]
  },
  {
   "cell_type": "code",
   "execution_count": 20,
   "id": "a311bb75-72d9-4299-a05b-cadd1a13af75",
   "metadata": {},
   "outputs": [],
   "source": [
    "param_grids_refined = {\n",
    "    'DecisionTree': {\n",
    "        'classifier__max_depth': range(3, 7),\n",
    "        'classifier__min_samples_leaf': range(7, 12),\n",
    "        'classifier__min_samples_split': range(11, 16),\n",
    "        'classifier__criterion':['gini', 'entropy']\n",
    "    },\n",
    "    'KNN': {\n",
    "        'classifier__n_neighbors': range(3, 33, 5),\n",
    "        'classifier__weights': ['uniform', 'distance'],\n",
    "        'classifier__metric': ['minkowski', 'manhattan'],\n",
    "    },\n",
    "    #'RandomForest': {\n",
    "    #    'classifier__n_estimators': [50, 100, 200],\n",
    "    #    'classifier__max_depth': [None, 10, 20]\n",
    "    #},\n",
    "    #'GradientBoosting': {\n",
    "    #    'classifier__n_estimators': [50, 100, 200],\n",
    "    #    'classifier__learning_rate': [0.1, 0.05, 0.01]\n",
    "    #},\n",
    "    #'SVM': {\n",
    "    #    'classifier__C': [0.1, 1, 10],\n",
    "    #    'classifier__gamma': ['scale', 'auto']\n",
    "    #}\n",
    "}\n"
   ]
  },
  {
   "cell_type": "markdown",
   "id": "4f7fbc05-9dac-40ee-a823-9afe3a8d3212",
   "metadata": {},
   "source": [
    "### Fit and evaluate models"
   ]
  },
  {
   "cell_type": "code",
   "execution_count": 21,
   "id": "8b565ff1-9c4d-4cbf-93d4-c66c4d01efe7",
   "metadata": {},
   "outputs": [],
   "source": [
    "from sklearn.model_selection import GridSearchCV\n",
    "\n",
    "import warnings\n",
    "warnings.filterwarnings('ignore')"
   ]
  },
  {
   "cell_type": "code",
   "execution_count": 27,
   "id": "257a37e4-d54e-4996-aca1-81c04a3c27e5",
   "metadata": {},
   "outputs": [
    {
     "name": "stdout",
     "output_type": "stream",
     "text": [
      "\n",
      "Training and evaluating DecisionTree...\n",
      "Fitting 5 folds for each of 200 candidates, totalling 1000 fits\n",
      "Best parameters found:\n",
      "{'classifier__criterion': 'entropy', 'classifier__max_depth': 5, 'classifier__min_samples_leaf': 7, 'classifier__min_samples_split': 11}\n",
      "Accuracy for training data: 0.9272\n",
      "\n",
      "Training and evaluating KNN...\n",
      "Fitting 5 folds for each of 24 candidates, totalling 120 fits\n",
      "Best parameters found:\n",
      "{'classifier__metric': 'manhattan', 'classifier__n_neighbors': 23, 'classifier__weights': 'uniform'}\n",
      "Accuracy for training data: 0.9170\n"
     ]
    }
   ],
   "source": [
    "# Fit and evaluate each pipeline\n",
    "scores_refined = {}\n",
    "params_refined = {}\n",
    "accuracy_train = {}\n",
    "estimators = {}\n",
    "\n",
    "for name, pipe in pipelines:\n",
    "    print(f\"\\nTraining and evaluating {name}...\")\n",
    "    grid_search = GridSearchCV(pipe, \n",
    "                               param_grids_refined[name], \n",
    "                               cv=5, scoring='accuracy',\n",
    "                              verbose=1)\n",
    "    grid_search.fit(X_train, y_train)\n",
    "    \n",
    "    # Evaluate on test set\n",
    "    y_train_pred = grid_search.predict(X_train)\n",
    "    acc_train = accuracy_score(y_train, y_train_pred)\n",
    "    \n",
    "    print(\"Best parameters found:\")\n",
    "    print(grid_search.best_params_)\n",
    "    #print(\"Classification report:\")\n",
    "    #print(classification_report(y_test, y_pred))\n",
    "    print(f\"Accuracy for training data: {acc_train:.4f}\")\n",
    "    \n",
    "    scores_refined[name] = grid_search.best_score_\n",
    "    params_refined[name] = grid_search.best_params_\n",
    "    estimators[name] = grid_search.best_estimator_\n",
    "    accuracy_train[name] = acc_train"
   ]
  },
  {
   "cell_type": "code",
   "execution_count": 28,
   "id": "246bf778-0080-4e82-a534-e52052cbb1d7",
   "metadata": {},
   "outputs": [
    {
     "data": {
      "text/plain": [
       "{'DecisionTree': 0.9084296247386376, 'KNN': 0.9169766332856462}"
      ]
     },
     "execution_count": 28,
     "metadata": {},
     "output_type": "execute_result"
    }
   ],
   "source": [
    "scores_refined"
   ]
  },
  {
   "cell_type": "code",
   "execution_count": 29,
   "id": "964474d1-d307-47c8-918b-81c922e8d3b9",
   "metadata": {},
   "outputs": [
    {
     "data": {
      "text/plain": [
       "{'DecisionTree': {'classifier__criterion': 'entropy',\n",
       "  'classifier__max_depth': 5,\n",
       "  'classifier__min_samples_leaf': 7,\n",
       "  'classifier__min_samples_split': 11},\n",
       " 'KNN': {'classifier__metric': 'manhattan',\n",
       "  'classifier__n_neighbors': 23,\n",
       "  'classifier__weights': 'uniform'}}"
      ]
     },
     "execution_count": 29,
     "metadata": {},
     "output_type": "execute_result"
    }
   ],
   "source": [
    "params_refined"
   ]
  },
  {
   "cell_type": "code",
   "execution_count": 30,
   "id": "91faf9ed-0074-49b3-a982-e7e77e09943c",
   "metadata": {},
   "outputs": [
    {
     "data": {
      "text/plain": [
       "{'DecisionTree': 0.9272260273972602, 'KNN': 0.9169520547945206}"
      ]
     },
     "execution_count": 30,
     "metadata": {},
     "output_type": "execute_result"
    }
   ],
   "source": [
    "accuracy_train"
   ]
  },
  {
   "cell_type": "markdown",
   "id": "ed75a75c-d9b1-4d13-845d-590951250151",
   "metadata": {},
   "source": [
    "## Check performance on test data"
   ]
  },
  {
   "cell_type": "code",
   "execution_count": 43,
   "id": "69066031-5d75-4c07-b829-191c2a2ab3a1",
   "metadata": {},
   "outputs": [
    {
     "data": {
      "image/png": "[encoded data removed]",
      "text/plain": [
       "<Figure size 640x480 with 2 Axes>"
      ]
     },
     "metadata": {},
     "output_type": "display_data"
    },
    {
     "data": {
      "image/png": "[encoded data removed]",
      "text/plain": [
       "<Figure size 640x480 with 2 Axes>"
      ]
     },
     "metadata": {},
     "output_type": "display_data"
    }
   ],
   "source": [
    "from sklearn.metrics import ConfusionMatrixDisplay\n",
    "accuracy_test = {}\n",
    "\n",
    "for name in estimators:\n",
    "    accuracy_test[name] = estimators[name].score(X_test, y_test)\n",
    "    \n",
    "    ConfusionMatrixDisplay.from_estimator(estimators[name],\n",
    "                                      X_test,\n",
    "                                      y_test,\n",
    "                                      );"
   ]
  },
  {
   "cell_type": "code",
   "execution_count": 44,
   "id": "c7965f68-45a1-45a7-8561-1b60fdfc8533",
   "metadata": {},
   "outputs": [
    {
     "data": {
      "text/plain": [
       "{'DecisionTree': 0.9417808219178082, 'KNN': 0.934931506849315}"
      ]
     },
     "execution_count": 44,
     "metadata": {},
     "output_type": "execute_result"
    }
   ],
   "source": [
    "accuracy_test"
   ]
  },
  {
   "cell_type": "code",
   "execution_count": 27,
   "id": "a1da1319-11ed-4929-8fa1-b1126645851a",
   "metadata": {},
   "outputs": [
    {
     "data": {
      "text/plain": [
       "0.9315068493150684"
      ]
     },
     "execution_count": 27,
     "metadata": {},
     "output_type": "execute_result"
    }
   ],
   "source": [
    "best_estimator.score(X_test, y_test)"
   ]
  }
 ],
 "metadata": {
  "kernelspec": {
   "display_name": "Python 3 (ipykernel)",
   "language": "python",
   "name": "python3"
  },
  "language_info": {
   "codemirror_mode": {
    "name": "ipython",
    "version": 3
   },
   "file_extension": ".py",
   "mimetype": "text/x-python",
   "name": "python",
   "nbconvert_exporter": "python",
   "pygments_lexer": "ipython3",
   "version": "3.11.5"
  }
 },
 "nbformat": 4,
 "nbformat_minor": 5
}
