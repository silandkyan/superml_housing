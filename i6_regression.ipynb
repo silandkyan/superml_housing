{
 "cells": [
  {
   "cell_type": "markdown",
   "id": "1d23fa07-e54b-43e5-9312-03ca2a22a255",
   "metadata": {},
   "source": [
    "# Iteration 6: Regression"
   ]
  },
  {
   "cell_type": "markdown",
   "id": "e0d924a8-0774-4174-a6ed-b131e80a45e2",
   "metadata": {},
   "source": [
    "## Load data"
   ]
  },
  {
   "cell_type": "code",
   "execution_count": 1,
   "id": "c9a117f5-39ff-44a2-91a4-a832520e8256",
   "metadata": {},
   "outputs": [],
   "source": [
    "import pandas as pd\n",
    "from sklearn.model_selection import train_test_split"
   ]
  },
  {
   "cell_type": "code",
   "execution_count": 2,
   "id": "88ad1b54-d2db-4d34-8857-e69fc049ed67",
   "metadata": {},
   "outputs": [],
   "source": [
    "from sklearn.model_selection import GridSearchCV\n",
    "\n",
    "import warnings\n",
    "warnings.filterwarnings('ignore', \n",
    "                        category=UserWarning, \n",
    "                        module=\"sklearn.preprocessing\")"
   ]
  },
  {
   "cell_type": "code",
   "execution_count": 3,
   "id": "b016c36a-133c-460c-a945-e44d5578c5de",
   "metadata": {},
   "outputs": [
    {
     "data": {
      "text/html": [
       "<div>\n",
       "<style scoped>\n",
       "    .dataframe tbody tr th:only-of-type {\n",
       "        vertical-align: middle;\n",
       "    }\n",
       "\n",
       "    .dataframe tbody tr th {\n",
       "        vertical-align: top;\n",
       "    }\n",
       "\n",
       "    .dataframe thead th {\n",
       "        text-align: right;\n",
       "    }\n",
       "</style>\n",
       "<table border=\"1\" class=\"dataframe\">\n",
       "  <thead>\n",
       "    <tr style=\"text-align: right;\">\n",
       "      <th></th>\n",
       "      <th>Id</th>\n",
       "      <th>MSSubClass</th>\n",
       "      <th>MSZoning</th>\n",
       "      <th>LotFrontage</th>\n",
       "      <th>LotArea</th>\n",
       "      <th>Street</th>\n",
       "      <th>Alley</th>\n",
       "      <th>LotShape</th>\n",
       "      <th>LandContour</th>\n",
       "      <th>Utilities</th>\n",
       "      <th>...</th>\n",
       "      <th>PoolArea</th>\n",
       "      <th>PoolQC</th>\n",
       "      <th>Fence</th>\n",
       "      <th>MiscFeature</th>\n",
       "      <th>MiscVal</th>\n",
       "      <th>MoSold</th>\n",
       "      <th>YrSold</th>\n",
       "      <th>SaleType</th>\n",
       "      <th>SaleCondition</th>\n",
       "      <th>SalePrice</th>\n",
       "    </tr>\n",
       "  </thead>\n",
       "  <tbody>\n",
       "    <tr>\n",
       "      <th>0</th>\n",
       "      <td>1</td>\n",
       "      <td>60</td>\n",
       "      <td>RL</td>\n",
       "      <td>65.0</td>\n",
       "      <td>8450</td>\n",
       "      <td>Pave</td>\n",
       "      <td>NaN</td>\n",
       "      <td>Reg</td>\n",
       "      <td>Lvl</td>\n",
       "      <td>AllPub</td>\n",
       "      <td>...</td>\n",
       "      <td>0</td>\n",
       "      <td>NaN</td>\n",
       "      <td>NaN</td>\n",
       "      <td>NaN</td>\n",
       "      <td>0</td>\n",
       "      <td>2</td>\n",
       "      <td>2008</td>\n",
       "      <td>WD</td>\n",
       "      <td>Normal</td>\n",
       "      <td>208500</td>\n",
       "    </tr>\n",
       "    <tr>\n",
       "      <th>1</th>\n",
       "      <td>2</td>\n",
       "      <td>20</td>\n",
       "      <td>RL</td>\n",
       "      <td>80.0</td>\n",
       "      <td>9600</td>\n",
       "      <td>Pave</td>\n",
       "      <td>NaN</td>\n",
       "      <td>Reg</td>\n",
       "      <td>Lvl</td>\n",
       "      <td>AllPub</td>\n",
       "      <td>...</td>\n",
       "      <td>0</td>\n",
       "      <td>NaN</td>\n",
       "      <td>NaN</td>\n",
       "      <td>NaN</td>\n",
       "      <td>0</td>\n",
       "      <td>5</td>\n",
       "      <td>2007</td>\n",
       "      <td>WD</td>\n",
       "      <td>Normal</td>\n",
       "      <td>181500</td>\n",
       "    </tr>\n",
       "    <tr>\n",
       "      <th>2</th>\n",
       "      <td>3</td>\n",
       "      <td>60</td>\n",
       "      <td>RL</td>\n",
       "      <td>68.0</td>\n",
       "      <td>11250</td>\n",
       "      <td>Pave</td>\n",
       "      <td>NaN</td>\n",
       "      <td>IR1</td>\n",
       "      <td>Lvl</td>\n",
       "      <td>AllPub</td>\n",
       "      <td>...</td>\n",
       "      <td>0</td>\n",
       "      <td>NaN</td>\n",
       "      <td>NaN</td>\n",
       "      <td>NaN</td>\n",
       "      <td>0</td>\n",
       "      <td>9</td>\n",
       "      <td>2008</td>\n",
       "      <td>WD</td>\n",
       "      <td>Normal</td>\n",
       "      <td>223500</td>\n",
       "    </tr>\n",
       "    <tr>\n",
       "      <th>3</th>\n",
       "      <td>4</td>\n",
       "      <td>70</td>\n",
       "      <td>RL</td>\n",
       "      <td>60.0</td>\n",
       "      <td>9550</td>\n",
       "      <td>Pave</td>\n",
       "      <td>NaN</td>\n",
       "      <td>IR1</td>\n",
       "      <td>Lvl</td>\n",
       "      <td>AllPub</td>\n",
       "      <td>...</td>\n",
       "      <td>0</td>\n",
       "      <td>NaN</td>\n",
       "      <td>NaN</td>\n",
       "      <td>NaN</td>\n",
       "      <td>0</td>\n",
       "      <td>2</td>\n",
       "      <td>2006</td>\n",
       "      <td>WD</td>\n",
       "      <td>Abnorml</td>\n",
       "      <td>140000</td>\n",
       "    </tr>\n",
       "    <tr>\n",
       "      <th>4</th>\n",
       "      <td>5</td>\n",
       "      <td>60</td>\n",
       "      <td>RL</td>\n",
       "      <td>84.0</td>\n",
       "      <td>14260</td>\n",
       "      <td>Pave</td>\n",
       "      <td>NaN</td>\n",
       "      <td>IR1</td>\n",
       "      <td>Lvl</td>\n",
       "      <td>AllPub</td>\n",
       "      <td>...</td>\n",
       "      <td>0</td>\n",
       "      <td>NaN</td>\n",
       "      <td>NaN</td>\n",
       "      <td>NaN</td>\n",
       "      <td>0</td>\n",
       "      <td>12</td>\n",
       "      <td>2008</td>\n",
       "      <td>WD</td>\n",
       "      <td>Normal</td>\n",
       "      <td>250000</td>\n",
       "    </tr>\n",
       "  </tbody>\n",
       "</table>\n",
       "<p>5 rows × 81 columns</p>\n",
       "</div>"
      ],
      "text/plain": [
       "   Id  MSSubClass MSZoning  LotFrontage  LotArea Street Alley LotShape  \\\n",
       "0   1          60       RL         65.0     8450   Pave   NaN      Reg   \n",
       "1   2          20       RL         80.0     9600   Pave   NaN      Reg   \n",
       "2   3          60       RL         68.0    11250   Pave   NaN      IR1   \n",
       "3   4          70       RL         60.0     9550   Pave   NaN      IR1   \n",
       "4   5          60       RL         84.0    14260   Pave   NaN      IR1   \n",
       "\n",
       "  LandContour Utilities  ... PoolArea PoolQC Fence MiscFeature MiscVal MoSold  \\\n",
       "0         Lvl    AllPub  ...        0    NaN   NaN         NaN       0      2   \n",
       "1         Lvl    AllPub  ...        0    NaN   NaN         NaN       0      5   \n",
       "2         Lvl    AllPub  ...        0    NaN   NaN         NaN       0      9   \n",
       "3         Lvl    AllPub  ...        0    NaN   NaN         NaN       0      2   \n",
       "4         Lvl    AllPub  ...        0    NaN   NaN         NaN       0     12   \n",
       "\n",
       "  YrSold  SaleType  SaleCondition  SalePrice  \n",
       "0   2008        WD         Normal     208500  \n",
       "1   2007        WD         Normal     181500  \n",
       "2   2008        WD         Normal     223500  \n",
       "3   2006        WD        Abnorml     140000  \n",
       "4   2008        WD         Normal     250000  \n",
       "\n",
       "[5 rows x 81 columns]"
      ]
     },
     "execution_count": 3,
     "metadata": {},
     "output_type": "execute_result"
    }
   ],
   "source": [
    "#df = pd.read_csv('./data/housing_iteration_3_classification.csv')\n",
    "df = pd.read_csv('./data/housing_iteration_6_regression.csv')\n",
    "df.head()"
   ]
  },
  {
   "cell_type": "code",
   "execution_count": 4,
   "id": "c17eed5d-a59d-416e-b2ee-10774e5aed03",
   "metadata": {},
   "outputs": [
    {
     "name": "stdout",
     "output_type": "stream",
     "text": [
      "<class 'pandas.core.frame.DataFrame'>\n",
      "RangeIndex: 1460 entries, 0 to 1459\n",
      "Data columns (total 81 columns):\n",
      " #   Column         Non-Null Count  Dtype  \n",
      "---  ------         --------------  -----  \n",
      " 0   Id             1460 non-null   int64  \n",
      " 1   MSSubClass     1460 non-null   int64  \n",
      " 2   MSZoning       1460 non-null   object \n",
      " 3   LotFrontage    1201 non-null   float64\n",
      " 4   LotArea        1460 non-null   int64  \n",
      " 5   Street         1460 non-null   object \n",
      " 6   Alley          91 non-null     object \n",
      " 7   LotShape       1460 non-null   object \n",
      " 8   LandContour    1460 non-null   object \n",
      " 9   Utilities      1460 non-null   object \n",
      " 10  LotConfig      1460 non-null   object \n",
      " 11  LandSlope      1460 non-null   object \n",
      " 12  Neighborhood   1460 non-null   object \n",
      " 13  Condition1     1460 non-null   object \n",
      " 14  Condition2     1460 non-null   object \n",
      " 15  BldgType       1460 non-null   object \n",
      " 16  HouseStyle     1460 non-null   object \n",
      " 17  OverallQual    1460 non-null   int64  \n",
      " 18  OverallCond    1460 non-null   int64  \n",
      " 19  YearBuilt      1460 non-null   int64  \n",
      " 20  YearRemodAdd   1460 non-null   int64  \n",
      " 21  RoofStyle      1460 non-null   object \n",
      " 22  RoofMatl       1460 non-null   object \n",
      " 23  Exterior1st    1460 non-null   object \n",
      " 24  Exterior2nd    1460 non-null   object \n",
      " 25  MasVnrType     588 non-null    object \n",
      " 26  MasVnrArea     1452 non-null   float64\n",
      " 27  ExterQual      1460 non-null   object \n",
      " 28  ExterCond      1460 non-null   object \n",
      " 29  Foundation     1460 non-null   object \n",
      " 30  BsmtQual       1423 non-null   object \n",
      " 31  BsmtCond       1423 non-null   object \n",
      " 32  BsmtExposure   1422 non-null   object \n",
      " 33  BsmtFinType1   1423 non-null   object \n",
      " 34  BsmtFinSF1     1460 non-null   int64  \n",
      " 35  BsmtFinType2   1422 non-null   object \n",
      " 36  BsmtFinSF2     1460 non-null   int64  \n",
      " 37  BsmtUnfSF      1460 non-null   int64  \n",
      " 38  TotalBsmtSF    1460 non-null   int64  \n",
      " 39  Heating        1460 non-null   object \n",
      " 40  HeatingQC      1460 non-null   object \n",
      " 41  CentralAir     1460 non-null   object \n",
      " 42  Electrical     1459 non-null   object \n",
      " 43  1stFlrSF       1460 non-null   int64  \n",
      " 44  2ndFlrSF       1460 non-null   int64  \n",
      " 45  LowQualFinSF   1460 non-null   int64  \n",
      " 46  GrLivArea      1460 non-null   int64  \n",
      " 47  BsmtFullBath   1460 non-null   int64  \n",
      " 48  BsmtHalfBath   1460 non-null   int64  \n",
      " 49  FullBath       1460 non-null   int64  \n",
      " 50  HalfBath       1460 non-null   int64  \n",
      " 51  BedroomAbvGr   1460 non-null   int64  \n",
      " 52  KitchenAbvGr   1460 non-null   int64  \n",
      " 53  KitchenQual    1460 non-null   object \n",
      " 54  TotRmsAbvGrd   1460 non-null   int64  \n",
      " 55  Functional     1460 non-null   object \n",
      " 56  Fireplaces     1460 non-null   int64  \n",
      " 57  FireplaceQu    770 non-null    object \n",
      " 58  GarageType     1379 non-null   object \n",
      " 59  GarageYrBlt    1379 non-null   float64\n",
      " 60  GarageFinish   1379 non-null   object \n",
      " 61  GarageCars     1460 non-null   int64  \n",
      " 62  GarageArea     1460 non-null   int64  \n",
      " 63  GarageQual     1379 non-null   object \n",
      " 64  GarageCond     1379 non-null   object \n",
      " 65  PavedDrive     1460 non-null   object \n",
      " 66  WoodDeckSF     1460 non-null   int64  \n",
      " 67  OpenPorchSF    1460 non-null   int64  \n",
      " 68  EnclosedPorch  1460 non-null   int64  \n",
      " 69  3SsnPorch      1460 non-null   int64  \n",
      " 70  ScreenPorch    1460 non-null   int64  \n",
      " 71  PoolArea       1460 non-null   int64  \n",
      " 72  PoolQC         7 non-null      object \n",
      " 73  Fence          281 non-null    object \n",
      " 74  MiscFeature    54 non-null     object \n",
      " 75  MiscVal        1460 non-null   int64  \n",
      " 76  MoSold         1460 non-null   int64  \n",
      " 77  YrSold         1460 non-null   int64  \n",
      " 78  SaleType       1460 non-null   object \n",
      " 79  SaleCondition  1460 non-null   object \n",
      " 80  SalePrice      1460 non-null   int64  \n",
      "dtypes: float64(3), int64(35), object(43)\n",
      "memory usage: 924.0+ KB\n"
     ]
    }
   ],
   "source": [
    "df.info()"
   ]
  },
  {
   "cell_type": "code",
   "execution_count": 5,
   "id": "d39eab04-a5a0-4255-93da-a64cff906728",
   "metadata": {},
   "outputs": [],
   "source": [
    "for col in df.select_dtypes(exclude=\"number\").columns:\n",
    "    #print(df[col].value_counts())\n",
    "    pass"
   ]
  },
  {
   "cell_type": "markdown",
   "id": "a61c93f9-3abb-44da-a2ba-981a7629fc7b",
   "metadata": {},
   "source": [
    "## Create intuitive dummy model\n",
    "\n",
    "As baseline, we can assume that LotArea is a good predictor for price. By eyeballing, we estimate a linear function that fits the data well. This is our intuitive baseline model."
   ]
  },
  {
   "cell_type": "code",
   "execution_count": 6,
   "id": "a76abb7e-51ad-4826-8a23-c3963e7f652b",
   "metadata": {},
   "outputs": [
    {
     "data": {
      "text/plain": [
       "50000"
      ]
     },
     "execution_count": 6,
     "metadata": {},
     "output_type": "execute_result"
    }
   ],
   "source": [
    "def dummy_model(area):\n",
    "    return 50 * area - 200000\n",
    "\n",
    "dummy_model(5000)"
   ]
  },
  {
   "cell_type": "code",
   "execution_count": 7,
   "id": "86656100-b1c7-4f69-be91-9fb98323e7c1",
   "metadata": {},
   "outputs": [
    {
     "data": {
      "image/png": "[encoded data removed]",
      "text/plain": [
       "<Figure size 500x500 with 1 Axes>"
      ]
     },
     "metadata": {},
     "output_type": "display_data"
    }
   ],
   "source": [
    "import seaborn as sns\n",
    "import matplotlib.pyplot as plt\n",
    "\n",
    "sns.relplot(data=df, x='LotArea', y='SalePrice')\n",
    "\n",
    "x1, x2 = 4000, 20000\n",
    "plt.plot([x1, x2],[dummy_model(x1), dummy_model(x2)], 'r');\n",
    "            "
   ]
  },
  {
   "cell_type": "markdown",
   "id": "24404060-9102-4b58-9b8e-c032532e43aa",
   "metadata": {},
   "source": [
    "## Train-test split"
   ]
  },
  {
   "cell_type": "code",
   "execution_count": 8,
   "id": "a8865545-d124-4aa1-bcb5-c5cb35101bbc",
   "metadata": {},
   "outputs": [],
   "source": [
    "# define X and y\n",
    "id = df.pop('Id')\n",
    "y = df.pop('SalePrice')\n",
    "X = df.copy()\n",
    "#X = X.drop(['Alley', 'PoolQC', 'MiscFeature'], axis=1)"
   ]
  },
  {
   "cell_type": "code",
   "execution_count": 9,
   "id": "322320b0-ded7-4fd3-801c-79c5e43c417c",
   "metadata": {},
   "outputs": [],
   "source": [
    "X_train, X_test, y_train, y_test = train_test_split(X, y, \n",
    "                                                    test_size=0.2, \n",
    "                                                   random_state=42)"
   ]
  },
  {
   "cell_type": "code",
   "execution_count": 10,
   "id": "25e93b8c-b72b-4b8f-9c13-9245179630c7",
   "metadata": {},
   "outputs": [],
   "source": [
    "#X_train.info()\n",
    "#y_test.info()"
   ]
  },
  {
   "cell_type": "code",
   "execution_count": 11,
   "id": "10de6e37-b9be-424a-8ee7-2a4a0551c112",
   "metadata": {},
   "outputs": [
    {
     "data": {
      "text/plain": [
       "892     220700\n",
       "1105    412800\n",
       "413     248000\n",
       "522      50000\n",
       "1036    444900\n",
       "         ...  \n",
       "479      96250\n",
       "1361    607900\n",
       "802     209950\n",
       "651     254200\n",
       "722     206000\n",
       "Name: LotArea, Length: 292, dtype: int64"
      ]
     },
     "execution_count": 11,
     "metadata": {},
     "output_type": "execute_result"
    }
   ],
   "source": [
    "# test dummy model\n",
    "dummy_y_test_pred = dummy_model(X_test['LotArea'])\n",
    "dummy_y_test_pred"
   ]
  },
  {
   "cell_type": "markdown",
   "id": "6bc63caa-23b7-4d4a-a057-48e7d629586c",
   "metadata": {},
   "source": [
    "## Assessing regression error"
   ]
  },
  {
   "cell_type": "code",
   "execution_count": 12,
   "id": "33a98c2a-1e78-4671-b5c7-36bcc0f68cc1",
   "metadata": {},
   "outputs": [
    {
     "name": "stdout",
     "output_type": "stream",
     "text": [
      "MAE 167837.20890410958\n",
      "RMSE 301210.36553406954\n",
      "MAPE 1.111223328965433\n",
      "R2 -10.828399712668753\n"
     ]
    },
    {
     "data": {
      "text/plain": [
       "{'MAE': 167837.20890410958,\n",
       " 'RMSE': 301210.36553406954,\n",
       " 'MAPE': 1.111223328965433,\n",
       " 'R2': -10.828399712668753}"
      ]
     },
     "execution_count": 12,
     "metadata": {},
     "output_type": "execute_result"
    }
   ],
   "source": [
    "from sklearn.metrics import mean_absolute_error\n",
    "from sklearn.metrics import mean_squared_error\n",
    "from sklearn.metrics import mean_absolute_percentage_error\n",
    "from sklearn.metrics import r2_score\n",
    "from sklearn.metrics import accuracy_score\n",
    "\n",
    "def calc_metrics(y_true, y_pred):\n",
    "    mae = mean_absolute_error(y_true = y_true,\n",
    "                              y_pred = y_pred)\n",
    "    \n",
    "    rmse = mean_squared_error(y_true = y_true,\n",
    "                              y_pred = y_pred,\n",
    "                              squared=False)\n",
    "\n",
    "    mape = mean_absolute_percentage_error(y_true = y_true,\n",
    "                                          y_pred = y_pred)\n",
    "    \n",
    "    r2 = r2_score(y_true = y_true, y_pred = y_pred)\n",
    "\n",
    "    metrics = {'MAE': mae, 'RMSE': rmse, 'MAPE': mape, 'R2': r2}\n",
    "    \n",
    "    print('MAE', mae)\n",
    "    print('RMSE', rmse)\n",
    "    print('MAPE', mape)\n",
    "    print('R2', r2)\n",
    "    \n",
    "    return metrics\n",
    "\n",
    "calc_metrics(y_test, dummy_y_test_pred)"
   ]
  },
  {
   "cell_type": "markdown",
   "id": "7dba222b-cbfe-4f41-bab4-b569e6a9b49c",
   "metadata": {},
   "source": [
    "## Build Pipeline"
   ]
  },
  {
   "cell_type": "markdown",
   "id": "291bd04d-7c26-40b2-8c9a-834affae8cae",
   "metadata": {},
   "source": [
    "### Define preprocessing steps"
   ]
  },
  {
   "cell_type": "code",
   "execution_count": 13,
   "id": "4bbd9a3c-ff08-4ff3-b8cd-0a1f70d2591e",
   "metadata": {},
   "outputs": [],
   "source": [
    "from sklearn.impute import SimpleImputer\n",
    "from sklearn.preprocessing import MinMaxScaler, OneHotEncoder, OrdinalEncoder\n",
    "from sklearn.compose import ColumnTransformer\n",
    "from sklearn.pipeline import Pipeline"
   ]
  },
  {
   "cell_type": "code",
   "execution_count": 14,
   "id": "962050d1-4916-4c38-90d2-0a66ce9c1d3a",
   "metadata": {},
   "outputs": [],
   "source": [
    "# select categorical and numerical column names\n",
    "X_cat_columns = X.select_dtypes(exclude=\"number\").columns\n",
    "X_num_columns = X.select_dtypes(include=\"number\").columns\n",
    "\n",
    "# create numerical pipeline, only with the SimpleImputer(strategy=\"mean\")\n",
    "numeric_pipe = Pipeline(\n",
    "    steps=[('num_imputer', SimpleImputer(strategy='median')), \n",
    "           ('num_scaler', MinMaxScaler())\n",
    "          ])\n",
    "\n",
    " # create categorical pipeline, with the SimpleImputer(fill_value=\"N_A\") and the OneHotEncoder\n",
    "categoric_pipe = Pipeline(\n",
    "    steps=[('cat_imputer', SimpleImputer(strategy='constant', \n",
    "                                         fill_value='na')), \n",
    "           ('cat_encoder', OneHotEncoder(drop='first', \n",
    "                                         sparse_output=False, \n",
    "                                         handle_unknown='ignore'))\n",
    "           #('cat_encoder', OrdinalEncoder())\n",
    "          ])"
   ]
  },
  {
   "cell_type": "code",
   "execution_count": 15,
   "id": "6662b492-b951-4452-9d1b-d1b3b35561ae",
   "metadata": {},
   "outputs": [],
   "source": [
    "preprocessor = ColumnTransformer(\n",
    "    transformers=[\n",
    "        ('num', numeric_pipe, X_num_columns), \n",
    "        ('cat', categoric_pipe, X_cat_columns)\n",
    "    ],\n",
    "    #remainder='passthrough'\n",
    ").set_output(transform='pandas')"
   ]
  },
  {
   "cell_type": "code",
   "execution_count": 16,
   "id": "fcd77062-053d-4157-859b-0785ef1e9078",
   "metadata": {},
   "outputs": [
    {
     "data": {
      "text/html": [
       "<style>#sk-container-id-1 {color: black;background-color: white;}#sk-container-id-1 pre{padding: 0;}#sk-container-id-1 div.sk-toggleable {background-color: white;}#sk-container-id-1 label.sk-toggleable__label {cursor: pointer;display: block;width: 100%;margin-bottom: 0;padding: 0.3em;box-sizing: border-box;text-align: center;}#sk-container-id-1 label.sk-toggleable__label-arrow:before {content: \"▸\";float: left;margin-right: 0.25em;color: #696969;}#sk-container-id-1 label.sk-toggleable__label-arrow:hover:before {color: black;}#sk-container-id-1 div.sk-estimator:hover label.sk-toggleable__label-arrow:before {color: black;}#sk-container-id-1 div.sk-toggleable__content {max-height: 0;max-width: 0;overflow: hidden;text-align: left;background-color: #f0f8ff;}#sk-container-id-1 div.sk-toggleable__content pre {margin: 0.2em;color: black;border-radius: 0.25em;background-color: #f0f8ff;}#sk-container-id-1 input.sk-toggleable__control:checked~div.sk-toggleable__content {max-height: 200px;max-width: 100%;overflow: auto;}#sk-container-id-1 input.sk-toggleable__control:checked~label.sk-toggleable__label-arrow:before {content: \"▾\";}#sk-container-id-1 div.sk-estimator input.sk-toggleable__control:checked~label.sk-toggleable__label {background-color: #d4ebff;}#sk-container-id-1 div.sk-label input.sk-toggleable__control:checked~label.sk-toggleable__label {background-color: #d4ebff;}#sk-container-id-1 input.sk-hidden--visually {border: 0;clip: rect(1px 1px 1px 1px);clip: rect(1px, 1px, 1px, 1px);height: 1px;margin: -1px;overflow: hidden;padding: 0;position: absolute;width: 1px;}#sk-container-id-1 div.sk-estimator {font-family: monospace;background-color: #f0f8ff;border: 1px dotted black;border-radius: 0.25em;box-sizing: border-box;margin-bottom: 0.5em;}#sk-container-id-1 div.sk-estimator:hover {background-color: #d4ebff;}#sk-container-id-1 div.sk-parallel-item::after {content: \"\";width: 100%;border-bottom: 1px solid gray;flex-grow: 1;}#sk-container-id-1 div.sk-label:hover label.sk-toggleable__label {background-color: #d4ebff;}#sk-container-id-1 div.sk-serial::before {content: \"\";position: absolute;border-left: 1px solid gray;box-sizing: border-box;top: 0;bottom: 0;left: 50%;z-index: 0;}#sk-container-id-1 div.sk-serial {display: flex;flex-direction: column;align-items: center;background-color: white;padding-right: 0.2em;padding-left: 0.2em;position: relative;}#sk-container-id-1 div.sk-item {position: relative;z-index: 1;}#sk-container-id-1 div.sk-parallel {display: flex;align-items: stretch;justify-content: center;background-color: white;position: relative;}#sk-container-id-1 div.sk-item::before, #sk-container-id-1 div.sk-parallel-item::before {content: \"\";position: absolute;border-left: 1px solid gray;box-sizing: border-box;top: 0;bottom: 0;left: 50%;z-index: -1;}#sk-container-id-1 div.sk-parallel-item {display: flex;flex-direction: column;z-index: 1;position: relative;background-color: white;}#sk-container-id-1 div.sk-parallel-item:first-child::after {align-self: flex-end;width: 50%;}#sk-container-id-1 div.sk-parallel-item:last-child::after {align-self: flex-start;width: 50%;}#sk-container-id-1 div.sk-parallel-item:only-child::after {width: 0;}#sk-container-id-1 div.sk-dashed-wrapped {border: 1px dashed gray;margin: 0 0.4em 0.5em 0.4em;box-sizing: border-box;padding-bottom: 0.4em;background-color: white;}#sk-container-id-1 div.sk-label label {font-family: monospace;font-weight: bold;display: inline-block;line-height: 1.2em;}#sk-container-id-1 div.sk-label-container {text-align: center;}#sk-container-id-1 div.sk-container {/* jupyter's `normalize.less` sets `[hidden] { display: none; }` but bootstrap.min.css set `[hidden] { display: none !important; }` so we also need the `!important` here to be able to override the default hidden behavior on the sphinx rendered scikit-learn.org. See: https://github.com/scikit-learn/scikit-learn/issues/21755 */display: inline-block !important;position: relative;}#sk-container-id-1 div.sk-text-repr-fallback {display: none;}</style><div id=\"sk-container-id-1\" class=\"sk-top-container\"><div class=\"sk-text-repr-fallback\"><pre>ColumnTransformer(transformers=[(&#x27;num&#x27;,\n",
       "                                 Pipeline(steps=[(&#x27;num_imputer&#x27;,\n",
       "                                                  SimpleImputer(strategy=&#x27;median&#x27;)),\n",
       "                                                 (&#x27;num_scaler&#x27;,\n",
       "                                                  MinMaxScaler())]),\n",
       "                                 Index([&#x27;MSSubClass&#x27;, &#x27;LotFrontage&#x27;, &#x27;LotArea&#x27;, &#x27;OverallQual&#x27;, &#x27;OverallCond&#x27;,\n",
       "       &#x27;YearBuilt&#x27;, &#x27;YearRemodAdd&#x27;, &#x27;MasVnrArea&#x27;, &#x27;BsmtFinSF1&#x27;, &#x27;BsmtFinSF2&#x27;,\n",
       "       &#x27;BsmtUnfSF&#x27;, &#x27;TotalBsmtSF&#x27;, &#x27;1stFlrSF&#x27;, &#x27;2ndFlrSF&#x27;, &#x27;LowQualFinSF&#x27;,\n",
       "       &#x27;GrLivArea&#x27;, &#x27;...\n",
       "       &#x27;Exterior2nd&#x27;, &#x27;MasVnrType&#x27;, &#x27;ExterQual&#x27;, &#x27;ExterCond&#x27;, &#x27;Foundation&#x27;,\n",
       "       &#x27;BsmtQual&#x27;, &#x27;BsmtCond&#x27;, &#x27;BsmtExposure&#x27;, &#x27;BsmtFinType1&#x27;, &#x27;BsmtFinType2&#x27;,\n",
       "       &#x27;Heating&#x27;, &#x27;HeatingQC&#x27;, &#x27;CentralAir&#x27;, &#x27;Electrical&#x27;, &#x27;KitchenQual&#x27;,\n",
       "       &#x27;Functional&#x27;, &#x27;FireplaceQu&#x27;, &#x27;GarageType&#x27;, &#x27;GarageFinish&#x27;, &#x27;GarageQual&#x27;,\n",
       "       &#x27;GarageCond&#x27;, &#x27;PavedDrive&#x27;, &#x27;PoolQC&#x27;, &#x27;Fence&#x27;, &#x27;MiscFeature&#x27;,\n",
       "       &#x27;SaleType&#x27;, &#x27;SaleCondition&#x27;],\n",
       "      dtype=&#x27;object&#x27;))])</pre><b>In a Jupyter environment, please rerun this cell to show the HTML representation or trust the notebook. <br />On GitHub, the HTML representation is unable to render, please try loading this page with nbviewer.org.</b></div><div class=\"sk-container\" hidden><div class=\"sk-item sk-dashed-wrapped\"><div class=\"sk-label-container\"><div class=\"sk-label sk-toggleable\"><input class=\"sk-toggleable__control sk-hidden--visually\" id=\"sk-estimator-id-1\" type=\"checkbox\" ><label for=\"sk-estimator-id-1\" class=\"sk-toggleable__label sk-toggleable__label-arrow\">ColumnTransformer</label><div class=\"sk-toggleable__content\"><pre>ColumnTransformer(transformers=[(&#x27;num&#x27;,\n",
       "                                 Pipeline(steps=[(&#x27;num_imputer&#x27;,\n",
       "                                                  SimpleImputer(strategy=&#x27;median&#x27;)),\n",
       "                                                 (&#x27;num_scaler&#x27;,\n",
       "                                                  MinMaxScaler())]),\n",
       "                                 Index([&#x27;MSSubClass&#x27;, &#x27;LotFrontage&#x27;, &#x27;LotArea&#x27;, &#x27;OverallQual&#x27;, &#x27;OverallCond&#x27;,\n",
       "       &#x27;YearBuilt&#x27;, &#x27;YearRemodAdd&#x27;, &#x27;MasVnrArea&#x27;, &#x27;BsmtFinSF1&#x27;, &#x27;BsmtFinSF2&#x27;,\n",
       "       &#x27;BsmtUnfSF&#x27;, &#x27;TotalBsmtSF&#x27;, &#x27;1stFlrSF&#x27;, &#x27;2ndFlrSF&#x27;, &#x27;LowQualFinSF&#x27;,\n",
       "       &#x27;GrLivArea&#x27;, &#x27;...\n",
       "       &#x27;Exterior2nd&#x27;, &#x27;MasVnrType&#x27;, &#x27;ExterQual&#x27;, &#x27;ExterCond&#x27;, &#x27;Foundation&#x27;,\n",
       "       &#x27;BsmtQual&#x27;, &#x27;BsmtCond&#x27;, &#x27;BsmtExposure&#x27;, &#x27;BsmtFinType1&#x27;, &#x27;BsmtFinType2&#x27;,\n",
       "       &#x27;Heating&#x27;, &#x27;HeatingQC&#x27;, &#x27;CentralAir&#x27;, &#x27;Electrical&#x27;, &#x27;KitchenQual&#x27;,\n",
       "       &#x27;Functional&#x27;, &#x27;FireplaceQu&#x27;, &#x27;GarageType&#x27;, &#x27;GarageFinish&#x27;, &#x27;GarageQual&#x27;,\n",
       "       &#x27;GarageCond&#x27;, &#x27;PavedDrive&#x27;, &#x27;PoolQC&#x27;, &#x27;Fence&#x27;, &#x27;MiscFeature&#x27;,\n",
       "       &#x27;SaleType&#x27;, &#x27;SaleCondition&#x27;],\n",
       "      dtype=&#x27;object&#x27;))])</pre></div></div></div><div class=\"sk-parallel\"><div class=\"sk-parallel-item\"><div class=\"sk-item\"><div class=\"sk-label-container\"><div class=\"sk-label sk-toggleable\"><input class=\"sk-toggleable__control sk-hidden--visually\" id=\"sk-estimator-id-2\" type=\"checkbox\" ><label for=\"sk-estimator-id-2\" class=\"sk-toggleable__label sk-toggleable__label-arrow\">num</label><div class=\"sk-toggleable__content\"><pre>Index([&#x27;MSSubClass&#x27;, &#x27;LotFrontage&#x27;, &#x27;LotArea&#x27;, &#x27;OverallQual&#x27;, &#x27;OverallCond&#x27;,\n",
       "       &#x27;YearBuilt&#x27;, &#x27;YearRemodAdd&#x27;, &#x27;MasVnrArea&#x27;, &#x27;BsmtFinSF1&#x27;, &#x27;BsmtFinSF2&#x27;,\n",
       "       &#x27;BsmtUnfSF&#x27;, &#x27;TotalBsmtSF&#x27;, &#x27;1stFlrSF&#x27;, &#x27;2ndFlrSF&#x27;, &#x27;LowQualFinSF&#x27;,\n",
       "       &#x27;GrLivArea&#x27;, &#x27;BsmtFullBath&#x27;, &#x27;BsmtHalfBath&#x27;, &#x27;FullBath&#x27;, &#x27;HalfBath&#x27;,\n",
       "       &#x27;BedroomAbvGr&#x27;, &#x27;KitchenAbvGr&#x27;, &#x27;TotRmsAbvGrd&#x27;, &#x27;Fireplaces&#x27;,\n",
       "       &#x27;GarageYrBlt&#x27;, &#x27;GarageCars&#x27;, &#x27;GarageArea&#x27;, &#x27;WoodDeckSF&#x27;, &#x27;OpenPorchSF&#x27;,\n",
       "       &#x27;EnclosedPorch&#x27;, &#x27;3SsnPorch&#x27;, &#x27;ScreenPorch&#x27;, &#x27;PoolArea&#x27;, &#x27;MiscVal&#x27;,\n",
       "       &#x27;MoSold&#x27;, &#x27;YrSold&#x27;],\n",
       "      dtype=&#x27;object&#x27;)</pre></div></div></div><div class=\"sk-serial\"><div class=\"sk-item\"><div class=\"sk-serial\"><div class=\"sk-item\"><div class=\"sk-estimator sk-toggleable\"><input class=\"sk-toggleable__control sk-hidden--visually\" id=\"sk-estimator-id-3\" type=\"checkbox\" ><label for=\"sk-estimator-id-3\" class=\"sk-toggleable__label sk-toggleable__label-arrow\">SimpleImputer</label><div class=\"sk-toggleable__content\"><pre>SimpleImputer(strategy=&#x27;median&#x27;)</pre></div></div></div><div class=\"sk-item\"><div class=\"sk-estimator sk-toggleable\"><input class=\"sk-toggleable__control sk-hidden--visually\" id=\"sk-estimator-id-4\" type=\"checkbox\" ><label for=\"sk-estimator-id-4\" class=\"sk-toggleable__label sk-toggleable__label-arrow\">MinMaxScaler</label><div class=\"sk-toggleable__content\"><pre>MinMaxScaler()</pre></div></div></div></div></div></div></div></div><div class=\"sk-parallel-item\"><div class=\"sk-item\"><div class=\"sk-label-container\"><div class=\"sk-label sk-toggleable\"><input class=\"sk-toggleable__control sk-hidden--visually\" id=\"sk-estimator-id-5\" type=\"checkbox\" ><label for=\"sk-estimator-id-5\" class=\"sk-toggleable__label sk-toggleable__label-arrow\">cat</label><div class=\"sk-toggleable__content\"><pre>Index([&#x27;MSZoning&#x27;, &#x27;Street&#x27;, &#x27;Alley&#x27;, &#x27;LotShape&#x27;, &#x27;LandContour&#x27;, &#x27;Utilities&#x27;,\n",
       "       &#x27;LotConfig&#x27;, &#x27;LandSlope&#x27;, &#x27;Neighborhood&#x27;, &#x27;Condition1&#x27;, &#x27;Condition2&#x27;,\n",
       "       &#x27;BldgType&#x27;, &#x27;HouseStyle&#x27;, &#x27;RoofStyle&#x27;, &#x27;RoofMatl&#x27;, &#x27;Exterior1st&#x27;,\n",
       "       &#x27;Exterior2nd&#x27;, &#x27;MasVnrType&#x27;, &#x27;ExterQual&#x27;, &#x27;ExterCond&#x27;, &#x27;Foundation&#x27;,\n",
       "       &#x27;BsmtQual&#x27;, &#x27;BsmtCond&#x27;, &#x27;BsmtExposure&#x27;, &#x27;BsmtFinType1&#x27;, &#x27;BsmtFinType2&#x27;,\n",
       "       &#x27;Heating&#x27;, &#x27;HeatingQC&#x27;, &#x27;CentralAir&#x27;, &#x27;Electrical&#x27;, &#x27;KitchenQual&#x27;,\n",
       "       &#x27;Functional&#x27;, &#x27;FireplaceQu&#x27;, &#x27;GarageType&#x27;, &#x27;GarageFinish&#x27;, &#x27;GarageQual&#x27;,\n",
       "       &#x27;GarageCond&#x27;, &#x27;PavedDrive&#x27;, &#x27;PoolQC&#x27;, &#x27;Fence&#x27;, &#x27;MiscFeature&#x27;,\n",
       "       &#x27;SaleType&#x27;, &#x27;SaleCondition&#x27;],\n",
       "      dtype=&#x27;object&#x27;)</pre></div></div></div><div class=\"sk-serial\"><div class=\"sk-item\"><div class=\"sk-serial\"><div class=\"sk-item\"><div class=\"sk-estimator sk-toggleable\"><input class=\"sk-toggleable__control sk-hidden--visually\" id=\"sk-estimator-id-6\" type=\"checkbox\" ><label for=\"sk-estimator-id-6\" class=\"sk-toggleable__label sk-toggleable__label-arrow\">SimpleImputer</label><div class=\"sk-toggleable__content\"><pre>SimpleImputer(fill_value=&#x27;na&#x27;, strategy=&#x27;constant&#x27;)</pre></div></div></div><div class=\"sk-item\"><div class=\"sk-estimator sk-toggleable\"><input class=\"sk-toggleable__control sk-hidden--visually\" id=\"sk-estimator-id-7\" type=\"checkbox\" ><label for=\"sk-estimator-id-7\" class=\"sk-toggleable__label sk-toggleable__label-arrow\">OneHotEncoder</label><div class=\"sk-toggleable__content\"><pre>OneHotEncoder(drop=&#x27;first&#x27;, handle_unknown=&#x27;ignore&#x27;, sparse_output=False)</pre></div></div></div></div></div></div></div></div></div></div></div></div>"
      ],
      "text/plain": [
       "ColumnTransformer(transformers=[('num',\n",
       "                                 Pipeline(steps=[('num_imputer',\n",
       "                                                  SimpleImputer(strategy='median')),\n",
       "                                                 ('num_scaler',\n",
       "                                                  MinMaxScaler())]),\n",
       "                                 Index(['MSSubClass', 'LotFrontage', 'LotArea', 'OverallQual', 'OverallCond',\n",
       "       'YearBuilt', 'YearRemodAdd', 'MasVnrArea', 'BsmtFinSF1', 'BsmtFinSF2',\n",
       "       'BsmtUnfSF', 'TotalBsmtSF', '1stFlrSF', '2ndFlrSF', 'LowQualFinSF',\n",
       "       'GrLivArea', '...\n",
       "       'Exterior2nd', 'MasVnrType', 'ExterQual', 'ExterCond', 'Foundation',\n",
       "       'BsmtQual', 'BsmtCond', 'BsmtExposure', 'BsmtFinType1', 'BsmtFinType2',\n",
       "       'Heating', 'HeatingQC', 'CentralAir', 'Electrical', 'KitchenQual',\n",
       "       'Functional', 'FireplaceQu', 'GarageType', 'GarageFinish', 'GarageQual',\n",
       "       'GarageCond', 'PavedDrive', 'PoolQC', 'Fence', 'MiscFeature',\n",
       "       'SaleType', 'SaleCondition'],\n",
       "      dtype='object'))])"
      ]
     },
     "execution_count": 16,
     "metadata": {},
     "output_type": "execute_result"
    }
   ],
   "source": [
    "preprocessor"
   ]
  },
  {
   "cell_type": "markdown",
   "id": "cb85ae86-d521-4dd3-b757-16b2bedeb25b",
   "metadata": {},
   "source": [
    "### Define regressors to test"
   ]
  },
  {
   "cell_type": "code",
   "execution_count": 37,
   "id": "2ed28695-a24b-4d13-af38-8d2a3e58f856",
   "metadata": {},
   "outputs": [],
   "source": [
    "from sklearn.preprocessing import StandardScaler, OrdinalEncoder\n",
    "from sklearn.tree import DecisionTreeRegressor\n",
    "from sklearn.linear_model import LinearRegression, SGDRegressor\n",
    "from sklearn.feature_selection import SelectKBest, f_regression, RFECV, SelectFromModel"
   ]
  },
  {
   "cell_type": "code",
   "execution_count": 77,
   "id": "111d79bd-9f55-42c2-ba27-f431630c37d5",
   "metadata": {},
   "outputs": [],
   "source": [
    "regressors = [\n",
    "    ('DecisionTree', DecisionTreeRegressor()),\n",
    "    ('SGD', SGDRegressor()),\n",
    "    ('LinReg', LinearRegression())\n",
    "]"
   ]
  },
  {
   "cell_type": "markdown",
   "id": "ced768c2-a2e3-4737-a45d-67732bfd49b8",
   "metadata": {},
   "source": [
    "### Create a pipeline for each classifier"
   ]
  },
  {
   "cell_type": "code",
   "execution_count": 79,
   "id": "3c3ab305-b1bd-4553-97f2-96e334ea12da",
   "metadata": {},
   "outputs": [],
   "source": [
    "pipelines = {}\n",
    "for name, reg in regressors:\n",
    "    pipeline = Pipeline([\n",
    "        ('preprocessor', preprocessor),\n",
    "        ('selector', SelectKBest(score_func=f_regression)),\n",
    "        #('selector', RFECV(estimator=DecisionTreeRegressor())),\n",
    "        #('selector', SelectFromModel(DecisionTreeRegressor())),\n",
    "        ('regressor', reg)\n",
    "     ])\n",
    "    pipelines[name] = pipeline\n"
   ]
  },
  {
   "cell_type": "code",
   "execution_count": 80,
   "id": "bffe6d18-2be8-47bd-88d8-fd57d2271779",
   "metadata": {},
   "outputs": [
    {
     "data": {
      "text/html": [
       "<style>#sk-container-id-6 {color: black;background-color: white;}#sk-container-id-6 pre{padding: 0;}#sk-container-id-6 div.sk-toggleable {background-color: white;}#sk-container-id-6 label.sk-toggleable__label {cursor: pointer;display: block;width: 100%;margin-bottom: 0;padding: 0.3em;box-sizing: border-box;text-align: center;}#sk-container-id-6 label.sk-toggleable__label-arrow:before {content: \"▸\";float: left;margin-right: 0.25em;color: #696969;}#sk-container-id-6 label.sk-toggleable__label-arrow:hover:before {color: black;}#sk-container-id-6 div.sk-estimator:hover label.sk-toggleable__label-arrow:before {color: black;}#sk-container-id-6 div.sk-toggleable__content {max-height: 0;max-width: 0;overflow: hidden;text-align: left;background-color: #f0f8ff;}#sk-container-id-6 div.sk-toggleable__content pre {margin: 0.2em;color: black;border-radius: 0.25em;background-color: #f0f8ff;}#sk-container-id-6 input.sk-toggleable__control:checked~div.sk-toggleable__content {max-height: 200px;max-width: 100%;overflow: auto;}#sk-container-id-6 input.sk-toggleable__control:checked~label.sk-toggleable__label-arrow:before {content: \"▾\";}#sk-container-id-6 div.sk-estimator input.sk-toggleable__control:checked~label.sk-toggleable__label {background-color: #d4ebff;}#sk-container-id-6 div.sk-label input.sk-toggleable__control:checked~label.sk-toggleable__label {background-color: #d4ebff;}#sk-container-id-6 input.sk-hidden--visually {border: 0;clip: rect(1px 1px 1px 1px);clip: rect(1px, 1px, 1px, 1px);height: 1px;margin: -1px;overflow: hidden;padding: 0;position: absolute;width: 1px;}#sk-container-id-6 div.sk-estimator {font-family: monospace;background-color: #f0f8ff;border: 1px dotted black;border-radius: 0.25em;box-sizing: border-box;margin-bottom: 0.5em;}#sk-container-id-6 div.sk-estimator:hover {background-color: #d4ebff;}#sk-container-id-6 div.sk-parallel-item::after {content: \"\";width: 100%;border-bottom: 1px solid gray;flex-grow: 1;}#sk-container-id-6 div.sk-label:hover label.sk-toggleable__label {background-color: #d4ebff;}#sk-container-id-6 div.sk-serial::before {content: \"\";position: absolute;border-left: 1px solid gray;box-sizing: border-box;top: 0;bottom: 0;left: 50%;z-index: 0;}#sk-container-id-6 div.sk-serial {display: flex;flex-direction: column;align-items: center;background-color: white;padding-right: 0.2em;padding-left: 0.2em;position: relative;}#sk-container-id-6 div.sk-item {position: relative;z-index: 1;}#sk-container-id-6 div.sk-parallel {display: flex;align-items: stretch;justify-content: center;background-color: white;position: relative;}#sk-container-id-6 div.sk-item::before, #sk-container-id-6 div.sk-parallel-item::before {content: \"\";position: absolute;border-left: 1px solid gray;box-sizing: border-box;top: 0;bottom: 0;left: 50%;z-index: -1;}#sk-container-id-6 div.sk-parallel-item {display: flex;flex-direction: column;z-index: 1;position: relative;background-color: white;}#sk-container-id-6 div.sk-parallel-item:first-child::after {align-self: flex-end;width: 50%;}#sk-container-id-6 div.sk-parallel-item:last-child::after {align-self: flex-start;width: 50%;}#sk-container-id-6 div.sk-parallel-item:only-child::after {width: 0;}#sk-container-id-6 div.sk-dashed-wrapped {border: 1px dashed gray;margin: 0 0.4em 0.5em 0.4em;box-sizing: border-box;padding-bottom: 0.4em;background-color: white;}#sk-container-id-6 div.sk-label label {font-family: monospace;font-weight: bold;display: inline-block;line-height: 1.2em;}#sk-container-id-6 div.sk-label-container {text-align: center;}#sk-container-id-6 div.sk-container {/* jupyter's `normalize.less` sets `[hidden] { display: none; }` but bootstrap.min.css set `[hidden] { display: none !important; }` so we also need the `!important` here to be able to override the default hidden behavior on the sphinx rendered scikit-learn.org. See: https://github.com/scikit-learn/scikit-learn/issues/21755 */display: inline-block !important;position: relative;}#sk-container-id-6 div.sk-text-repr-fallback {display: none;}</style><div id=\"sk-container-id-6\" class=\"sk-top-container\"><div class=\"sk-text-repr-fallback\"><pre>Pipeline(steps=[(&#x27;preprocessor&#x27;,\n",
       "                 ColumnTransformer(transformers=[(&#x27;num&#x27;,\n",
       "                                                  Pipeline(steps=[(&#x27;num_imputer&#x27;,\n",
       "                                                                   SimpleImputer(strategy=&#x27;median&#x27;)),\n",
       "                                                                  (&#x27;num_scaler&#x27;,\n",
       "                                                                   MinMaxScaler())]),\n",
       "                                                  Index([&#x27;MSSubClass&#x27;, &#x27;LotFrontage&#x27;, &#x27;LotArea&#x27;, &#x27;OverallQual&#x27;, &#x27;OverallCond&#x27;,\n",
       "       &#x27;YearBuilt&#x27;, &#x27;YearRemodAdd&#x27;, &#x27;MasVnrArea&#x27;, &#x27;BsmtFinSF1&#x27;, &#x27;BsmtFinSF2&#x27;,\n",
       "       &#x27;BsmtUnfSF&#x27;, &#x27;TotalBsmtSF&#x27;, &#x27;1stFlrSF&#x27;, &#x27;2ndFlr...\n",
       "       &#x27;Heating&#x27;, &#x27;HeatingQC&#x27;, &#x27;CentralAir&#x27;, &#x27;Electrical&#x27;, &#x27;KitchenQual&#x27;,\n",
       "       &#x27;Functional&#x27;, &#x27;FireplaceQu&#x27;, &#x27;GarageType&#x27;, &#x27;GarageFinish&#x27;, &#x27;GarageQual&#x27;,\n",
       "       &#x27;GarageCond&#x27;, &#x27;PavedDrive&#x27;, &#x27;PoolQC&#x27;, &#x27;Fence&#x27;, &#x27;MiscFeature&#x27;,\n",
       "       &#x27;SaleType&#x27;, &#x27;SaleCondition&#x27;],\n",
       "      dtype=&#x27;object&#x27;))])),\n",
       "                (&#x27;selector&#x27;,\n",
       "                 SelectKBest(score_func=&lt;function f_regression at 0x7f675fa31e40&gt;)),\n",
       "                (&#x27;regressor&#x27;, DecisionTreeRegressor())])</pre><b>In a Jupyter environment, please rerun this cell to show the HTML representation or trust the notebook. <br />On GitHub, the HTML representation is unable to render, please try loading this page with nbviewer.org.</b></div><div class=\"sk-container\" hidden><div class=\"sk-item sk-dashed-wrapped\"><div class=\"sk-label-container\"><div class=\"sk-label sk-toggleable\"><input class=\"sk-toggleable__control sk-hidden--visually\" id=\"sk-estimator-id-52\" type=\"checkbox\" ><label for=\"sk-estimator-id-52\" class=\"sk-toggleable__label sk-toggleable__label-arrow\">Pipeline</label><div class=\"sk-toggleable__content\"><pre>Pipeline(steps=[(&#x27;preprocessor&#x27;,\n",
       "                 ColumnTransformer(transformers=[(&#x27;num&#x27;,\n",
       "                                                  Pipeline(steps=[(&#x27;num_imputer&#x27;,\n",
       "                                                                   SimpleImputer(strategy=&#x27;median&#x27;)),\n",
       "                                                                  (&#x27;num_scaler&#x27;,\n",
       "                                                                   MinMaxScaler())]),\n",
       "                                                  Index([&#x27;MSSubClass&#x27;, &#x27;LotFrontage&#x27;, &#x27;LotArea&#x27;, &#x27;OverallQual&#x27;, &#x27;OverallCond&#x27;,\n",
       "       &#x27;YearBuilt&#x27;, &#x27;YearRemodAdd&#x27;, &#x27;MasVnrArea&#x27;, &#x27;BsmtFinSF1&#x27;, &#x27;BsmtFinSF2&#x27;,\n",
       "       &#x27;BsmtUnfSF&#x27;, &#x27;TotalBsmtSF&#x27;, &#x27;1stFlrSF&#x27;, &#x27;2ndFlr...\n",
       "       &#x27;Heating&#x27;, &#x27;HeatingQC&#x27;, &#x27;CentralAir&#x27;, &#x27;Electrical&#x27;, &#x27;KitchenQual&#x27;,\n",
       "       &#x27;Functional&#x27;, &#x27;FireplaceQu&#x27;, &#x27;GarageType&#x27;, &#x27;GarageFinish&#x27;, &#x27;GarageQual&#x27;,\n",
       "       &#x27;GarageCond&#x27;, &#x27;PavedDrive&#x27;, &#x27;PoolQC&#x27;, &#x27;Fence&#x27;, &#x27;MiscFeature&#x27;,\n",
       "       &#x27;SaleType&#x27;, &#x27;SaleCondition&#x27;],\n",
       "      dtype=&#x27;object&#x27;))])),\n",
       "                (&#x27;selector&#x27;,\n",
       "                 SelectKBest(score_func=&lt;function f_regression at 0x7f675fa31e40&gt;)),\n",
       "                (&#x27;regressor&#x27;, DecisionTreeRegressor())])</pre></div></div></div><div class=\"sk-serial\"><div class=\"sk-item sk-dashed-wrapped\"><div class=\"sk-label-container\"><div class=\"sk-label sk-toggleable\"><input class=\"sk-toggleable__control sk-hidden--visually\" id=\"sk-estimator-id-53\" type=\"checkbox\" ><label for=\"sk-estimator-id-53\" class=\"sk-toggleable__label sk-toggleable__label-arrow\">preprocessor: ColumnTransformer</label><div class=\"sk-toggleable__content\"><pre>ColumnTransformer(transformers=[(&#x27;num&#x27;,\n",
       "                                 Pipeline(steps=[(&#x27;num_imputer&#x27;,\n",
       "                                                  SimpleImputer(strategy=&#x27;median&#x27;)),\n",
       "                                                 (&#x27;num_scaler&#x27;,\n",
       "                                                  MinMaxScaler())]),\n",
       "                                 Index([&#x27;MSSubClass&#x27;, &#x27;LotFrontage&#x27;, &#x27;LotArea&#x27;, &#x27;OverallQual&#x27;, &#x27;OverallCond&#x27;,\n",
       "       &#x27;YearBuilt&#x27;, &#x27;YearRemodAdd&#x27;, &#x27;MasVnrArea&#x27;, &#x27;BsmtFinSF1&#x27;, &#x27;BsmtFinSF2&#x27;,\n",
       "       &#x27;BsmtUnfSF&#x27;, &#x27;TotalBsmtSF&#x27;, &#x27;1stFlrSF&#x27;, &#x27;2ndFlrSF&#x27;, &#x27;LowQualFinSF&#x27;,\n",
       "       &#x27;GrLivArea&#x27;, &#x27;...\n",
       "       &#x27;Exterior2nd&#x27;, &#x27;MasVnrType&#x27;, &#x27;ExterQual&#x27;, &#x27;ExterCond&#x27;, &#x27;Foundation&#x27;,\n",
       "       &#x27;BsmtQual&#x27;, &#x27;BsmtCond&#x27;, &#x27;BsmtExposure&#x27;, &#x27;BsmtFinType1&#x27;, &#x27;BsmtFinType2&#x27;,\n",
       "       &#x27;Heating&#x27;, &#x27;HeatingQC&#x27;, &#x27;CentralAir&#x27;, &#x27;Electrical&#x27;, &#x27;KitchenQual&#x27;,\n",
       "       &#x27;Functional&#x27;, &#x27;FireplaceQu&#x27;, &#x27;GarageType&#x27;, &#x27;GarageFinish&#x27;, &#x27;GarageQual&#x27;,\n",
       "       &#x27;GarageCond&#x27;, &#x27;PavedDrive&#x27;, &#x27;PoolQC&#x27;, &#x27;Fence&#x27;, &#x27;MiscFeature&#x27;,\n",
       "       &#x27;SaleType&#x27;, &#x27;SaleCondition&#x27;],\n",
       "      dtype=&#x27;object&#x27;))])</pre></div></div></div><div class=\"sk-parallel\"><div class=\"sk-parallel-item\"><div class=\"sk-item\"><div class=\"sk-label-container\"><div class=\"sk-label sk-toggleable\"><input class=\"sk-toggleable__control sk-hidden--visually\" id=\"sk-estimator-id-54\" type=\"checkbox\" ><label for=\"sk-estimator-id-54\" class=\"sk-toggleable__label sk-toggleable__label-arrow\">num</label><div class=\"sk-toggleable__content\"><pre>Index([&#x27;MSSubClass&#x27;, &#x27;LotFrontage&#x27;, &#x27;LotArea&#x27;, &#x27;OverallQual&#x27;, &#x27;OverallCond&#x27;,\n",
       "       &#x27;YearBuilt&#x27;, &#x27;YearRemodAdd&#x27;, &#x27;MasVnrArea&#x27;, &#x27;BsmtFinSF1&#x27;, &#x27;BsmtFinSF2&#x27;,\n",
       "       &#x27;BsmtUnfSF&#x27;, &#x27;TotalBsmtSF&#x27;, &#x27;1stFlrSF&#x27;, &#x27;2ndFlrSF&#x27;, &#x27;LowQualFinSF&#x27;,\n",
       "       &#x27;GrLivArea&#x27;, &#x27;BsmtFullBath&#x27;, &#x27;BsmtHalfBath&#x27;, &#x27;FullBath&#x27;, &#x27;HalfBath&#x27;,\n",
       "       &#x27;BedroomAbvGr&#x27;, &#x27;KitchenAbvGr&#x27;, &#x27;TotRmsAbvGrd&#x27;, &#x27;Fireplaces&#x27;,\n",
       "       &#x27;GarageYrBlt&#x27;, &#x27;GarageCars&#x27;, &#x27;GarageArea&#x27;, &#x27;WoodDeckSF&#x27;, &#x27;OpenPorchSF&#x27;,\n",
       "       &#x27;EnclosedPorch&#x27;, &#x27;3SsnPorch&#x27;, &#x27;ScreenPorch&#x27;, &#x27;PoolArea&#x27;, &#x27;MiscVal&#x27;,\n",
       "       &#x27;MoSold&#x27;, &#x27;YrSold&#x27;],\n",
       "      dtype=&#x27;object&#x27;)</pre></div></div></div><div class=\"sk-serial\"><div class=\"sk-item\"><div class=\"sk-serial\"><div class=\"sk-item\"><div class=\"sk-estimator sk-toggleable\"><input class=\"sk-toggleable__control sk-hidden--visually\" id=\"sk-estimator-id-55\" type=\"checkbox\" ><label for=\"sk-estimator-id-55\" class=\"sk-toggleable__label sk-toggleable__label-arrow\">SimpleImputer</label><div class=\"sk-toggleable__content\"><pre>SimpleImputer(strategy=&#x27;median&#x27;)</pre></div></div></div><div class=\"sk-item\"><div class=\"sk-estimator sk-toggleable\"><input class=\"sk-toggleable__control sk-hidden--visually\" id=\"sk-estimator-id-56\" type=\"checkbox\" ><label for=\"sk-estimator-id-56\" class=\"sk-toggleable__label sk-toggleable__label-arrow\">MinMaxScaler</label><div class=\"sk-toggleable__content\"><pre>MinMaxScaler()</pre></div></div></div></div></div></div></div></div><div class=\"sk-parallel-item\"><div class=\"sk-item\"><div class=\"sk-label-container\"><div class=\"sk-label sk-toggleable\"><input class=\"sk-toggleable__control sk-hidden--visually\" id=\"sk-estimator-id-57\" type=\"checkbox\" ><label for=\"sk-estimator-id-57\" class=\"sk-toggleable__label sk-toggleable__label-arrow\">cat</label><div class=\"sk-toggleable__content\"><pre>Index([&#x27;MSZoning&#x27;, &#x27;Street&#x27;, &#x27;Alley&#x27;, &#x27;LotShape&#x27;, &#x27;LandContour&#x27;, &#x27;Utilities&#x27;,\n",
       "       &#x27;LotConfig&#x27;, &#x27;LandSlope&#x27;, &#x27;Neighborhood&#x27;, &#x27;Condition1&#x27;, &#x27;Condition2&#x27;,\n",
       "       &#x27;BldgType&#x27;, &#x27;HouseStyle&#x27;, &#x27;RoofStyle&#x27;, &#x27;RoofMatl&#x27;, &#x27;Exterior1st&#x27;,\n",
       "       &#x27;Exterior2nd&#x27;, &#x27;MasVnrType&#x27;, &#x27;ExterQual&#x27;, &#x27;ExterCond&#x27;, &#x27;Foundation&#x27;,\n",
       "       &#x27;BsmtQual&#x27;, &#x27;BsmtCond&#x27;, &#x27;BsmtExposure&#x27;, &#x27;BsmtFinType1&#x27;, &#x27;BsmtFinType2&#x27;,\n",
       "       &#x27;Heating&#x27;, &#x27;HeatingQC&#x27;, &#x27;CentralAir&#x27;, &#x27;Electrical&#x27;, &#x27;KitchenQual&#x27;,\n",
       "       &#x27;Functional&#x27;, &#x27;FireplaceQu&#x27;, &#x27;GarageType&#x27;, &#x27;GarageFinish&#x27;, &#x27;GarageQual&#x27;,\n",
       "       &#x27;GarageCond&#x27;, &#x27;PavedDrive&#x27;, &#x27;PoolQC&#x27;, &#x27;Fence&#x27;, &#x27;MiscFeature&#x27;,\n",
       "       &#x27;SaleType&#x27;, &#x27;SaleCondition&#x27;],\n",
       "      dtype=&#x27;object&#x27;)</pre></div></div></div><div class=\"sk-serial\"><div class=\"sk-item\"><div class=\"sk-serial\"><div class=\"sk-item\"><div class=\"sk-estimator sk-toggleable\"><input class=\"sk-toggleable__control sk-hidden--visually\" id=\"sk-estimator-id-58\" type=\"checkbox\" ><label for=\"sk-estimator-id-58\" class=\"sk-toggleable__label sk-toggleable__label-arrow\">SimpleImputer</label><div class=\"sk-toggleable__content\"><pre>SimpleImputer(fill_value=&#x27;na&#x27;, strategy=&#x27;constant&#x27;)</pre></div></div></div><div class=\"sk-item\"><div class=\"sk-estimator sk-toggleable\"><input class=\"sk-toggleable__control sk-hidden--visually\" id=\"sk-estimator-id-59\" type=\"checkbox\" ><label for=\"sk-estimator-id-59\" class=\"sk-toggleable__label sk-toggleable__label-arrow\">OneHotEncoder</label><div class=\"sk-toggleable__content\"><pre>OneHotEncoder(drop=&#x27;first&#x27;, handle_unknown=&#x27;ignore&#x27;, sparse_output=False)</pre></div></div></div></div></div></div></div></div></div></div><div class=\"sk-item\"><div class=\"sk-estimator sk-toggleable\"><input class=\"sk-toggleable__control sk-hidden--visually\" id=\"sk-estimator-id-60\" type=\"checkbox\" ><label for=\"sk-estimator-id-60\" class=\"sk-toggleable__label sk-toggleable__label-arrow\">SelectKBest</label><div class=\"sk-toggleable__content\"><pre>SelectKBest(score_func=&lt;function f_regression at 0x7f675fa31e40&gt;)</pre></div></div></div><div class=\"sk-item\"><div class=\"sk-estimator sk-toggleable\"><input class=\"sk-toggleable__control sk-hidden--visually\" id=\"sk-estimator-id-61\" type=\"checkbox\" ><label for=\"sk-estimator-id-61\" class=\"sk-toggleable__label sk-toggleable__label-arrow\">DecisionTreeRegressor</label><div class=\"sk-toggleable__content\"><pre>DecisionTreeRegressor()</pre></div></div></div></div></div></div></div>"
      ],
      "text/plain": [
       "Pipeline(steps=[('preprocessor',\n",
       "                 ColumnTransformer(transformers=[('num',\n",
       "                                                  Pipeline(steps=[('num_imputer',\n",
       "                                                                   SimpleImputer(strategy='median')),\n",
       "                                                                  ('num_scaler',\n",
       "                                                                   MinMaxScaler())]),\n",
       "                                                  Index(['MSSubClass', 'LotFrontage', 'LotArea', 'OverallQual', 'OverallCond',\n",
       "       'YearBuilt', 'YearRemodAdd', 'MasVnrArea', 'BsmtFinSF1', 'BsmtFinSF2',\n",
       "       'BsmtUnfSF', 'TotalBsmtSF', '1stFlrSF', '2ndFlr...\n",
       "       'Heating', 'HeatingQC', 'CentralAir', 'Electrical', 'KitchenQual',\n",
       "       'Functional', 'FireplaceQu', 'GarageType', 'GarageFinish', 'GarageQual',\n",
       "       'GarageCond', 'PavedDrive', 'PoolQC', 'Fence', 'MiscFeature',\n",
       "       'SaleType', 'SaleCondition'],\n",
       "      dtype='object'))])),\n",
       "                ('selector',\n",
       "                 SelectKBest(score_func=<function f_regression at 0x7f675fa31e40>)),\n",
       "                ('regressor', DecisionTreeRegressor())])"
      ]
     },
     "execution_count": 80,
     "metadata": {},
     "output_type": "execute_result"
    }
   ],
   "source": [
    "pipelines['DecisionTree']"
   ]
  },
  {
   "cell_type": "markdown",
   "id": "49f4baea-4913-4a99-897d-b8d1ccc6f4f5",
   "metadata": {},
   "source": [
    "## Inspect models"
   ]
  },
  {
   "cell_type": "code",
   "execution_count": 81,
   "id": "b99dc8eb-98c9-4d1c-a92c-92aa643321b6",
   "metadata": {},
   "outputs": [
    {
     "name": "stdout",
     "output_type": "stream",
     "text": [
      "DecisionTree\n",
      "MAE 24872.085616438355\n",
      "RMSE 38139.21615528428\n",
      "MAPE 0.15430148175921182\n",
      "R2 0.8103601112066744\n",
      "SGD\n",
      "MAE 25236.377530128928\n",
      "RMSE 41370.042151812835\n",
      "MAPE 0.14871796054572747\n",
      "R2 0.7768699346790353\n",
      "LinReg\n",
      "MAE 24889.11160715588\n",
      "RMSE 39632.206671635686\n",
      "MAPE 0.14896706049901373\n",
      "R2 0.7952222939108533\n"
     ]
    }
   ],
   "source": [
    "predictions = {}\n",
    "metrics = {}\n",
    "residuals = {}\n",
    "\n",
    "for name in pipelines:\n",
    "    print(name)\n",
    "    \n",
    "    resid = pd.DataFrame()\n",
    "    #resid = y_test.copy()\n",
    "    pipe = pipelines[name]\n",
    "\n",
    "    #print('FITTING')\n",
    "    pipe.fit(X_train, y_train)\n",
    "\n",
    "    #print('PREDICTING')\n",
    "    y_pred = pipe.predict(X_test)\n",
    "\n",
    "    # calc residuals\n",
    "    resid['observed'] = y_test.copy()\n",
    "    resid['predicted'] = y_pred#.copy()\n",
    "    resid['residual'] = resid['predicted'] - resid['observed']\n",
    "    #resid['residual'] = y_pred - y_test\n",
    "    \n",
    "    # save\n",
    "    predictions[name] = y_pred\n",
    "    metrics[name] = calc_metrics(y_test, y_pred)\n",
    "    residuals[name] = resid"
   ]
  },
  {
   "cell_type": "code",
   "execution_count": 82,
   "id": "4fa0ad10-f571-4934-9726-ef608afe9b8a",
   "metadata": {},
   "outputs": [],
   "source": [
    "#residuals['DecisionTree']"
   ]
  },
  {
   "cell_type": "code",
   "execution_count": 83,
   "id": "f9c08c41-b74d-4b02-88b9-7fe16a88e0c8",
   "metadata": {},
   "outputs": [
    {
     "data": {
      "text/html": [
       "<div>\n",
       "<style scoped>\n",
       "    .dataframe tbody tr th:only-of-type {\n",
       "        vertical-align: middle;\n",
       "    }\n",
       "\n",
       "    .dataframe tbody tr th {\n",
       "        vertical-align: top;\n",
       "    }\n",
       "\n",
       "    .dataframe thead th {\n",
       "        text-align: right;\n",
       "    }\n",
       "</style>\n",
       "<table border=\"1\" class=\"dataframe\">\n",
       "  <thead>\n",
       "    <tr style=\"text-align: right;\">\n",
       "      <th></th>\n",
       "      <th>DecisionTree</th>\n",
       "      <th>SGD</th>\n",
       "      <th>LinReg</th>\n",
       "    </tr>\n",
       "  </thead>\n",
       "  <tbody>\n",
       "    <tr>\n",
       "      <th>MAE</th>\n",
       "      <td>24872.085616</td>\n",
       "      <td>25236.377530</td>\n",
       "      <td>24889.111607</td>\n",
       "    </tr>\n",
       "    <tr>\n",
       "      <th>RMSE</th>\n",
       "      <td>38139.216155</td>\n",
       "      <td>41370.042152</td>\n",
       "      <td>39632.206672</td>\n",
       "    </tr>\n",
       "    <tr>\n",
       "      <th>MAPE</th>\n",
       "      <td>0.154301</td>\n",
       "      <td>0.148718</td>\n",
       "      <td>0.148967</td>\n",
       "    </tr>\n",
       "    <tr>\n",
       "      <th>R2</th>\n",
       "      <td>0.810360</td>\n",
       "      <td>0.776870</td>\n",
       "      <td>0.795222</td>\n",
       "    </tr>\n",
       "  </tbody>\n",
       "</table>\n",
       "</div>"
      ],
      "text/plain": [
       "      DecisionTree           SGD        LinReg\n",
       "MAE   24872.085616  25236.377530  24889.111607\n",
       "RMSE  38139.216155  41370.042152  39632.206672\n",
       "MAPE      0.154301      0.148718      0.148967\n",
       "R2        0.810360      0.776870      0.795222"
      ]
     },
     "execution_count": 83,
     "metadata": {},
     "output_type": "execute_result"
    }
   ],
   "source": [
    "compare_models = pd.DataFrame(metrics)\n",
    "compare_models"
   ]
  },
  {
   "cell_type": "code",
   "execution_count": 84,
   "id": "23e190f2-6808-4c4e-bff1-8eb6dc1214f7",
   "metadata": {},
   "outputs": [
    {
     "name": "stdout",
     "output_type": "stream",
     "text": [
      "DecisionTree\n",
      "SGD\n"
     ]
    },
    {
     "name": "stderr",
     "output_type": "stream",
     "text": [
      "/home/philip/anaconda3/lib/python3.11/site-packages/seaborn/_oldcore.py:1119: FutureWarning: use_inf_as_na option is deprecated and will be removed in a future version. Convert inf values to NaN before operating instead.\n",
      "  with pd.option_context('mode.use_inf_as_na', True):\n",
      "/home/philip/anaconda3/lib/python3.11/site-packages/seaborn/_oldcore.py:1119: FutureWarning: use_inf_as_na option is deprecated and will be removed in a future version. Convert inf values to NaN before operating instead.\n",
      "  with pd.option_context('mode.use_inf_as_na', True):\n",
      "/home/philip/anaconda3/lib/python3.11/site-packages/seaborn/_oldcore.py:1119: FutureWarning: use_inf_as_na option is deprecated and will be removed in a future version. Convert inf values to NaN before operating instead.\n",
      "  with pd.option_context('mode.use_inf_as_na', True):\n"
     ]
    },
    {
     "name": "stdout",
     "output_type": "stream",
     "text": [
      "LinReg\n"
     ]
    },
    {
     "data": {
      "image/png": "[encoded data removed]",
      "text/plain": [
       "<Figure size 500x500 with 1 Axes>"
      ]
     },
     "metadata": {},
     "output_type": "display_data"
    },
    {
     "data": {
      "image/png": "[encoded data removed]",
      "text/plain": [
       "<Figure size 500x500 with 1 Axes>"
      ]
     },
     "metadata": {},
     "output_type": "display_data"
    },
    {
     "data": {
      "image/png": "[encoded data removed]",
      "text/plain": [
       "<Figure size 500x500 with 1 Axes>"
      ]
     },
     "metadata": {},
     "output_type": "display_data"
    }
   ],
   "source": [
    "for name in residuals:\n",
    "    print(name)\n",
    "    r = residuals[name]\n",
    "    sns.displot(r['residual'])"
   ]
  },
  {
   "cell_type": "code",
   "execution_count": 85,
   "id": "a7a33edf-f4b9-41ff-9c40-a9ab430a179b",
   "metadata": {},
   "outputs": [
    {
     "name": "stdout",
     "output_type": "stream",
     "text": [
      "DecisionTree (292, 3)\n",
      "SGD (292, 3)\n",
      "LinReg (292, 3)\n"
     ]
    },
    {
     "data": {
      "image/png": "[encoded data removed]",
      "text/plain": [
       "<Figure size 500x500 with 1 Axes>"
      ]
     },
     "metadata": {},
     "output_type": "display_data"
    },
    {
     "data": {
      "image/png": "[encoded data removed]",
      "text/plain": [
       "<Figure size 500x500 with 1 Axes>"
      ]
     },
     "metadata": {},
     "output_type": "display_data"
    },
    {
     "data": {
      "image/png": "[encoded data removed]",
      "text/plain": [
       "<Figure size 500x500 with 1 Axes>"
      ]
     },
     "metadata": {},
     "output_type": "display_data"
    }
   ],
   "source": [
    "for name in residuals:\n",
    "    r = residuals[name]\n",
    "    print(name, r.shape)\n",
    "    sns.relplot(data=r, x='observed', y='residual')"
   ]
  },
  {
   "cell_type": "markdown",
   "id": "b6ee1033-1879-48c2-b92f-8844090a1f20",
   "metadata": {},
   "source": [
    "## Exploratory hyperparameter search"
   ]
  },
  {
   "cell_type": "markdown",
   "id": "ee9ca51c-b381-4225-8148-fe02239f0438",
   "metadata": {},
   "source": [
    "### Define exploratory hyperparameters"
   ]
  },
  {
   "cell_type": "code",
   "execution_count": 86,
   "id": "b81eaa4c-419b-49d8-be65-a28f6f46be65",
   "metadata": {},
   "outputs": [],
   "source": [
    "param_grids_explore = {\n",
    "    'DecisionTree': {\n",
    "        'regressor__max_depth': [3, 5, 7, 10],\n",
    "        #'regressor__min_samples_split': [2, 5, 10],\n",
    "        #'regressor__min_samples_leaf': [1, 2, 4],\n",
    "        #'regressor__max_features': [None, 'sqrt', 'log2'],\n",
    "        'selector__k': range(2, 20),\n",
    "    },\n",
    "    'SGD': {\n",
    "        'regressor__alpha': [0.00001, 0.0001, 0.001],\n",
    "        'regressor__learning_rate': ['optimal', 'invscaling'],\n",
    "        'regressor__max_iter': [100, 1000, 3000],\n",
    "    },\n",
    "    'LinReg': {\n",
    "        #'regressor__': ,\n",
    "        #'regressor__': ,\n",
    "        #'regressor__': ,\n",
    "    }\n",
    "}\n"
   ]
  },
  {
   "cell_type": "markdown",
   "id": "755557ce-0297-4c4c-8e56-022849e41d56",
   "metadata": {},
   "source": [
    "### Fit and evaluate models"
   ]
  },
  {
   "cell_type": "code",
   "execution_count": 87,
   "id": "2abb3b1b-bbfb-4ad5-bbbe-f0efc51fbf56",
   "metadata": {
    "collapsed": true,
    "jupyter": {
     "outputs_hidden": true
    }
   },
   "outputs": [
    {
     "name": "stdout",
     "output_type": "stream",
     "text": [
      "\n",
      "Training and evaluating DecisionTree...\n",
      "Fitting 5 folds for each of 72 candidates, totalling 360 fits\n"
     ]
    },
    {
     "name": "stderr",
     "output_type": "stream",
     "text": [
      "/home/philip/anaconda3/lib/python3.11/site-packages/sklearn/preprocessing/_encoders.py:202: UserWarning: Found unknown categories in columns [10, 15] during transform. These unknown categories will be encoded as all zeros\n",
      "  warnings.warn(\n",
      "/home/philip/anaconda3/lib/python3.11/site-packages/sklearn/preprocessing/_encoders.py:202: UserWarning: Found unknown categories in columns [8, 9, 10, 15, 22, 36] during transform. These unknown categories will be encoded as all zeros\n",
      "  warnings.warn(\n",
      "/home/philip/anaconda3/lib/python3.11/site-packages/sklearn/preprocessing/_encoders.py:202: UserWarning: Found unknown categories in columns [5, 14, 15, 16, 19, 29] during transform. These unknown categories will be encoded as all zeros\n",
      "  warnings.warn(\n",
      "/home/philip/anaconda3/lib/python3.11/site-packages/sklearn/preprocessing/_encoders.py:202: UserWarning: Found unknown categories in columns [10, 13, 14, 27, 31] during transform. These unknown categories will be encoded as all zeros\n",
      "  warnings.warn(\n",
      "/home/philip/anaconda3/lib/python3.11/site-packages/sklearn/preprocessing/_encoders.py:202: UserWarning: Found unknown categories in columns [14, 15, 26, 40] during transform. These unknown categories will be encoded as all zeros\n",
      "  warnings.warn(\n",
      "/home/philip/anaconda3/lib/python3.11/site-packages/sklearn/preprocessing/_encoders.py:202: UserWarning: Found unknown categories in columns [10, 13, 14, 27, 31] during transform. These unknown categories will be encoded as all zeros\n",
      "  warnings.warn(\n",
      "/home/philip/anaconda3/lib/python3.11/site-packages/sklearn/preprocessing/_encoders.py:202: UserWarning: Found unknown categories in columns [5, 14, 15, 16, 19, 29] during transform. These unknown categories will be encoded as all zeros\n",
      "  warnings.warn(\n",
      "/home/philip/anaconda3/lib/python3.11/site-packages/sklearn/preprocessing/_encoders.py:202: UserWarning: Found unknown categories in columns [10, 15] during transform. These unknown categories will be encoded as all zeros\n",
      "  warnings.warn(\n",
      "/home/philip/anaconda3/lib/python3.11/site-packages/sklearn/preprocessing/_encoders.py:202: UserWarning: Found unknown categories in columns [8, 9, 10, 15, 22, 36] during transform. These unknown categories will be encoded as all zeros\n",
      "  warnings.warn(\n"
     ]
    },
    {
     "name": "stdout",
     "output_type": "stream",
     "text": [
      "[CV] END ..............regressor__max_depth=3, selector__k=2; total time=   0.1s\n",
      "[CV] END ..............regressor__max_depth=3, selector__k=2; total time=   0.1s\n",
      "[CV] END ..............regressor__max_depth=3, selector__k=2; total time=   0.1s\n",
      "[CV] END ..............regressor__max_depth=3, selector__k=2; total time=   0.1s\n",
      "[CV] END ..............regressor__max_depth=3, selector__k=2; total time=   0.1s\n",
      "[CV] END ..............regressor__max_depth=3, selector__k=3; total time=   0.1s\n",
      "[CV] END ..............regressor__max_depth=3, selector__k=3; total time=   0.1s\n",
      "[CV] END ..............regressor__max_depth=3, selector__k=3; total time=   0.1s\n",
      "[CV] END ..............regressor__max_depth=3, selector__k=3; total time=   0.1s\n"
     ]
    },
    {
     "name": "stderr",
     "output_type": "stream",
     "text": [
      "/home/philip/anaconda3/lib/python3.11/site-packages/sklearn/preprocessing/_encoders.py:202: UserWarning: Found unknown categories in columns [14, 15, 26, 40] during transform. These unknown categories will be encoded as all zeros\n",
      "  warnings.warn(\n",
      "/home/philip/anaconda3/lib/python3.11/site-packages/sklearn/preprocessing/_encoders.py:202: UserWarning: Found unknown categories in columns [10, 15] during transform. These unknown categories will be encoded as all zeros\n",
      "  warnings.warn(\n",
      "/home/philip/anaconda3/lib/python3.11/site-packages/sklearn/preprocessing/_encoders.py:202: UserWarning: Found unknown categories in columns [10, 13, 14, 27, 31] during transform. These unknown categories will be encoded as all zeros\n",
      "  warnings.warn(\n",
      "/home/philip/anaconda3/lib/python3.11/site-packages/sklearn/preprocessing/_encoders.py:202: UserWarning: Found unknown categories in columns [5, 14, 15, 16, 19, 29] during transform. These unknown categories will be encoded as all zeros\n",
      "  warnings.warn(\n",
      "/home/philip/anaconda3/lib/python3.11/site-packages/sklearn/preprocessing/_encoders.py:202: UserWarning: Found unknown categories in columns [8, 9, 10, 15, 22, 36] during transform. These unknown categories will be encoded as all zeros\n",
      "  warnings.warn(\n",
      "/home/philip/anaconda3/lib/python3.11/site-packages/sklearn/preprocessing/_encoders.py:202: UserWarning: Found unknown categories in columns [14, 15, 26, 40] during transform. These unknown categories will be encoded as all zeros\n",
      "  warnings.warn(\n",
      "/home/philip/anaconda3/lib/python3.11/site-packages/sklearn/preprocessing/_encoders.py:202: UserWarning: Found unknown categories in columns [10, 15] during transform. These unknown categories will be encoded as all zeros\n",
      "  warnings.warn(\n",
      "/home/philip/anaconda3/lib/python3.11/site-packages/sklearn/preprocessing/_encoders.py:202: UserWarning: Found unknown categories in columns [10, 13, 14, 27, 31] during transform. These unknown categories will be encoded as all zeros\n",
      "  warnings.warn(\n",
      "/home/philip/anaconda3/lib/python3.11/site-packages/sklearn/preprocessing/_encoders.py:202: UserWarning: Found unknown categories in columns [8, 9, 10, 15, 22, 36] during transform. These unknown categories will be encoded as all zeros\n",
      "  warnings.warn(\n",
      "/home/philip/anaconda3/lib/python3.11/site-packages/sklearn/preprocessing/_encoders.py:202: UserWarning: Found unknown categories in columns [14, 15, 26, 40] during transform. These unknown categories will be encoded as all zeros\n",
      "  warnings.warn(\n",
      "/home/philip/anaconda3/lib/python3.11/site-packages/sklearn/preprocessing/_encoders.py:202: UserWarning: Found unknown categories in columns [5, 14, 15, 16, 19, 29] during transform. These unknown categories will be encoded as all zeros\n",
      "  warnings.warn(\n"
     ]
    },
    {
     "name": "stdout",
     "output_type": "stream",
     "text": [
      "[CV] END ..............regressor__max_depth=3, selector__k=4; total time=   0.1s\n",
      "[CV] END ..............regressor__max_depth=3, selector__k=3; total time=   0.1s\n",
      "[CV] END ..............regressor__max_depth=3, selector__k=4; total time=   0.1s\n",
      "[CV] END ..............regressor__max_depth=3, selector__k=4; total time=   0.1s\n",
      "[CV] END ..............regressor__max_depth=3, selector__k=4; total time=   0.1s\n",
      "[CV] END ..............regressor__max_depth=3, selector__k=4; total time=   0.1s\n",
      "[CV] END ..............regressor__max_depth=3, selector__k=5; total time=   0.1s\n",
      "[CV] END ..............regressor__max_depth=3, selector__k=5; total time=   0.1s\n",
      "[CV] END ..............regressor__max_depth=3, selector__k=5; total time=   0.1s\n",
      "[CV] END ..............regressor__max_depth=3, selector__k=5; total time=   0.1s\n",
      "[CV] END ..............regressor__max_depth=3, selector__k=5; total time=   0.1s\n",
      "[CV] END ..............regressor__max_depth=3, selector__k=6; total time=   0.1s\n"
     ]
    },
    {
     "name": "stderr",
     "output_type": "stream",
     "text": [
      "/home/philip/anaconda3/lib/python3.11/site-packages/sklearn/preprocessing/_encoders.py:202: UserWarning: Found unknown categories in columns [10, 15] during transform. These unknown categories will be encoded as all zeros\n",
      "  warnings.warn(\n",
      "/home/philip/anaconda3/lib/python3.11/site-packages/sklearn/preprocessing/_encoders.py:202: UserWarning: Found unknown categories in columns [10, 13, 14, 27, 31] during transform. These unknown categories will be encoded as all zeros\n",
      "  warnings.warn(\n",
      "/home/philip/anaconda3/lib/python3.11/site-packages/sklearn/preprocessing/_encoders.py:202: UserWarning: Found unknown categories in columns [8, 9, 10, 15, 22, 36] during transform. These unknown categories will be encoded as all zeros\n",
      "  warnings.warn(\n",
      "/home/philip/anaconda3/lib/python3.11/site-packages/sklearn/preprocessing/_encoders.py:202: UserWarning: Found unknown categories in columns [14, 15, 26, 40] during transform. These unknown categories will be encoded as all zeros\n",
      "  warnings.warn(\n",
      "/home/philip/anaconda3/lib/python3.11/site-packages/sklearn/preprocessing/_encoders.py:202: UserWarning: Found unknown categories in columns [5, 14, 15, 16, 19, 29] during transform. These unknown categories will be encoded as all zeros\n",
      "  warnings.warn(\n",
      "/home/philip/anaconda3/lib/python3.11/site-packages/sklearn/preprocessing/_encoders.py:202: UserWarning: Found unknown categories in columns [10, 15] during transform. These unknown categories will be encoded as all zeros\n",
      "  warnings.warn(\n",
      "/home/philip/anaconda3/lib/python3.11/site-packages/sklearn/preprocessing/_encoders.py:202: UserWarning: Found unknown categories in columns [10, 13, 14, 27, 31] during transform. These unknown categories will be encoded as all zeros\n",
      "  warnings.warn(\n",
      "/home/philip/anaconda3/lib/python3.11/site-packages/sklearn/preprocessing/_encoders.py:202: UserWarning: Found unknown categories in columns [5, 14, 15, 16, 19, 29] during transform. These unknown categories will be encoded as all zeros\n",
      "  warnings.warn(\n",
      "/home/philip/anaconda3/lib/python3.11/site-packages/sklearn/preprocessing/_encoders.py:202: UserWarning: Found unknown categories in columns [8, 9, 10, 15, 22, 36] during transform. These unknown categories will be encoded as all zeros\n",
      "  warnings.warn(\n",
      "/home/philip/anaconda3/lib/python3.11/site-packages/sklearn/preprocessing/_encoders.py:202: UserWarning: Found unknown categories in columns [14, 15, 26, 40] during transform. These unknown categories will be encoded as all zeros\n",
      "  warnings.warn(\n"
     ]
    },
    {
     "name": "stdout",
     "output_type": "stream",
     "text": [
      "[CV] END ..............regressor__max_depth=3, selector__k=6; total time=   0.1s\n",
      "[CV] END ..............regressor__max_depth=3, selector__k=6; total time=   0.1s\n",
      "[CV] END ..............regressor__max_depth=3, selector__k=6; total time=   0.1s\n",
      "[CV] END ..............regressor__max_depth=3, selector__k=6; total time=   0.1s\n",
      "[CV] END ..............regressor__max_depth=3, selector__k=7; total time=   0.1s\n",
      "[CV] END ..............regressor__max_depth=3, selector__k=7; total time=   0.1s\n",
      "[CV] END ..............regressor__max_depth=3, selector__k=7; total time=   0.1s\n",
      "[CV] END ..............regressor__max_depth=3, selector__k=7; total time=   0.1s\n",
      "[CV] END ..............regressor__max_depth=3, selector__k=7; total time=   0.1s\n",
      "[CV] END ..............regressor__max_depth=3, selector__k=8; total time=   0.1s\n",
      "[CV] END ..............regressor__max_depth=3, selector__k=8; total time=   0.1s\n"
     ]
    },
    {
     "name": "stderr",
     "output_type": "stream",
     "text": [
      "/home/philip/anaconda3/lib/python3.11/site-packages/sklearn/preprocessing/_encoders.py:202: UserWarning: Found unknown categories in columns [10, 15] during transform. These unknown categories will be encoded as all zeros\n",
      "  warnings.warn(\n",
      "/home/philip/anaconda3/lib/python3.11/site-packages/sklearn/preprocessing/_encoders.py:202: UserWarning: Found unknown categories in columns [10, 13, 14, 27, 31] during transform. These unknown categories will be encoded as all zeros\n",
      "  warnings.warn(\n",
      "/home/philip/anaconda3/lib/python3.11/site-packages/sklearn/preprocessing/_encoders.py:202: UserWarning: Found unknown categories in columns [5, 14, 15, 16, 19, 29] during transform. These unknown categories will be encoded as all zeros\n",
      "  warnings.warn(\n",
      "/home/philip/anaconda3/lib/python3.11/site-packages/sklearn/preprocessing/_encoders.py:202: UserWarning: Found unknown categories in columns [14, 15, 26, 40] during transform. These unknown categories will be encoded as all zeros\n",
      "  warnings.warn(\n",
      "/home/philip/anaconda3/lib/python3.11/site-packages/sklearn/preprocessing/_encoders.py:202: UserWarning: Found unknown categories in columns [10, 13, 14, 27, 31] during transform. These unknown categories will be encoded as all zeros\n",
      "  warnings.warn(\n",
      "/home/philip/anaconda3/lib/python3.11/site-packages/sklearn/preprocessing/_encoders.py:202: UserWarning: Found unknown categories in columns [8, 9, 10, 15, 22, 36] during transform. These unknown categories will be encoded as all zeros\n",
      "  warnings.warn(\n",
      "/home/philip/anaconda3/lib/python3.11/site-packages/sklearn/preprocessing/_encoders.py:202: UserWarning: Found unknown categories in columns [8, 9, 10, 15, 22, 36] during transform. These unknown categories will be encoded as all zeros\n",
      "  warnings.warn(\n",
      "/home/philip/anaconda3/lib/python3.11/site-packages/sklearn/preprocessing/_encoders.py:202: UserWarning: Found unknown categories in columns [10, 15] during transform. These unknown categories will be encoded as all zeros\n",
      "  warnings.warn(\n",
      "/home/philip/anaconda3/lib/python3.11/site-packages/sklearn/preprocessing/_encoders.py:202: UserWarning: Found unknown categories in columns [5, 14, 15, 16, 19, 29] during transform. These unknown categories will be encoded as all zeros\n",
      "  warnings.warn(\n",
      "/home/philip/anaconda3/lib/python3.11/site-packages/sklearn/preprocessing/_encoders.py:202: UserWarning: Found unknown categories in columns [14, 15, 26, 40] during transform. These unknown categories will be encoded as all zeros\n",
      "  warnings.warn(\n",
      "/home/philip/anaconda3/lib/python3.11/site-packages/sklearn/preprocessing/_encoders.py:202: UserWarning: Found unknown categories in columns [10, 15] during transform. These unknown categories will be encoded as all zeros\n",
      "  warnings.warn(\n",
      "/home/philip/anaconda3/lib/python3.11/site-packages/sklearn/preprocessing/_encoders.py:202: UserWarning: Found unknown categories in columns [5, 14, 15, 16, 19, 29] during transform. These unknown categories will be encoded as all zeros\n",
      "  warnings.warn(\n"
     ]
    },
    {
     "name": "stdout",
     "output_type": "stream",
     "text": [
      "[CV] END ..............regressor__max_depth=3, selector__k=8; total time=   0.1s\n",
      "[CV] END ..............regressor__max_depth=3, selector__k=8; total time=   0.1s\n",
      "[CV] END ..............regressor__max_depth=3, selector__k=9; total time=   0.1s\n",
      "[CV] END ..............regressor__max_depth=3, selector__k=9; total time=   0.1s\n",
      "[CV] END ..............regressor__max_depth=3, selector__k=8; total time=   0.1s\n",
      "[CV] END ..............regressor__max_depth=3, selector__k=9; total time=   0.1s\n",
      "[CV] END ..............regressor__max_depth=3, selector__k=9; total time=   0.1s\n",
      "[CV] END ..............regressor__max_depth=3, selector__k=9; total time=   0.1s\n",
      "[CV] END .............regressor__max_depth=3, selector__k=10; total time=   0.1s\n",
      "[CV] END .............regressor__max_depth=3, selector__k=10; total time=   0.1s\n",
      "[CV] END .............regressor__max_depth=3, selector__k=10; total time=   0.1s\n",
      "[CV] END .............regressor__max_depth=3, selector__k=11; total time=   0.1s\n"
     ]
    },
    {
     "name": "stderr",
     "output_type": "stream",
     "text": [
      "/home/philip/anaconda3/lib/python3.11/site-packages/sklearn/preprocessing/_encoders.py:202: UserWarning: Found unknown categories in columns [14, 15, 26, 40] during transform. These unknown categories will be encoded as all zeros\n",
      "  warnings.warn(\n",
      "/home/philip/anaconda3/lib/python3.11/site-packages/sklearn/preprocessing/_encoders.py:202: UserWarning: Found unknown categories in columns [10, 13, 14, 27, 31] during transform. These unknown categories will be encoded as all zeros\n",
      "  warnings.warn(\n",
      "/home/philip/anaconda3/lib/python3.11/site-packages/sklearn/preprocessing/_encoders.py:202: UserWarning: Found unknown categories in columns [10, 13, 14, 27, 31] during transform. These unknown categories will be encoded as all zeros\n",
      "  warnings.warn(\n",
      "/home/philip/anaconda3/lib/python3.11/site-packages/sklearn/preprocessing/_encoders.py:202: UserWarning: Found unknown categories in columns [8, 9, 10, 15, 22, 36] during transform. These unknown categories will be encoded as all zeros\n",
      "  warnings.warn(\n",
      "/home/philip/anaconda3/lib/python3.11/site-packages/sklearn/preprocessing/_encoders.py:202: UserWarning: Found unknown categories in columns [10, 15] during transform. These unknown categories will be encoded as all zeros\n",
      "  warnings.warn(\n",
      "/home/philip/anaconda3/lib/python3.11/site-packages/sklearn/preprocessing/_encoders.py:202: UserWarning: Found unknown categories in columns [5, 14, 15, 16, 19, 29] during transform. These unknown categories will be encoded as all zeros\n",
      "  warnings.warn(\n",
      "/home/philip/anaconda3/lib/python3.11/site-packages/sklearn/preprocessing/_encoders.py:202: UserWarning: Found unknown categories in columns [8, 9, 10, 15, 22, 36] during transform. These unknown categories will be encoded as all zeros\n",
      "  warnings.warn(\n",
      "/home/philip/anaconda3/lib/python3.11/site-packages/sklearn/preprocessing/_encoders.py:202: UserWarning: Found unknown categories in columns [10, 15] during transform. These unknown categories will be encoded as all zeros\n",
      "  warnings.warn(\n",
      "/home/philip/anaconda3/lib/python3.11/site-packages/sklearn/preprocessing/_encoders.py:202: UserWarning: Found unknown categories in columns [14, 15, 26, 40] during transform. These unknown categories will be encoded as all zeros\n",
      "  warnings.warn(\n",
      "/home/philip/anaconda3/lib/python3.11/site-packages/sklearn/preprocessing/_encoders.py:202: UserWarning: Found unknown categories in columns [5, 14, 15, 16, 19, 29] during transform. These unknown categories will be encoded as all zeros\n",
      "  warnings.warn(\n",
      "/home/philip/anaconda3/lib/python3.11/site-packages/sklearn/preprocessing/_encoders.py:202: UserWarning: Found unknown categories in columns [14, 15, 26, 40] during transform. These unknown categories will be encoded as all zeros\n",
      "  warnings.warn(\n"
     ]
    },
    {
     "name": "stdout",
     "output_type": "stream",
     "text": [
      "[CV] END .............regressor__max_depth=3, selector__k=10; total time=   0.1s\n",
      "[CV] END .............regressor__max_depth=3, selector__k=10; total time=   0.1s\n",
      "[CV] END .............regressor__max_depth=3, selector__k=11; total time=   0.1s\n",
      "[CV] END .............regressor__max_depth=3, selector__k=11; total time=   0.1s\n",
      "[CV] END .............regressor__max_depth=3, selector__k=11; total time=   0.1s\n",
      "[CV] END .............regressor__max_depth=3, selector__k=12; total time=   0.1s\n",
      "[CV] END .............regressor__max_depth=3, selector__k=12; total time=   0.1s\n",
      "[CV] END .............regressor__max_depth=3, selector__k=12; total time=   0.1s\n",
      "[CV] END .............regressor__max_depth=3, selector__k=11; total time=   0.1s\n",
      "[CV] END .............regressor__max_depth=3, selector__k=13; total time=   0.1s\n",
      "[CV] END .............regressor__max_depth=3, selector__k=12; total time=   0.1s\n"
     ]
    },
    {
     "name": "stderr",
     "output_type": "stream",
     "text": [
      "/home/philip/anaconda3/lib/python3.11/site-packages/sklearn/preprocessing/_encoders.py:202: UserWarning: Found unknown categories in columns [10, 15] during transform. These unknown categories will be encoded as all zeros\n",
      "  warnings.warn(\n",
      "/home/philip/anaconda3/lib/python3.11/site-packages/sklearn/preprocessing/_encoders.py:202: UserWarning: Found unknown categories in columns [8, 9, 10, 15, 22, 36] during transform. These unknown categories will be encoded as all zeros\n",
      "  warnings.warn(\n",
      "/home/philip/anaconda3/lib/python3.11/site-packages/sklearn/preprocessing/_encoders.py:202: UserWarning: Found unknown categories in columns [10, 13, 14, 27, 31] during transform. These unknown categories will be encoded as all zeros\n",
      "  warnings.warn(\n",
      "/home/philip/anaconda3/lib/python3.11/site-packages/sklearn/preprocessing/_encoders.py:202: UserWarning: Found unknown categories in columns [10, 13, 14, 27, 31] during transform. These unknown categories will be encoded as all zeros\n",
      "  warnings.warn(\n",
      "/home/philip/anaconda3/lib/python3.11/site-packages/sklearn/preprocessing/_encoders.py:202: UserWarning: Found unknown categories in columns [8, 9, 10, 15, 22, 36] during transform. These unknown categories will be encoded as all zeros\n",
      "  warnings.warn(\n",
      "/home/philip/anaconda3/lib/python3.11/site-packages/sklearn/preprocessing/_encoders.py:202: UserWarning: Found unknown categories in columns [10, 15] during transform. These unknown categories will be encoded as all zeros\n",
      "  warnings.warn(\n",
      "/home/philip/anaconda3/lib/python3.11/site-packages/sklearn/preprocessing/_encoders.py:202: UserWarning: Found unknown categories in columns [5, 14, 15, 16, 19, 29] during transform. These unknown categories will be encoded as all zeros\n",
      "  warnings.warn(\n",
      "/home/philip/anaconda3/lib/python3.11/site-packages/sklearn/preprocessing/_encoders.py:202: UserWarning: Found unknown categories in columns [14, 15, 26, 40] during transform. These unknown categories will be encoded as all zeros\n",
      "  warnings.warn(\n",
      "/home/philip/anaconda3/lib/python3.11/site-packages/sklearn/preprocessing/_encoders.py:202: UserWarning: Found unknown categories in columns [5, 14, 15, 16, 19, 29] during transform. These unknown categories will be encoded as all zeros\n",
      "  warnings.warn(\n",
      "/home/philip/anaconda3/lib/python3.11/site-packages/sklearn/preprocessing/_encoders.py:202: UserWarning: Found unknown categories in columns [10, 13, 14, 27, 31] during transform. These unknown categories will be encoded as all zeros\n",
      "  warnings.warn(\n",
      "/home/philip/anaconda3/lib/python3.11/site-packages/sklearn/preprocessing/_encoders.py:202: UserWarning: Found unknown categories in columns [14, 15, 26, 40] during transform. These unknown categories will be encoded as all zeros\n",
      "  warnings.warn(\n"
     ]
    },
    {
     "name": "stdout",
     "output_type": "stream",
     "text": [
      "[CV] END .............regressor__max_depth=3, selector__k=13; total time=   0.1s\n",
      "[CV] END .............regressor__max_depth=3, selector__k=12; total time=   0.1s\n",
      "[CV] END .............regressor__max_depth=3, selector__k=13; total time=   0.1s\n",
      "[CV] END .............regressor__max_depth=3, selector__k=14; total time=   0.1s\n",
      "[CV] END .............regressor__max_depth=3, selector__k=13; total time=   0.1s\n",
      "[CV] END .............regressor__max_depth=3, selector__k=13; total time=   0.1s\n",
      "[CV] END .............regressor__max_depth=3, selector__k=14; total time=   0.1s\n",
      "[CV] END .............regressor__max_depth=3, selector__k=14; total time=   0.1s\n",
      "[CV] END .............regressor__max_depth=3, selector__k=14; total time=   0.1s\n",
      "[CV] END .............regressor__max_depth=3, selector__k=14; total time=   0.1s\n"
     ]
    },
    {
     "name": "stderr",
     "output_type": "stream",
     "text": [
      "/home/philip/anaconda3/lib/python3.11/site-packages/sklearn/preprocessing/_encoders.py:202: UserWarning: Found unknown categories in columns [8, 9, 10, 15, 22, 36] during transform. These unknown categories will be encoded as all zeros\n",
      "  warnings.warn(\n",
      "/home/philip/anaconda3/lib/python3.11/site-packages/sklearn/preprocessing/_encoders.py:202: UserWarning: Found unknown categories in columns [10, 13, 14, 27, 31] during transform. These unknown categories will be encoded as all zeros\n",
      "  warnings.warn(\n",
      "/home/philip/anaconda3/lib/python3.11/site-packages/sklearn/preprocessing/_encoders.py:202: UserWarning: Found unknown categories in columns [10, 15] during transform. These unknown categories will be encoded as all zeros\n",
      "  warnings.warn(\n",
      "/home/philip/anaconda3/lib/python3.11/site-packages/sklearn/preprocessing/_encoders.py:202: UserWarning: Found unknown categories in columns [8, 9, 10, 15, 22, 36] during transform. These unknown categories will be encoded as all zeros\n",
      "  warnings.warn(\n",
      "/home/philip/anaconda3/lib/python3.11/site-packages/sklearn/preprocessing/_encoders.py:202: UserWarning: Found unknown categories in columns [10, 15] during transform. These unknown categories will be encoded as all zeros\n",
      "  warnings.warn(\n",
      "/home/philip/anaconda3/lib/python3.11/site-packages/sklearn/preprocessing/_encoders.py:202: UserWarning: Found unknown categories in columns [5, 14, 15, 16, 19, 29] during transform. These unknown categories will be encoded as all zeros\n",
      "  warnings.warn(\n",
      "/home/philip/anaconda3/lib/python3.11/site-packages/sklearn/preprocessing/_encoders.py:202: UserWarning: Found unknown categories in columns [14, 15, 26, 40] during transform. These unknown categories will be encoded as all zeros\n",
      "  warnings.warn(\n",
      "/home/philip/anaconda3/lib/python3.11/site-packages/sklearn/preprocessing/_encoders.py:202: UserWarning: Found unknown categories in columns [5, 14, 15, 16, 19, 29] during transform. These unknown categories will be encoded as all zeros\n",
      "  warnings.warn(\n",
      "/home/philip/anaconda3/lib/python3.11/site-packages/sklearn/preprocessing/_encoders.py:202: UserWarning: Found unknown categories in columns [10, 13, 14, 27, 31] during transform. These unknown categories will be encoded as all zeros\n",
      "  warnings.warn(\n",
      "/home/philip/anaconda3/lib/python3.11/site-packages/sklearn/preprocessing/_encoders.py:202: UserWarning: Found unknown categories in columns [8, 9, 10, 15, 22, 36] during transform. These unknown categories will be encoded as all zeros\n",
      "  warnings.warn(\n",
      "/home/philip/anaconda3/lib/python3.11/site-packages/sklearn/preprocessing/_encoders.py:202: UserWarning: Found unknown categories in columns [14, 15, 26, 40] during transform. These unknown categories will be encoded as all zeros\n",
      "  warnings.warn(\n",
      "/home/philip/anaconda3/lib/python3.11/site-packages/sklearn/preprocessing/_encoders.py:202: UserWarning: Found unknown categories in columns [10, 13, 14, 27, 31] during transform. These unknown categories will be encoded as all zeros\n",
      "  warnings.warn(\n"
     ]
    },
    {
     "name": "stdout",
     "output_type": "stream",
     "text": [
      "[CV] END .............regressor__max_depth=3, selector__k=15; total time=   0.1s\n",
      "[CV] END .............regressor__max_depth=3, selector__k=15; total time=   0.1s\n",
      "[CV] END .............regressor__max_depth=3, selector__k=15; total time=   0.1s\n",
      "[CV] END .............regressor__max_depth=3, selector__k=16; total time=   0.1s\n",
      "[CV] END .............regressor__max_depth=3, selector__k=15; total time=   0.1s\n",
      "[CV] END .............regressor__max_depth=3, selector__k=15; total time=   0.1s\n",
      "[CV] END .............regressor__max_depth=3, selector__k=16; total time=   0.1s\n",
      "[CV] END .............regressor__max_depth=3, selector__k=16; total time=   0.1s\n",
      "[CV] END .............regressor__max_depth=3, selector__k=16; total time=   0.1s\n",
      "[CV] END .............regressor__max_depth=3, selector__k=16; total time=   0.1s\n",
      "[CV] END .............regressor__max_depth=3, selector__k=17; total time=   0.1s\n"
     ]
    },
    {
     "name": "stderr",
     "output_type": "stream",
     "text": [
      "/home/philip/anaconda3/lib/python3.11/site-packages/sklearn/preprocessing/_encoders.py:202: UserWarning: Found unknown categories in columns [8, 9, 10, 15, 22, 36] during transform. These unknown categories will be encoded as all zeros\n",
      "  warnings.warn(\n",
      "/home/philip/anaconda3/lib/python3.11/site-packages/sklearn/preprocessing/_encoders.py:202: UserWarning: Found unknown categories in columns [5, 14, 15, 16, 19, 29] during transform. These unknown categories will be encoded as all zeros\n",
      "  warnings.warn(\n",
      "/home/philip/anaconda3/lib/python3.11/site-packages/sklearn/preprocessing/_encoders.py:202: UserWarning: Found unknown categories in columns [10, 15] during transform. These unknown categories will be encoded as all zeros\n",
      "  warnings.warn(\n",
      "/home/philip/anaconda3/lib/python3.11/site-packages/sklearn/preprocessing/_encoders.py:202: UserWarning: Found unknown categories in columns [10, 15] during transform. These unknown categories will be encoded as all zeros\n",
      "  warnings.warn(\n",
      "/home/philip/anaconda3/lib/python3.11/site-packages/sklearn/preprocessing/_encoders.py:202: UserWarning: Found unknown categories in columns [14, 15, 26, 40] during transform. These unknown categories will be encoded as all zeros\n",
      "  warnings.warn(\n",
      "/home/philip/anaconda3/lib/python3.11/site-packages/sklearn/preprocessing/_encoders.py:202: UserWarning: Found unknown categories in columns [10, 13, 14, 27, 31] during transform. These unknown categories will be encoded as all zeros\n",
      "  warnings.warn(\n",
      "/home/philip/anaconda3/lib/python3.11/site-packages/sklearn/preprocessing/_encoders.py:202: UserWarning: Found unknown categories in columns [5, 14, 15, 16, 19, 29] during transform. These unknown categories will be encoded as all zeros\n",
      "  warnings.warn(\n",
      "/home/philip/anaconda3/lib/python3.11/site-packages/sklearn/preprocessing/_encoders.py:202: UserWarning: Found unknown categories in columns [14, 15, 26, 40] during transform. These unknown categories will be encoded as all zeros\n",
      "  warnings.warn(\n",
      "/home/philip/anaconda3/lib/python3.11/site-packages/sklearn/preprocessing/_encoders.py:202: UserWarning: Found unknown categories in columns [10, 13, 14, 27, 31] during transform. These unknown categories will be encoded as all zeros\n",
      "  warnings.warn(\n",
      "/home/philip/anaconda3/lib/python3.11/site-packages/sklearn/preprocessing/_encoders.py:202: UserWarning: Found unknown categories in columns [8, 9, 10, 15, 22, 36] during transform. These unknown categories will be encoded as all zeros\n",
      "  warnings.warn(\n",
      "/home/philip/anaconda3/lib/python3.11/site-packages/sklearn/preprocessing/_encoders.py:202: UserWarning: Found unknown categories in columns [8, 9, 10, 15, 22, 36] during transform. These unknown categories will be encoded as all zeros\n",
      "  warnings.warn(\n",
      "/home/philip/anaconda3/lib/python3.11/site-packages/sklearn/preprocessing/_encoders.py:202: UserWarning: Found unknown categories in columns [10, 15] during transform. These unknown categories will be encoded as all zeros\n",
      "  warnings.warn(\n"
     ]
    },
    {
     "name": "stdout",
     "output_type": "stream",
     "text": [
      "[CV] END .............regressor__max_depth=3, selector__k=17; total time=   0.1s\n",
      "[CV] END .............regressor__max_depth=3, selector__k=17; total time=   0.1s\n",
      "[CV] END .............regressor__max_depth=3, selector__k=18; total time=   0.1s\n",
      "[CV] END .............regressor__max_depth=3, selector__k=17; total time=   0.1s\n",
      "[CV] END .............regressor__max_depth=3, selector__k=17; total time=   0.1s\n",
      "[CV] END .............regressor__max_depth=3, selector__k=18; total time=   0.1s\n",
      "[CV] END .............regressor__max_depth=3, selector__k=18; total time=   0.1s\n",
      "[CV] END .............regressor__max_depth=3, selector__k=18; total time=   0.1s\n",
      "[CV] END .............regressor__max_depth=3, selector__k=19; total time=   0.1s\n",
      "[CV] END .............regressor__max_depth=3, selector__k=18; total time=   0.1s\n",
      "[CV] END .............regressor__max_depth=3, selector__k=19; total time=   0.1s\n",
      "[CV] END .............regressor__max_depth=3, selector__k=19; total time=   0.1s\n"
     ]
    },
    {
     "name": "stderr",
     "output_type": "stream",
     "text": [
      "/home/philip/anaconda3/lib/python3.11/site-packages/sklearn/preprocessing/_encoders.py:202: UserWarning: Found unknown categories in columns [5, 14, 15, 16, 19, 29] during transform. These unknown categories will be encoded as all zeros\n",
      "  warnings.warn(\n",
      "/home/philip/anaconda3/lib/python3.11/site-packages/sklearn/preprocessing/_encoders.py:202: UserWarning: Found unknown categories in columns [14, 15, 26, 40] during transform. These unknown categories will be encoded as all zeros\n",
      "  warnings.warn(\n",
      "/home/philip/anaconda3/lib/python3.11/site-packages/sklearn/preprocessing/_encoders.py:202: UserWarning: Found unknown categories in columns [10, 15] during transform. These unknown categories will be encoded as all zeros\n",
      "  warnings.warn(\n",
      "/home/philip/anaconda3/lib/python3.11/site-packages/sklearn/preprocessing/_encoders.py:202: UserWarning: Found unknown categories in columns [5, 14, 15, 16, 19, 29] during transform. These unknown categories will be encoded as all zeros\n",
      "  warnings.warn(\n",
      "/home/philip/anaconda3/lib/python3.11/site-packages/sklearn/preprocessing/_encoders.py:202: UserWarning: Found unknown categories in columns [14, 15, 26, 40] during transform. These unknown categories will be encoded as all zeros\n",
      "  warnings.warn(\n",
      "/home/philip/anaconda3/lib/python3.11/site-packages/sklearn/preprocessing/_encoders.py:202: UserWarning: Found unknown categories in columns [10, 13, 14, 27, 31] during transform. These unknown categories will be encoded as all zeros\n",
      "  warnings.warn(\n",
      "/home/philip/anaconda3/lib/python3.11/site-packages/sklearn/preprocessing/_encoders.py:202: UserWarning: Found unknown categories in columns [10, 13, 14, 27, 31] during transform. These unknown categories will be encoded as all zeros\n",
      "  warnings.warn(\n",
      "/home/philip/anaconda3/lib/python3.11/site-packages/sklearn/preprocessing/_encoders.py:202: UserWarning: Found unknown categories in columns [8, 9, 10, 15, 22, 36] during transform. These unknown categories will be encoded as all zeros\n",
      "  warnings.warn(\n",
      "/home/philip/anaconda3/lib/python3.11/site-packages/sklearn/preprocessing/_encoders.py:202: UserWarning: Found unknown categories in columns [10, 15] during transform. These unknown categories will be encoded as all zeros\n",
      "  warnings.warn(\n",
      "/home/philip/anaconda3/lib/python3.11/site-packages/sklearn/preprocessing/_encoders.py:202: UserWarning: Found unknown categories in columns [5, 14, 15, 16, 19, 29] during transform. These unknown categories will be encoded as all zeros\n",
      "  warnings.warn(\n",
      "/home/philip/anaconda3/lib/python3.11/site-packages/sklearn/preprocessing/_encoders.py:202: UserWarning: Found unknown categories in columns [8, 9, 10, 15, 22, 36] during transform. These unknown categories will be encoded as all zeros\n",
      "  warnings.warn(\n",
      "/home/philip/anaconda3/lib/python3.11/site-packages/sklearn/preprocessing/_encoders.py:202: UserWarning: Found unknown categories in columns [10, 15] during transform. These unknown categories will be encoded as all zeros\n",
      "  warnings.warn(\n"
     ]
    },
    {
     "name": "stdout",
     "output_type": "stream",
     "text": [
      "[CV] END .............regressor__max_depth=3, selector__k=19; total time=   0.1s\n",
      "[CV] END .............regressor__max_depth=3, selector__k=19; total time=   0.1s\n",
      "[CV] END ..............regressor__max_depth=5, selector__k=2; total time=   0.1s\n",
      "[CV] END ..............regressor__max_depth=5, selector__k=2; total time=   0.1s\n",
      "[CV] END ..............regressor__max_depth=5, selector__k=2; total time=   0.1s\n",
      "[CV] END ..............regressor__max_depth=5, selector__k=3; total time=   0.1s\n",
      "[CV] END ..............regressor__max_depth=5, selector__k=2; total time=   0.1s\n",
      "[CV] END ..............regressor__max_depth=5, selector__k=2; total time=   0.1s\n",
      "[CV] END ..............regressor__max_depth=5, selector__k=3; total time=   0.1s\n",
      "[CV] END ..............regressor__max_depth=5, selector__k=3; total time=   0.1s\n",
      "[CV] END ..............regressor__max_depth=5, selector__k=3; total time=   0.1s\n",
      "[CV] END ..............regressor__max_depth=5, selector__k=4; total time=   0.1s\n"
     ]
    },
    {
     "name": "stderr",
     "output_type": "stream",
     "text": [
      "/home/philip/anaconda3/lib/python3.11/site-packages/sklearn/preprocessing/_encoders.py:202: UserWarning: Found unknown categories in columns [5, 14, 15, 16, 19, 29] during transform. These unknown categories will be encoded as all zeros\n",
      "  warnings.warn(\n",
      "/home/philip/anaconda3/lib/python3.11/site-packages/sklearn/preprocessing/_encoders.py:202: UserWarning: Found unknown categories in columns [14, 15, 26, 40] during transform. These unknown categories will be encoded as all zeros\n",
      "  warnings.warn(\n",
      "/home/philip/anaconda3/lib/python3.11/site-packages/sklearn/preprocessing/_encoders.py:202: UserWarning: Found unknown categories in columns [14, 15, 26, 40] during transform. These unknown categories will be encoded as all zeros\n",
      "  warnings.warn(\n",
      "/home/philip/anaconda3/lib/python3.11/site-packages/sklearn/preprocessing/_encoders.py:202: UserWarning: Found unknown categories in columns [10, 13, 14, 27, 31] during transform. These unknown categories will be encoded as all zeros\n",
      "  warnings.warn(\n",
      "/home/philip/anaconda3/lib/python3.11/site-packages/sklearn/preprocessing/_encoders.py:202: UserWarning: Found unknown categories in columns [8, 9, 10, 15, 22, 36] during transform. These unknown categories will be encoded as all zeros\n",
      "  warnings.warn(\n",
      "/home/philip/anaconda3/lib/python3.11/site-packages/sklearn/preprocessing/_encoders.py:202: UserWarning: Found unknown categories in columns [10, 15] during transform. These unknown categories will be encoded as all zeros\n",
      "  warnings.warn(\n"
     ]
    },
    {
     "name": "stdout",
     "output_type": "stream",
     "text": [
      "[CV] END ..............regressor__max_depth=5, selector__k=4; total time=   0.1s\n",
      "[CV] END ..............regressor__max_depth=5, selector__k=4; total time=   0.1s\n",
      "[CV] END ..............regressor__max_depth=5, selector__k=3; total time=   0.1s\n",
      "[CV] END ..............regressor__max_depth=5, selector__k=4; total time=   0.1s\n",
      "[CV] END ..............regressor__max_depth=5, selector__k=4; total time=   0.1s\n",
      "[CV] END ..............regressor__max_depth=5, selector__k=5; total time=   0.1s\n",
      "[CV] END ..............regressor__max_depth=5, selector__k=5; total time=   0.1s\n",
      "[CV] END ..............regressor__max_depth=5, selector__k=5; total time=   0.1s\n",
      "[CV] END ..............regressor__max_depth=5, selector__k=5; total time=   0.1s\n",
      "[CV] END ..............regressor__max_depth=5, selector__k=5; total time=   0.1s\n",
      "[CV] END ..............regressor__max_depth=5, selector__k=6; total time=   0.1s\n",
      "[CV] END ..............regressor__max_depth=5, selector__k=6; total time=   0.1s\n"
     ]
    },
    {
     "name": "stderr",
     "output_type": "stream",
     "text": [
      "/home/philip/anaconda3/lib/python3.11/site-packages/sklearn/preprocessing/_encoders.py:202: UserWarning: Found unknown categories in columns [10, 13, 14, 27, 31] during transform. These unknown categories will be encoded as all zeros\n",
      "  warnings.warn(\n",
      "/home/philip/anaconda3/lib/python3.11/site-packages/sklearn/preprocessing/_encoders.py:202: UserWarning: Found unknown categories in columns [8, 9, 10, 15, 22, 36] during transform. These unknown categories will be encoded as all zeros\n",
      "  warnings.warn(\n",
      "/home/philip/anaconda3/lib/python3.11/site-packages/sklearn/preprocessing/_encoders.py:202: UserWarning: Found unknown categories in columns [5, 14, 15, 16, 19, 29] during transform. These unknown categories will be encoded as all zeros\n",
      "  warnings.warn(\n",
      "/home/philip/anaconda3/lib/python3.11/site-packages/sklearn/preprocessing/_encoders.py:202: UserWarning: Found unknown categories in columns [14, 15, 26, 40] during transform. These unknown categories will be encoded as all zeros\n",
      "  warnings.warn(\n",
      "/home/philip/anaconda3/lib/python3.11/site-packages/sklearn/preprocessing/_encoders.py:202: UserWarning: Found unknown categories in columns [10, 15] during transform. These unknown categories will be encoded as all zeros\n",
      "  warnings.warn(\n",
      "/home/philip/anaconda3/lib/python3.11/site-packages/sklearn/preprocessing/_encoders.py:202: UserWarning: Found unknown categories in columns [5, 14, 15, 16, 19, 29] during transform. These unknown categories will be encoded as all zeros\n",
      "  warnings.warn(\n",
      "/home/philip/anaconda3/lib/python3.11/site-packages/sklearn/preprocessing/_encoders.py:202: UserWarning: Found unknown categories in columns [10, 13, 14, 27, 31] during transform. These unknown categories will be encoded as all zeros\n",
      "  warnings.warn(\n",
      "/home/philip/anaconda3/lib/python3.11/site-packages/sklearn/preprocessing/_encoders.py:202: UserWarning: Found unknown categories in columns [8, 9, 10, 15, 22, 36] during transform. These unknown categories will be encoded as all zeros\n",
      "  warnings.warn(\n",
      "/home/philip/anaconda3/lib/python3.11/site-packages/sklearn/preprocessing/_encoders.py:202: UserWarning: Found unknown categories in columns [14, 15, 26, 40] during transform. These unknown categories will be encoded as all zeros\n",
      "  warnings.warn(\n",
      "/home/philip/anaconda3/lib/python3.11/site-packages/sklearn/preprocessing/_encoders.py:202: UserWarning: Found unknown categories in columns [10, 13, 14, 27, 31] during transform. These unknown categories will be encoded as all zeros\n",
      "  warnings.warn(\n",
      "/home/philip/anaconda3/lib/python3.11/site-packages/sklearn/preprocessing/_encoders.py:202: UserWarning: Found unknown categories in columns [8, 9, 10, 15, 22, 36] during transform. These unknown categories will be encoded as all zeros\n",
      "  warnings.warn(\n",
      "/home/philip/anaconda3/lib/python3.11/site-packages/sklearn/preprocessing/_encoders.py:202: UserWarning: Found unknown categories in columns [10, 15] during transform. These unknown categories will be encoded as all zeros\n",
      "  warnings.warn(\n",
      "/home/philip/anaconda3/lib/python3.11/site-packages/sklearn/preprocessing/_encoders.py:202: UserWarning: Found unknown categories in columns [10, 15] during transform. These unknown categories will be encoded as all zeros\n",
      "  warnings.warn(\n",
      "/home/philip/anaconda3/lib/python3.11/site-packages/sklearn/preprocessing/_encoders.py:202: UserWarning: Found unknown categories in columns [5, 14, 15, 16, 19, 29] during transform. These unknown categories will be encoded as all zeros\n",
      "  warnings.warn(\n",
      "/home/philip/anaconda3/lib/python3.11/site-packages/sklearn/preprocessing/_encoders.py:202: UserWarning: Found unknown categories in columns [14, 15, 26, 40] during transform. These unknown categories will be encoded as all zeros\n",
      "  warnings.warn(\n",
      "/home/philip/anaconda3/lib/python3.11/site-packages/sklearn/preprocessing/_encoders.py:202: UserWarning: Found unknown categories in columns [5, 14, 15, 16, 19, 29] during transform. These unknown categories will be encoded as all zeros\n",
      "  warnings.warn(\n",
      "/home/philip/anaconda3/lib/python3.11/site-packages/sklearn/preprocessing/_encoders.py:202: UserWarning: Found unknown categories in columns [10, 13, 14, 27, 31] during transform. These unknown categories will be encoded as all zeros\n",
      "  warnings.warn(\n"
     ]
    },
    {
     "name": "stdout",
     "output_type": "stream",
     "text": [
      "[CV] END ..............regressor__max_depth=5, selector__k=6; total time=   0.1s\n",
      "[CV] END ..............regressor__max_depth=5, selector__k=6; total time=   0.1s\n",
      "[CV] END ..............regressor__max_depth=5, selector__k=6; total time=   0.1s\n",
      "[CV] END ..............regressor__max_depth=5, selector__k=7; total time=   0.1s\n",
      "[CV] END ..............regressor__max_depth=5, selector__k=7; total time=   0.1s\n",
      "[CV] END ..............regressor__max_depth=5, selector__k=8; total time=   0.1s\n",
      "[CV] END ..............regressor__max_depth=5, selector__k=7; total time=   0.1s\n",
      "[CV] END ..............regressor__max_depth=5, selector__k=7; total time=   0.1s\n",
      "[CV] END ..............regressor__max_depth=5, selector__k=7; total time=   0.1s\n",
      "[CV] END ..............regressor__max_depth=5, selector__k=8; total time=   0.1s\n",
      "[CV] END ..............regressor__max_depth=5, selector__k=8; total time=   0.1s\n",
      "[CV] END ..............regressor__max_depth=5, selector__k=8; total time=   0.1s\n",
      "[CV] END ..............regressor__max_depth=5, selector__k=9; total time=   0.1s\n"
     ]
    },
    {
     "name": "stderr",
     "output_type": "stream",
     "text": [
      "/home/philip/anaconda3/lib/python3.11/site-packages/sklearn/preprocessing/_encoders.py:202: UserWarning: Found unknown categories in columns [14, 15, 26, 40] during transform. These unknown categories will be encoded as all zeros\n",
      "  warnings.warn(\n",
      "/home/philip/anaconda3/lib/python3.11/site-packages/sklearn/preprocessing/_encoders.py:202: UserWarning: Found unknown categories in columns [10, 13, 14, 27, 31] during transform. These unknown categories will be encoded as all zeros\n",
      "  warnings.warn(\n",
      "/home/philip/anaconda3/lib/python3.11/site-packages/sklearn/preprocessing/_encoders.py:202: UserWarning: Found unknown categories in columns [8, 9, 10, 15, 22, 36] during transform. These unknown categories will be encoded as all zeros\n",
      "  warnings.warn(\n",
      "/home/philip/anaconda3/lib/python3.11/site-packages/sklearn/preprocessing/_encoders.py:202: UserWarning: Found unknown categories in columns [5, 14, 15, 16, 19, 29] during transform. These unknown categories will be encoded as all zeros\n",
      "  warnings.warn(\n",
      "/home/philip/anaconda3/lib/python3.11/site-packages/sklearn/preprocessing/_encoders.py:202: UserWarning: Found unknown categories in columns [8, 9, 10, 15, 22, 36] during transform. These unknown categories will be encoded as all zeros\n",
      "  warnings.warn(\n",
      "/home/philip/anaconda3/lib/python3.11/site-packages/sklearn/preprocessing/_encoders.py:202: UserWarning: Found unknown categories in columns [10, 15] during transform. These unknown categories will be encoded as all zeros\n",
      "  warnings.warn(\n",
      "/home/philip/anaconda3/lib/python3.11/site-packages/sklearn/preprocessing/_encoders.py:202: UserWarning: Found unknown categories in columns [10, 15] during transform. These unknown categories will be encoded as all zeros\n",
      "  warnings.warn(\n",
      "/home/philip/anaconda3/lib/python3.11/site-packages/sklearn/preprocessing/_encoders.py:202: UserWarning: Found unknown categories in columns [5, 14, 15, 16, 19, 29] during transform. These unknown categories will be encoded as all zeros\n",
      "  warnings.warn(\n",
      "/home/philip/anaconda3/lib/python3.11/site-packages/sklearn/preprocessing/_encoders.py:202: UserWarning: Found unknown categories in columns [14, 15, 26, 40] during transform. These unknown categories will be encoded as all zeros\n",
      "  warnings.warn(\n"
     ]
    },
    {
     "name": "stdout",
     "output_type": "stream",
     "text": [
      "[CV] END ..............regressor__max_depth=5, selector__k=8; total time=   0.1s\n",
      "[CV] END ..............regressor__max_depth=5, selector__k=9; total time=   0.1s\n",
      "[CV] END ..............regressor__max_depth=5, selector__k=9; total time=   0.1s\n",
      "[CV] END ..............regressor__max_depth=5, selector__k=9; total time=   0.1s\n",
      "[CV] END .............regressor__max_depth=5, selector__k=10; total time=   0.1s\n",
      "[CV] END .............regressor__max_depth=5, selector__k=10; total time=   0.1s\n",
      "[CV] END ..............regressor__max_depth=5, selector__k=9; total time=   0.1s\n",
      "[CV] END .............regressor__max_depth=5, selector__k=10; total time=   0.1s\n",
      "[CV] END .............regressor__max_depth=5, selector__k=10; total time=   0.1s\n",
      "[CV] END .............regressor__max_depth=5, selector__k=10; total time=   0.1s\n",
      "[CV] END .............regressor__max_depth=5, selector__k=11; total time=   0.1s\n"
     ]
    },
    {
     "name": "stderr",
     "output_type": "stream",
     "text": [
      "/home/philip/anaconda3/lib/python3.11/site-packages/sklearn/preprocessing/_encoders.py:202: UserWarning: Found unknown categories in columns [10, 13, 14, 27, 31] during transform. These unknown categories will be encoded as all zeros\n",
      "  warnings.warn(\n",
      "/home/philip/anaconda3/lib/python3.11/site-packages/sklearn/preprocessing/_encoders.py:202: UserWarning: Found unknown categories in columns [8, 9, 10, 15, 22, 36] during transform. These unknown categories will be encoded as all zeros\n",
      "  warnings.warn(\n",
      "/home/philip/anaconda3/lib/python3.11/site-packages/sklearn/preprocessing/_encoders.py:202: UserWarning: Found unknown categories in columns [14, 15, 26, 40] during transform. These unknown categories will be encoded as all zeros\n",
      "  warnings.warn(\n",
      "/home/philip/anaconda3/lib/python3.11/site-packages/sklearn/preprocessing/_encoders.py:202: UserWarning: Found unknown categories in columns [10, 13, 14, 27, 31] during transform. These unknown categories will be encoded as all zeros\n",
      "  warnings.warn(\n",
      "/home/philip/anaconda3/lib/python3.11/site-packages/sklearn/preprocessing/_encoders.py:202: UserWarning: Found unknown categories in columns [10, 15] during transform. These unknown categories will be encoded as all zeros\n",
      "  warnings.warn(\n",
      "/home/philip/anaconda3/lib/python3.11/site-packages/sklearn/preprocessing/_encoders.py:202: UserWarning: Found unknown categories in columns [10, 15] during transform. These unknown categories will be encoded as all zeros\n",
      "  warnings.warn(\n",
      "/home/philip/anaconda3/lib/python3.11/site-packages/sklearn/preprocessing/_encoders.py:202: UserWarning: Found unknown categories in columns [8, 9, 10, 15, 22, 36] during transform. These unknown categories will be encoded as all zeros\n",
      "  warnings.warn(\n",
      "/home/philip/anaconda3/lib/python3.11/site-packages/sklearn/preprocessing/_encoders.py:202: UserWarning: Found unknown categories in columns [5, 14, 15, 16, 19, 29] during transform. These unknown categories will be encoded as all zeros\n",
      "  warnings.warn(\n",
      "/home/philip/anaconda3/lib/python3.11/site-packages/sklearn/preprocessing/_encoders.py:202: UserWarning: Found unknown categories in columns [14, 15, 26, 40] during transform. These unknown categories will be encoded as all zeros\n",
      "  warnings.warn(\n",
      "/home/philip/anaconda3/lib/python3.11/site-packages/sklearn/preprocessing/_encoders.py:202: UserWarning: Found unknown categories in columns [5, 14, 15, 16, 19, 29] during transform. These unknown categories will be encoded as all zeros\n",
      "  warnings.warn(\n",
      "/home/philip/anaconda3/lib/python3.11/site-packages/sklearn/preprocessing/_encoders.py:202: UserWarning: Found unknown categories in columns [10, 13, 14, 27, 31] during transform. These unknown categories will be encoded as all zeros\n",
      "  warnings.warn(\n"
     ]
    },
    {
     "name": "stdout",
     "output_type": "stream",
     "text": [
      "[CV] END .............regressor__max_depth=5, selector__k=12; total time=   0.1s\n",
      "[CV] END .............regressor__max_depth=5, selector__k=11; total time=   0.1s\n",
      "[CV] END .............regressor__max_depth=5, selector__k=11; total time=   0.1s\n",
      "[CV] END .............regressor__max_depth=5, selector__k=11; total time=   0.1s\n",
      "[CV] END .............regressor__max_depth=5, selector__k=11; total time=   0.1s\n",
      "[CV] END .............regressor__max_depth=5, selector__k=12; total time=   0.1s\n",
      "[CV] END .............regressor__max_depth=5, selector__k=12; total time=   0.1s\n",
      "[CV] END .............regressor__max_depth=5, selector__k=12; total time=   0.1s\n",
      "[CV] END .............regressor__max_depth=5, selector__k=13; total time=   0.1s\n",
      "[CV] END .............regressor__max_depth=5, selector__k=12; total time=   0.1s\n"
     ]
    },
    {
     "name": "stderr",
     "output_type": "stream",
     "text": [
      "/home/philip/anaconda3/lib/python3.11/site-packages/sklearn/preprocessing/_encoders.py:202: UserWarning: Found unknown categories in columns [14, 15, 26, 40] during transform. These unknown categories will be encoded as all zeros\n",
      "  warnings.warn(\n",
      "/home/philip/anaconda3/lib/python3.11/site-packages/sklearn/preprocessing/_encoders.py:202: UserWarning: Found unknown categories in columns [10, 13, 14, 27, 31] during transform. These unknown categories will be encoded as all zeros\n",
      "  warnings.warn(\n",
      "/home/philip/anaconda3/lib/python3.11/site-packages/sklearn/preprocessing/_encoders.py:202: UserWarning: Found unknown categories in columns [8, 9, 10, 15, 22, 36] during transform. These unknown categories will be encoded as all zeros\n",
      "  warnings.warn(\n",
      "/home/philip/anaconda3/lib/python3.11/site-packages/sklearn/preprocessing/_encoders.py:202: UserWarning: Found unknown categories in columns [10, 15] during transform. These unknown categories will be encoded as all zeros\n",
      "  warnings.warn(\n",
      "/home/philip/anaconda3/lib/python3.11/site-packages/sklearn/preprocessing/_encoders.py:202: UserWarning: Found unknown categories in columns [5, 14, 15, 16, 19, 29] during transform. These unknown categories will be encoded as all zeros\n",
      "  warnings.warn(\n",
      "/home/philip/anaconda3/lib/python3.11/site-packages/sklearn/preprocessing/_encoders.py:202: UserWarning: Found unknown categories in columns [8, 9, 10, 15, 22, 36] during transform. These unknown categories will be encoded as all zeros\n",
      "  warnings.warn(\n",
      "/home/philip/anaconda3/lib/python3.11/site-packages/sklearn/preprocessing/_encoders.py:202: UserWarning: Found unknown categories in columns [10, 15] during transform. These unknown categories will be encoded as all zeros\n",
      "  warnings.warn(\n",
      "/home/philip/anaconda3/lib/python3.11/site-packages/sklearn/preprocessing/_encoders.py:202: UserWarning: Found unknown categories in columns [5, 14, 15, 16, 19, 29] during transform. These unknown categories will be encoded as all zeros\n",
      "  warnings.warn(\n",
      "/home/philip/anaconda3/lib/python3.11/site-packages/sklearn/preprocessing/_encoders.py:202: UserWarning: Found unknown categories in columns [14, 15, 26, 40] during transform. These unknown categories will be encoded as all zeros\n",
      "  warnings.warn(\n"
     ]
    },
    {
     "name": "stdout",
     "output_type": "stream",
     "text": [
      "[CV] END .............regressor__max_depth=5, selector__k=13; total time=   0.1s\n",
      "[CV] END .............regressor__max_depth=5, selector__k=13; total time=   0.1s\n",
      "[CV] END .............regressor__max_depth=5, selector__k=13; total time=   0.1s\n",
      "[CV] END .............regressor__max_depth=5, selector__k=14; total time=   0.1s\n",
      "[CV] END .............regressor__max_depth=5, selector__k=14; total time=   0.1s\n",
      "[CV] END .............regressor__max_depth=5, selector__k=14; total time=   0.1s\n",
      "[CV] END .............regressor__max_depth=5, selector__k=13; total time=   0.1s\n",
      "[CV] END .............regressor__max_depth=5, selector__k=14; total time=   0.1s\n",
      "[CV] END .............regressor__max_depth=5, selector__k=15; total time=   0.1s\n"
     ]
    },
    {
     "name": "stderr",
     "output_type": "stream",
     "text": [
      "/home/philip/anaconda3/lib/python3.11/site-packages/sklearn/preprocessing/_encoders.py:202: UserWarning: Found unknown categories in columns [14, 15, 26, 40] during transform. These unknown categories will be encoded as all zeros\n",
      "  warnings.warn(\n",
      "/home/philip/anaconda3/lib/python3.11/site-packages/sklearn/preprocessing/_encoders.py:202: UserWarning: Found unknown categories in columns [8, 9, 10, 15, 22, 36] during transform. These unknown categories will be encoded as all zeros\n",
      "  warnings.warn(\n",
      "/home/philip/anaconda3/lib/python3.11/site-packages/sklearn/preprocessing/_encoders.py:202: UserWarning: Found unknown categories in columns [10, 15] during transform. These unknown categories will be encoded as all zeros\n",
      "  warnings.warn(\n",
      "/home/philip/anaconda3/lib/python3.11/site-packages/sklearn/preprocessing/_encoders.py:202: UserWarning: Found unknown categories in columns [10, 13, 14, 27, 31] during transform. These unknown categories will be encoded as all zeros\n",
      "  warnings.warn(\n",
      "/home/philip/anaconda3/lib/python3.11/site-packages/sklearn/preprocessing/_encoders.py:202: UserWarning: Found unknown categories in columns [8, 9, 10, 15, 22, 36] during transform. These unknown categories will be encoded as all zeros\n",
      "  warnings.warn(\n",
      "/home/philip/anaconda3/lib/python3.11/site-packages/sklearn/preprocessing/_encoders.py:202: UserWarning: Found unknown categories in columns [10, 15] during transform. These unknown categories will be encoded as all zeros\n",
      "  warnings.warn(\n",
      "/home/philip/anaconda3/lib/python3.11/site-packages/sklearn/preprocessing/_encoders.py:202: UserWarning: Found unknown categories in columns [10, 13, 14, 27, 31] during transform. These unknown categories will be encoded as all zeros\n",
      "  warnings.warn(\n",
      "/home/philip/anaconda3/lib/python3.11/site-packages/sklearn/preprocessing/_encoders.py:202: UserWarning: Found unknown categories in columns [5, 14, 15, 16, 19, 29] during transform. These unknown categories will be encoded as all zeros\n",
      "  warnings.warn(\n"
     ]
    },
    {
     "name": "stdout",
     "output_type": "stream",
     "text": [
      "[CV] END .............regressor__max_depth=5, selector__k=14; total time=   0.1s\n",
      "[CV] END .............regressor__max_depth=5, selector__k=15; total time=   0.1s\n",
      "[CV] END .............regressor__max_depth=5, selector__k=16; total time=   0.1s\n",
      "[CV] END .............regressor__max_depth=5, selector__k=15; total time=   0.1s\n",
      "[CV] END .............regressor__max_depth=5, selector__k=16; total time=   0.1s\n",
      "[CV] END .............regressor__max_depth=5, selector__k=16; total time=   0.1s\n",
      "[CV] END .............regressor__max_depth=5, selector__k=15; total time=   0.1s\n"
     ]
    },
    {
     "name": "stderr",
     "output_type": "stream",
     "text": [
      "/home/philip/anaconda3/lib/python3.11/site-packages/sklearn/preprocessing/_encoders.py:202: UserWarning: Found unknown categories in columns [10, 13, 14, 27, 31] during transform. These unknown categories will be encoded as all zeros\n",
      "  warnings.warn(\n",
      "/home/philip/anaconda3/lib/python3.11/site-packages/sklearn/preprocessing/_encoders.py:202: UserWarning: Found unknown categories in columns [14, 15, 26, 40] during transform. These unknown categories will be encoded as all zeros\n",
      "  warnings.warn(\n",
      "/home/philip/anaconda3/lib/python3.11/site-packages/sklearn/preprocessing/_encoders.py:202: UserWarning: Found unknown categories in columns [8, 9, 10, 15, 22, 36] during transform. These unknown categories will be encoded as all zeros\n",
      "  warnings.warn(\n",
      "/home/philip/anaconda3/lib/python3.11/site-packages/sklearn/preprocessing/_encoders.py:202: UserWarning: Found unknown categories in columns [14, 15, 26, 40] during transform. These unknown categories will be encoded as all zeros\n",
      "  warnings.warn(\n",
      "/home/philip/anaconda3/lib/python3.11/site-packages/sklearn/preprocessing/_encoders.py:202: UserWarning: Found unknown categories in columns [5, 14, 15, 16, 19, 29] during transform. These unknown categories will be encoded as all zeros\n",
      "  warnings.warn(\n",
      "/home/philip/anaconda3/lib/python3.11/site-packages/sklearn/preprocessing/_encoders.py:202: UserWarning: Found unknown categories in columns [8, 9, 10, 15, 22, 36] during transform. These unknown categories will be encoded as all zeros\n",
      "  warnings.warn(\n",
      "/home/philip/anaconda3/lib/python3.11/site-packages/sklearn/preprocessing/_encoders.py:202: UserWarning: Found unknown categories in columns [10, 13, 14, 27, 31] during transform. These unknown categories will be encoded as all zeros\n",
      "  warnings.warn(\n",
      "/home/philip/anaconda3/lib/python3.11/site-packages/sklearn/preprocessing/_encoders.py:202: UserWarning: Found unknown categories in columns [10, 15] during transform. These unknown categories will be encoded as all zeros\n",
      "  warnings.warn(\n"
     ]
    },
    {
     "name": "stdout",
     "output_type": "stream",
     "text": [
      "[CV] END .............regressor__max_depth=5, selector__k=16; total time=   0.1s\n",
      "[CV] END .............regressor__max_depth=5, selector__k=16; total time=   0.1s\n",
      "[CV] END .............regressor__max_depth=5, selector__k=15; total time=   0.1s\n",
      "[CV] END .............regressor__max_depth=5, selector__k=17; total time=   0.1s\n",
      "[CV] END .............regressor__max_depth=5, selector__k=17; total time=   0.1s\n",
      "[CV] END .............regressor__max_depth=5, selector__k=17; total time=   0.1s\n",
      "[CV] END .............regressor__max_depth=5, selector__k=18; total time=   0.1s\n",
      "[CV] END .............regressor__max_depth=5, selector__k=17; total time=   0.1s\n",
      "[CV] END .............regressor__max_depth=5, selector__k=18; total time=   0.1s\n",
      "[CV] END .............regressor__max_depth=5, selector__k=17; total time=   0.1s\n"
     ]
    },
    {
     "name": "stderr",
     "output_type": "stream",
     "text": [
      "/home/philip/anaconda3/lib/python3.11/site-packages/sklearn/preprocessing/_encoders.py:202: UserWarning: Found unknown categories in columns [10, 15] during transform. These unknown categories will be encoded as all zeros\n",
      "  warnings.warn(\n",
      "/home/philip/anaconda3/lib/python3.11/site-packages/sklearn/preprocessing/_encoders.py:202: UserWarning: Found unknown categories in columns [5, 14, 15, 16, 19, 29] during transform. These unknown categories will be encoded as all zeros\n",
      "  warnings.warn(\n",
      "/home/philip/anaconda3/lib/python3.11/site-packages/sklearn/preprocessing/_encoders.py:202: UserWarning: Found unknown categories in columns [5, 14, 15, 16, 19, 29] during transform. These unknown categories will be encoded as all zeros\n",
      "  warnings.warn(\n",
      "/home/philip/anaconda3/lib/python3.11/site-packages/sklearn/preprocessing/_encoders.py:202: UserWarning: Found unknown categories in columns [14, 15, 26, 40] during transform. These unknown categories will be encoded as all zeros\n",
      "  warnings.warn(\n",
      "/home/philip/anaconda3/lib/python3.11/site-packages/sklearn/preprocessing/_encoders.py:202: UserWarning: Found unknown categories in columns [14, 15, 26, 40] during transform. These unknown categories will be encoded as all zeros\n",
      "  warnings.warn(\n",
      "/home/philip/anaconda3/lib/python3.11/site-packages/sklearn/preprocessing/_encoders.py:202: UserWarning: Found unknown categories in columns [8, 9, 10, 15, 22, 36] during transform. These unknown categories will be encoded as all zeros\n",
      "  warnings.warn(\n",
      "/home/philip/anaconda3/lib/python3.11/site-packages/sklearn/preprocessing/_encoders.py:202: UserWarning: Found unknown categories in columns [10, 13, 14, 27, 31] during transform. These unknown categories will be encoded as all zeros\n",
      "  warnings.warn(\n",
      "/home/philip/anaconda3/lib/python3.11/site-packages/sklearn/preprocessing/_encoders.py:202: UserWarning: Found unknown categories in columns [10, 13, 14, 27, 31] during transform. These unknown categories will be encoded as all zeros\n",
      "  warnings.warn(\n",
      "/home/philip/anaconda3/lib/python3.11/site-packages/sklearn/preprocessing/_encoders.py:202: UserWarning: Found unknown categories in columns [5, 14, 15, 16, 19, 29] during transform. These unknown categories will be encoded as all zeros\n",
      "  warnings.warn(\n",
      "/home/philip/anaconda3/lib/python3.11/site-packages/sklearn/preprocessing/_encoders.py:202: UserWarning: Found unknown categories in columns [8, 9, 10, 15, 22, 36] during transform. These unknown categories will be encoded as all zeros\n",
      "  warnings.warn(\n"
     ]
    },
    {
     "name": "stdout",
     "output_type": "stream",
     "text": [
      "[CV] END .............regressor__max_depth=5, selector__k=18; total time=   0.1s\n",
      "[CV] END .............regressor__max_depth=5, selector__k=18; total time=   0.1s\n",
      "[CV] END .............regressor__max_depth=5, selector__k=19; total time=   0.1s\n",
      "[CV] END .............regressor__max_depth=5, selector__k=18; total time=   0.1s\n",
      "[CV] END .............regressor__max_depth=5, selector__k=19; total time=   0.1s\n",
      "[CV] END .............regressor__max_depth=5, selector__k=19; total time=   0.1s\n",
      "[CV] END .............regressor__max_depth=5, selector__k=19; total time=   0.1s\n",
      "[CV] END ..............regressor__max_depth=7, selector__k=2; total time=   0.1s\n",
      "[CV] END ..............regressor__max_depth=7, selector__k=2; total time=   0.1s\n",
      "[CV] END .............regressor__max_depth=5, selector__k=19; total time=   0.1s\n"
     ]
    },
    {
     "name": "stderr",
     "output_type": "stream",
     "text": [
      "/home/philip/anaconda3/lib/python3.11/site-packages/sklearn/preprocessing/_encoders.py:202: UserWarning: Found unknown categories in columns [10, 15] during transform. These unknown categories will be encoded as all zeros\n",
      "  warnings.warn(\n",
      "/home/philip/anaconda3/lib/python3.11/site-packages/sklearn/preprocessing/_encoders.py:202: UserWarning: Found unknown categories in columns [10, 15] during transform. These unknown categories will be encoded as all zeros\n",
      "  warnings.warn(\n",
      "/home/philip/anaconda3/lib/python3.11/site-packages/sklearn/preprocessing/_encoders.py:202: UserWarning: Found unknown categories in columns [5, 14, 15, 16, 19, 29] during transform. These unknown categories will be encoded as all zeros\n",
      "  warnings.warn(\n",
      "/home/philip/anaconda3/lib/python3.11/site-packages/sklearn/preprocessing/_encoders.py:202: UserWarning: Found unknown categories in columns [14, 15, 26, 40] during transform. These unknown categories will be encoded as all zeros\n",
      "  warnings.warn(\n",
      "/home/philip/anaconda3/lib/python3.11/site-packages/sklearn/preprocessing/_encoders.py:202: UserWarning: Found unknown categories in columns [14, 15, 26, 40] during transform. These unknown categories will be encoded as all zeros\n",
      "  warnings.warn(\n",
      "/home/philip/anaconda3/lib/python3.11/site-packages/sklearn/preprocessing/_encoders.py:202: UserWarning: Found unknown categories in columns [10, 13, 14, 27, 31] during transform. These unknown categories will be encoded as all zeros\n",
      "  warnings.warn(\n",
      "/home/philip/anaconda3/lib/python3.11/site-packages/sklearn/preprocessing/_encoders.py:202: UserWarning: Found unknown categories in columns [10, 13, 14, 27, 31] during transform. These unknown categories will be encoded as all zeros\n",
      "  warnings.warn(\n",
      "/home/philip/anaconda3/lib/python3.11/site-packages/sklearn/preprocessing/_encoders.py:202: UserWarning: Found unknown categories in columns [8, 9, 10, 15, 22, 36] during transform. These unknown categories will be encoded as all zeros\n",
      "  warnings.warn(\n",
      "/home/philip/anaconda3/lib/python3.11/site-packages/sklearn/preprocessing/_encoders.py:202: UserWarning: Found unknown categories in columns [10, 15] during transform. These unknown categories will be encoded as all zeros\n",
      "  warnings.warn(\n"
     ]
    },
    {
     "name": "stdout",
     "output_type": "stream",
     "text": [
      "[CV] END ..............regressor__max_depth=7, selector__k=2; total time=   0.1s\n",
      "[CV] END ..............regressor__max_depth=7, selector__k=3; total time=   0.1s\n",
      "[CV] END ..............regressor__max_depth=7, selector__k=2; total time=   0.1s\n",
      "[CV] END ..............regressor__max_depth=7, selector__k=2; total time=   0.1s\n",
      "[CV] END ..............regressor__max_depth=7, selector__k=3; total time=   0.1s\n",
      "[CV] END ..............regressor__max_depth=7, selector__k=3; total time=   0.1s\n",
      "[CV] END ..............regressor__max_depth=7, selector__k=3; total time=   0.1s\n",
      "[CV] END ..............regressor__max_depth=7, selector__k=4; total time=   0.1s\n",
      "[CV] END ..............regressor__max_depth=7, selector__k=4; total time=   0.1s\n"
     ]
    },
    {
     "name": "stderr",
     "output_type": "stream",
     "text": [
      "/home/philip/anaconda3/lib/python3.11/site-packages/sklearn/preprocessing/_encoders.py:202: UserWarning: Found unknown categories in columns [5, 14, 15, 16, 19, 29] during transform. These unknown categories will be encoded as all zeros\n",
      "  warnings.warn(\n",
      "/home/philip/anaconda3/lib/python3.11/site-packages/sklearn/preprocessing/_encoders.py:202: UserWarning: Found unknown categories in columns [8, 9, 10, 15, 22, 36] during transform. These unknown categories will be encoded as all zeros\n",
      "  warnings.warn(\n",
      "/home/philip/anaconda3/lib/python3.11/site-packages/sklearn/preprocessing/_encoders.py:202: UserWarning: Found unknown categories in columns [5, 14, 15, 16, 19, 29] during transform. These unknown categories will be encoded as all zeros\n",
      "  warnings.warn(\n",
      "/home/philip/anaconda3/lib/python3.11/site-packages/sklearn/preprocessing/_encoders.py:202: UserWarning: Found unknown categories in columns [10, 15] during transform. These unknown categories will be encoded as all zeros\n",
      "  warnings.warn(\n",
      "/home/philip/anaconda3/lib/python3.11/site-packages/sklearn/preprocessing/_encoders.py:202: UserWarning: Found unknown categories in columns [14, 15, 26, 40] during transform. These unknown categories will be encoded as all zeros\n",
      "  warnings.warn(\n",
      "/home/philip/anaconda3/lib/python3.11/site-packages/sklearn/preprocessing/_encoders.py:202: UserWarning: Found unknown categories in columns [8, 9, 10, 15, 22, 36] during transform. These unknown categories will be encoded as all zeros\n",
      "  warnings.warn(\n",
      "/home/philip/anaconda3/lib/python3.11/site-packages/sklearn/preprocessing/_encoders.py:202: UserWarning: Found unknown categories in columns [14, 15, 26, 40] during transform. These unknown categories will be encoded as all zeros\n",
      "  warnings.warn(\n",
      "/home/philip/anaconda3/lib/python3.11/site-packages/sklearn/preprocessing/_encoders.py:202: UserWarning: Found unknown categories in columns [10, 13, 14, 27, 31] during transform. These unknown categories will be encoded as all zeros\n",
      "  warnings.warn(\n",
      "/home/philip/anaconda3/lib/python3.11/site-packages/sklearn/preprocessing/_encoders.py:202: UserWarning: Found unknown categories in columns [10, 15] during transform. These unknown categories will be encoded as all zeros\n",
      "  warnings.warn(\n",
      "/home/philip/anaconda3/lib/python3.11/site-packages/sklearn/preprocessing/_encoders.py:202: UserWarning: Found unknown categories in columns [10, 13, 14, 27, 31] during transform. These unknown categories will be encoded as all zeros\n",
      "  warnings.warn(\n",
      "/home/philip/anaconda3/lib/python3.11/site-packages/sklearn/preprocessing/_encoders.py:202: UserWarning: Found unknown categories in columns [8, 9, 10, 15, 22, 36] during transform. These unknown categories will be encoded as all zeros\n",
      "  warnings.warn(\n"
     ]
    },
    {
     "name": "stdout",
     "output_type": "stream",
     "text": [
      "[CV] END ..............regressor__max_depth=7, selector__k=4; total time=   0.1s\n",
      "[CV] END ..............regressor__max_depth=7, selector__k=4; total time=   0.1s\n",
      "[CV] END ..............regressor__max_depth=7, selector__k=3; total time=   0.1s\n",
      "[CV] END ..............regressor__max_depth=7, selector__k=4; total time=   0.1s\n",
      "[CV] END ..............regressor__max_depth=7, selector__k=5; total time=   0.1s\n",
      "[CV] END ..............regressor__max_depth=7, selector__k=5; total time=   0.1s\n",
      "[CV] END ..............regressor__max_depth=7, selector__k=5; total time=   0.1s\n",
      "[CV] END ..............regressor__max_depth=7, selector__k=6; total time=   0.1s\n",
      "[CV] END ..............regressor__max_depth=7, selector__k=6; total time=   0.1s\n",
      "[CV] END ..............regressor__max_depth=7, selector__k=5; total time=   0.1s\n",
      "[CV] END ..............regressor__max_depth=7, selector__k=5; total time=   0.1s\n"
     ]
    },
    {
     "name": "stderr",
     "output_type": "stream",
     "text": [
      "/home/philip/anaconda3/lib/python3.11/site-packages/sklearn/preprocessing/_encoders.py:202: UserWarning: Found unknown categories in columns [5, 14, 15, 16, 19, 29] during transform. These unknown categories will be encoded as all zeros\n",
      "  warnings.warn(\n",
      "/home/philip/anaconda3/lib/python3.11/site-packages/sklearn/preprocessing/_encoders.py:202: UserWarning: Found unknown categories in columns [10, 15] during transform. These unknown categories will be encoded as all zeros\n",
      "  warnings.warn(\n",
      "/home/philip/anaconda3/lib/python3.11/site-packages/sklearn/preprocessing/_encoders.py:202: UserWarning: Found unknown categories in columns [5, 14, 15, 16, 19, 29] during transform. These unknown categories will be encoded as all zeros\n",
      "  warnings.warn(\n",
      "/home/philip/anaconda3/lib/python3.11/site-packages/sklearn/preprocessing/_encoders.py:202: UserWarning: Found unknown categories in columns [14, 15, 26, 40] during transform. These unknown categories will be encoded as all zeros\n",
      "  warnings.warn(\n",
      "/home/philip/anaconda3/lib/python3.11/site-packages/sklearn/preprocessing/_encoders.py:202: UserWarning: Found unknown categories in columns [8, 9, 10, 15, 22, 36] during transform. These unknown categories will be encoded as all zeros\n",
      "  warnings.warn(\n",
      "/home/philip/anaconda3/lib/python3.11/site-packages/sklearn/preprocessing/_encoders.py:202: UserWarning: Found unknown categories in columns [10, 13, 14, 27, 31] during transform. These unknown categories will be encoded as all zeros\n",
      "  warnings.warn(\n",
      "/home/philip/anaconda3/lib/python3.11/site-packages/sklearn/preprocessing/_encoders.py:202: UserWarning: Found unknown categories in columns [10, 13, 14, 27, 31] during transform. These unknown categories will be encoded as all zeros\n",
      "  warnings.warn(\n",
      "/home/philip/anaconda3/lib/python3.11/site-packages/sklearn/preprocessing/_encoders.py:202: UserWarning: Found unknown categories in columns [14, 15, 26, 40] during transform. These unknown categories will be encoded as all zeros\n",
      "  warnings.warn(\n",
      "/home/philip/anaconda3/lib/python3.11/site-packages/sklearn/preprocessing/_encoders.py:202: UserWarning: Found unknown categories in columns [5, 14, 15, 16, 19, 29] during transform. These unknown categories will be encoded as all zeros\n",
      "  warnings.warn(\n",
      "/home/philip/anaconda3/lib/python3.11/site-packages/sklearn/preprocessing/_encoders.py:202: UserWarning: Found unknown categories in columns [8, 9, 10, 15, 22, 36] during transform. These unknown categories will be encoded as all zeros\n",
      "  warnings.warn(\n",
      "/home/philip/anaconda3/lib/python3.11/site-packages/sklearn/preprocessing/_encoders.py:202: UserWarning: Found unknown categories in columns [10, 15] during transform. These unknown categories will be encoded as all zeros\n",
      "  warnings.warn(\n",
      "/home/philip/anaconda3/lib/python3.11/site-packages/sklearn/preprocessing/_encoders.py:202: UserWarning: Found unknown categories in columns [10, 15] during transform. These unknown categories will be encoded as all zeros\n",
      "  warnings.warn(\n"
     ]
    },
    {
     "name": "stdout",
     "output_type": "stream",
     "text": [
      "[CV] END ..............regressor__max_depth=7, selector__k=6; total time=   0.1s\n",
      "[CV] END ..............regressor__max_depth=7, selector__k=7; total time=   0.1s\n",
      "[CV] END ..............regressor__max_depth=7, selector__k=6; total time=   0.1s\n",
      "[CV] END ..............regressor__max_depth=7, selector__k=6; total time=   0.1s\n",
      "[CV] END ..............regressor__max_depth=7, selector__k=7; total time=   0.1s\n",
      "[CV] END ..............regressor__max_depth=7, selector__k=7; total time=   0.1s\n",
      "[CV] END ..............regressor__max_depth=7, selector__k=7; total time=   0.1s\n",
      "[CV] END ..............regressor__max_depth=7, selector__k=8; total time=   0.1s\n",
      "[CV] END ..............regressor__max_depth=7, selector__k=8; total time=   0.1s\n",
      "[CV] END ..............regressor__max_depth=7, selector__k=7; total time=   0.1s\n",
      "[CV] END ..............regressor__max_depth=7, selector__k=8; total time=   0.1s\n",
      "[CV] END ..............regressor__max_depth=7, selector__k=8; total time=   0.1s\n"
     ]
    },
    {
     "name": "stderr",
     "output_type": "stream",
     "text": [
      "/home/philip/anaconda3/lib/python3.11/site-packages/sklearn/preprocessing/_encoders.py:202: UserWarning: Found unknown categories in columns [5, 14, 15, 16, 19, 29] during transform. These unknown categories will be encoded as all zeros\n",
      "  warnings.warn(\n",
      "/home/philip/anaconda3/lib/python3.11/site-packages/sklearn/preprocessing/_encoders.py:202: UserWarning: Found unknown categories in columns [14, 15, 26, 40] during transform. These unknown categories will be encoded as all zeros\n",
      "  warnings.warn(\n",
      "/home/philip/anaconda3/lib/python3.11/site-packages/sklearn/preprocessing/_encoders.py:202: UserWarning: Found unknown categories in columns [14, 15, 26, 40] during transform. These unknown categories will be encoded as all zeros\n",
      "  warnings.warn(\n",
      "/home/philip/anaconda3/lib/python3.11/site-packages/sklearn/preprocessing/_encoders.py:202: UserWarning: Found unknown categories in columns [10, 13, 14, 27, 31] during transform. These unknown categories will be encoded as all zeros\n",
      "  warnings.warn(\n",
      "/home/philip/anaconda3/lib/python3.11/site-packages/sklearn/preprocessing/_encoders.py:202: UserWarning: Found unknown categories in columns [8, 9, 10, 15, 22, 36] during transform. These unknown categories will be encoded as all zeros\n",
      "  warnings.warn(\n",
      "/home/philip/anaconda3/lib/python3.11/site-packages/sklearn/preprocessing/_encoders.py:202: UserWarning: Found unknown categories in columns [10, 13, 14, 27, 31] during transform. These unknown categories will be encoded as all zeros\n",
      "  warnings.warn(\n",
      "/home/philip/anaconda3/lib/python3.11/site-packages/sklearn/preprocessing/_encoders.py:202: UserWarning: Found unknown categories in columns [10, 15] during transform. These unknown categories will be encoded as all zeros\n",
      "  warnings.warn(\n",
      "/home/philip/anaconda3/lib/python3.11/site-packages/sklearn/preprocessing/_encoders.py:202: UserWarning: Found unknown categories in columns [8, 9, 10, 15, 22, 36] during transform. These unknown categories will be encoded as all zeros\n",
      "  warnings.warn(\n",
      "/home/philip/anaconda3/lib/python3.11/site-packages/sklearn/preprocessing/_encoders.py:202: UserWarning: Found unknown categories in columns [10, 15] during transform. These unknown categories will be encoded as all zeros\n",
      "  warnings.warn(\n",
      "/home/philip/anaconda3/lib/python3.11/site-packages/sklearn/preprocessing/_encoders.py:202: UserWarning: Found unknown categories in columns [5, 14, 15, 16, 19, 29] during transform. These unknown categories will be encoded as all zeros\n",
      "  warnings.warn(\n",
      "/home/philip/anaconda3/lib/python3.11/site-packages/sklearn/preprocessing/_encoders.py:202: UserWarning: Found unknown categories in columns [5, 14, 15, 16, 19, 29] during transform. These unknown categories will be encoded as all zeros\n",
      "  warnings.warn(\n",
      "/home/philip/anaconda3/lib/python3.11/site-packages/sklearn/preprocessing/_encoders.py:202: UserWarning: Found unknown categories in columns [10, 13, 14, 27, 31] during transform. These unknown categories will be encoded as all zeros\n",
      "  warnings.warn(\n"
     ]
    },
    {
     "name": "stdout",
     "output_type": "stream",
     "text": [
      "[CV] END ..............regressor__max_depth=7, selector__k=8; total time=   0.1s\n",
      "[CV] END ..............regressor__max_depth=7, selector__k=9; total time=   0.1s\n",
      "[CV] END ..............regressor__max_depth=7, selector__k=9; total time=   0.1s\n",
      "[CV] END ..............regressor__max_depth=7, selector__k=9; total time=   0.1s\n",
      "[CV] END .............regressor__max_depth=7, selector__k=10; total time=   0.1s\n",
      "[CV] END ..............regressor__max_depth=7, selector__k=9; total time=   0.1s\n",
      "[CV] END .............regressor__max_depth=7, selector__k=10; total time=   0.1s\n",
      "[CV] END .............regressor__max_depth=7, selector__k=10; total time=   0.1s\n",
      "[CV] END ..............regressor__max_depth=7, selector__k=9; total time=   0.1s\n",
      "[CV] END .............regressor__max_depth=7, selector__k=10; total time=   0.1s\n",
      "[CV] END .............regressor__max_depth=7, selector__k=10; total time=   0.1s\n"
     ]
    },
    {
     "name": "stderr",
     "output_type": "stream",
     "text": [
      "/home/philip/anaconda3/lib/python3.11/site-packages/sklearn/preprocessing/_encoders.py:202: UserWarning: Found unknown categories in columns [14, 15, 26, 40] during transform. These unknown categories will be encoded as all zeros\n",
      "  warnings.warn(\n",
      "/home/philip/anaconda3/lib/python3.11/site-packages/sklearn/preprocessing/_encoders.py:202: UserWarning: Found unknown categories in columns [14, 15, 26, 40] during transform. These unknown categories will be encoded as all zeros\n",
      "  warnings.warn(\n",
      "/home/philip/anaconda3/lib/python3.11/site-packages/sklearn/preprocessing/_encoders.py:202: UserWarning: Found unknown categories in columns [8, 9, 10, 15, 22, 36] during transform. These unknown categories will be encoded as all zeros\n",
      "  warnings.warn(\n",
      "/home/philip/anaconda3/lib/python3.11/site-packages/sklearn/preprocessing/_encoders.py:202: UserWarning: Found unknown categories in columns [10, 13, 14, 27, 31] during transform. These unknown categories will be encoded as all zeros\n",
      "  warnings.warn(\n",
      "/home/philip/anaconda3/lib/python3.11/site-packages/sklearn/preprocessing/_encoders.py:202: UserWarning: Found unknown categories in columns [8, 9, 10, 15, 22, 36] during transform. These unknown categories will be encoded as all zeros\n",
      "  warnings.warn(\n",
      "/home/philip/anaconda3/lib/python3.11/site-packages/sklearn/preprocessing/_encoders.py:202: UserWarning: Found unknown categories in columns [10, 15] during transform. These unknown categories will be encoded as all zeros\n",
      "  warnings.warn(\n",
      "/home/philip/anaconda3/lib/python3.11/site-packages/sklearn/preprocessing/_encoders.py:202: UserWarning: Found unknown categories in columns [5, 14, 15, 16, 19, 29] during transform. These unknown categories will be encoded as all zeros\n",
      "  warnings.warn(\n",
      "/home/philip/anaconda3/lib/python3.11/site-packages/sklearn/preprocessing/_encoders.py:202: UserWarning: Found unknown categories in columns [10, 15] during transform. These unknown categories will be encoded as all zeros\n",
      "  warnings.warn(\n",
      "/home/philip/anaconda3/lib/python3.11/site-packages/sklearn/preprocessing/_encoders.py:202: UserWarning: Found unknown categories in columns [14, 15, 26, 40] during transform. These unknown categories will be encoded as all zeros\n",
      "  warnings.warn(\n",
      "/home/philip/anaconda3/lib/python3.11/site-packages/sklearn/preprocessing/_encoders.py:202: UserWarning: Found unknown categories in columns [5, 14, 15, 16, 19, 29] during transform. These unknown categories will be encoded as all zeros\n",
      "  warnings.warn(\n"
     ]
    },
    {
     "name": "stdout",
     "output_type": "stream",
     "text": [
      "[CV] END .............regressor__max_depth=7, selector__k=11; total time=   0.1s\n",
      "[CV] END .............regressor__max_depth=7, selector__k=11; total time=   0.1s\n",
      "[CV] END .............regressor__max_depth=7, selector__k=11; total time=   0.1s\n",
      "[CV] END .............regressor__max_depth=7, selector__k=11; total time=   0.1s\n",
      "[CV] END .............regressor__max_depth=7, selector__k=12; total time=   0.1s\n",
      "[CV] END .............regressor__max_depth=7, selector__k=11; total time=   0.1s\n",
      "[CV] END .............regressor__max_depth=7, selector__k=12; total time=   0.1s\n",
      "[CV] END .............regressor__max_depth=7, selector__k=12; total time=   0.1s\n",
      "[CV] END .............regressor__max_depth=7, selector__k=12; total time=   0.1s\n",
      "[CV] END .............regressor__max_depth=7, selector__k=13; total time=   0.1s\n"
     ]
    },
    {
     "name": "stderr",
     "output_type": "stream",
     "text": [
      "/home/philip/anaconda3/lib/python3.11/site-packages/sklearn/preprocessing/_encoders.py:202: UserWarning: Found unknown categories in columns [14, 15, 26, 40] during transform. These unknown categories will be encoded as all zeros\n",
      "  warnings.warn(\n",
      "/home/philip/anaconda3/lib/python3.11/site-packages/sklearn/preprocessing/_encoders.py:202: UserWarning: Found unknown categories in columns [10, 13, 14, 27, 31] during transform. These unknown categories will be encoded as all zeros\n",
      "  warnings.warn(\n",
      "/home/philip/anaconda3/lib/python3.11/site-packages/sklearn/preprocessing/_encoders.py:202: UserWarning: Found unknown categories in columns [10, 13, 14, 27, 31] during transform. These unknown categories will be encoded as all zeros\n",
      "  warnings.warn(\n",
      "/home/philip/anaconda3/lib/python3.11/site-packages/sklearn/preprocessing/_encoders.py:202: UserWarning: Found unknown categories in columns [10, 15] during transform. These unknown categories will be encoded as all zeros\n",
      "  warnings.warn(\n",
      "/home/philip/anaconda3/lib/python3.11/site-packages/sklearn/preprocessing/_encoders.py:202: UserWarning: Found unknown categories in columns [8, 9, 10, 15, 22, 36] during transform. These unknown categories will be encoded as all zeros\n",
      "  warnings.warn(\n",
      "/home/philip/anaconda3/lib/python3.11/site-packages/sklearn/preprocessing/_encoders.py:202: UserWarning: Found unknown categories in columns [8, 9, 10, 15, 22, 36] during transform. These unknown categories will be encoded as all zeros\n",
      "  warnings.warn(\n",
      "/home/philip/anaconda3/lib/python3.11/site-packages/sklearn/preprocessing/_encoders.py:202: UserWarning: Found unknown categories in columns [5, 14, 15, 16, 19, 29] during transform. These unknown categories will be encoded as all zeros\n",
      "  warnings.warn(\n",
      "/home/philip/anaconda3/lib/python3.11/site-packages/sklearn/preprocessing/_encoders.py:202: UserWarning: Found unknown categories in columns [5, 14, 15, 16, 19, 29] during transform. These unknown categories will be encoded as all zeros\n",
      "  warnings.warn(\n",
      "/home/philip/anaconda3/lib/python3.11/site-packages/sklearn/preprocessing/_encoders.py:202: UserWarning: Found unknown categories in columns [10, 15] during transform. These unknown categories will be encoded as all zeros\n",
      "  warnings.warn(\n",
      "/home/philip/anaconda3/lib/python3.11/site-packages/sklearn/preprocessing/_encoders.py:202: UserWarning: Found unknown categories in columns [14, 15, 26, 40] during transform. These unknown categories will be encoded as all zeros\n",
      "  warnings.warn(\n"
     ]
    },
    {
     "name": "stdout",
     "output_type": "stream",
     "text": [
      "[CV] END .............regressor__max_depth=7, selector__k=13; total time=   0.1s\n",
      "[CV] END .............regressor__max_depth=7, selector__k=12; total time=   0.1s\n",
      "[CV] END .............regressor__max_depth=7, selector__k=13; total time=   0.1s\n",
      "[CV] END .............regressor__max_depth=7, selector__k=13; total time=   0.1s\n",
      "[CV] END .............regressor__max_depth=7, selector__k=14; total time=   0.1s[CV] END .............regressor__max_depth=7, selector__k=14; total time=   0.1s\n",
      "\n",
      "[CV] END .............regressor__max_depth=7, selector__k=13; total time=   0.1s\n",
      "[CV] END .............regressor__max_depth=7, selector__k=15; total time=   0.1s\n",
      "[CV] END .............regressor__max_depth=7, selector__k=14; total time=   0.1s\n"
     ]
    },
    {
     "name": "stderr",
     "output_type": "stream",
     "text": [
      "/home/philip/anaconda3/lib/python3.11/site-packages/sklearn/preprocessing/_encoders.py:202: UserWarning: Found unknown categories in columns [10, 13, 14, 27, 31] during transform. These unknown categories will be encoded as all zeros\n",
      "  warnings.warn(\n",
      "/home/philip/anaconda3/lib/python3.11/site-packages/sklearn/preprocessing/_encoders.py:202: UserWarning: Found unknown categories in columns [14, 15, 26, 40] during transform. These unknown categories will be encoded as all zeros\n",
      "  warnings.warn(\n",
      "/home/philip/anaconda3/lib/python3.11/site-packages/sklearn/preprocessing/_encoders.py:202: UserWarning: Found unknown categories in columns [8, 9, 10, 15, 22, 36] during transform. These unknown categories will be encoded as all zeros\n",
      "  warnings.warn(\n",
      "/home/philip/anaconda3/lib/python3.11/site-packages/sklearn/preprocessing/_encoders.py:202: UserWarning: Found unknown categories in columns [10, 13, 14, 27, 31] during transform. These unknown categories will be encoded as all zeros\n",
      "  warnings.warn(\n",
      "/home/philip/anaconda3/lib/python3.11/site-packages/sklearn/preprocessing/_encoders.py:202: UserWarning: Found unknown categories in columns [5, 14, 15, 16, 19, 29] during transform. These unknown categories will be encoded as all zeros\n",
      "  warnings.warn(\n",
      "/home/philip/anaconda3/lib/python3.11/site-packages/sklearn/preprocessing/_encoders.py:202: UserWarning: Found unknown categories in columns [10, 15] during transform. These unknown categories will be encoded as all zeros\n",
      "  warnings.warn(\n",
      "/home/philip/anaconda3/lib/python3.11/site-packages/sklearn/preprocessing/_encoders.py:202: UserWarning: Found unknown categories in columns [8, 9, 10, 15, 22, 36] during transform. These unknown categories will be encoded as all zeros\n",
      "  warnings.warn(\n",
      "/home/philip/anaconda3/lib/python3.11/site-packages/sklearn/preprocessing/_encoders.py:202: UserWarning: Found unknown categories in columns [10, 15] during transform. These unknown categories will be encoded as all zeros\n",
      "  warnings.warn(\n",
      "/home/philip/anaconda3/lib/python3.11/site-packages/sklearn/preprocessing/_encoders.py:202: UserWarning: Found unknown categories in columns [5, 14, 15, 16, 19, 29] during transform. These unknown categories will be encoded as all zeros\n",
      "  warnings.warn(\n",
      "/home/philip/anaconda3/lib/python3.11/site-packages/sklearn/preprocessing/_encoders.py:202: UserWarning: Found unknown categories in columns [14, 15, 26, 40] during transform. These unknown categories will be encoded as all zeros\n",
      "  warnings.warn(\n",
      "/home/philip/anaconda3/lib/python3.11/site-packages/sklearn/preprocessing/_encoders.py:202: UserWarning: Found unknown categories in columns [14, 15, 26, 40] during transform. These unknown categories will be encoded as all zeros\n",
      "  warnings.warn(\n"
     ]
    },
    {
     "name": "stdout",
     "output_type": "stream",
     "text": [
      "[CV] END .............regressor__max_depth=7, selector__k=14; total time=   0.1s\n",
      "[CV] END .............regressor__max_depth=7, selector__k=14; total time=   0.1s\n",
      "[CV] END .............regressor__max_depth=7, selector__k=15; total time=   0.1s\n",
      "[CV] END .............regressor__max_depth=7, selector__k=15; total time=   0.1s\n",
      "[CV] END .............regressor__max_depth=7, selector__k=15; total time=   0.1s\n",
      "[CV] END .............regressor__max_depth=7, selector__k=16; total time=   0.1s\n",
      "[CV] END .............regressor__max_depth=7, selector__k=16; total time=   0.1s\n",
      "[CV] END .............regressor__max_depth=7, selector__k=15; total time=   0.1s\n",
      "[CV] END .............regressor__max_depth=7, selector__k=16; total time=   0.1s\n",
      "[CV] END .............regressor__max_depth=7, selector__k=16; total time=   0.1s\n"
     ]
    },
    {
     "name": "stderr",
     "output_type": "stream",
     "text": [
      "/home/philip/anaconda3/lib/python3.11/site-packages/sklearn/preprocessing/_encoders.py:202: UserWarning: Found unknown categories in columns [10, 13, 14, 27, 31] during transform. These unknown categories will be encoded as all zeros\n",
      "  warnings.warn(\n",
      "/home/philip/anaconda3/lib/python3.11/site-packages/sklearn/preprocessing/_encoders.py:202: UserWarning: Found unknown categories in columns [10, 13, 14, 27, 31] during transform. These unknown categories will be encoded as all zeros\n",
      "  warnings.warn(\n",
      "/home/philip/anaconda3/lib/python3.11/site-packages/sklearn/preprocessing/_encoders.py:202: UserWarning: Found unknown categories in columns [8, 9, 10, 15, 22, 36] during transform. These unknown categories will be encoded as all zeros\n",
      "  warnings.warn(\n",
      "/home/philip/anaconda3/lib/python3.11/site-packages/sklearn/preprocessing/_encoders.py:202: UserWarning: Found unknown categories in columns [8, 9, 10, 15, 22, 36] during transform. These unknown categories will be encoded as all zeros\n",
      "  warnings.warn(\n",
      "/home/philip/anaconda3/lib/python3.11/site-packages/sklearn/preprocessing/_encoders.py:202: UserWarning: Found unknown categories in columns [10, 15] during transform. These unknown categories will be encoded as all zeros\n",
      "  warnings.warn(\n",
      "/home/philip/anaconda3/lib/python3.11/site-packages/sklearn/preprocessing/_encoders.py:202: UserWarning: Found unknown categories in columns [14, 15, 26, 40] during transform. These unknown categories will be encoded as all zeros\n",
      "  warnings.warn(\n",
      "/home/philip/anaconda3/lib/python3.11/site-packages/sklearn/preprocessing/_encoders.py:202: UserWarning: Found unknown categories in columns [5, 14, 15, 16, 19, 29] during transform. These unknown categories will be encoded as all zeros\n",
      "  warnings.warn(\n",
      "/home/philip/anaconda3/lib/python3.11/site-packages/sklearn/preprocessing/_encoders.py:202: UserWarning: Found unknown categories in columns [10, 15] during transform. These unknown categories will be encoded as all zeros\n",
      "  warnings.warn(\n",
      "/home/philip/anaconda3/lib/python3.11/site-packages/sklearn/preprocessing/_encoders.py:202: UserWarning: Found unknown categories in columns [5, 14, 15, 16, 19, 29] during transform. These unknown categories will be encoded as all zeros\n",
      "  warnings.warn(\n"
     ]
    },
    {
     "name": "stdout",
     "output_type": "stream",
     "text": [
      "[CV] END .............regressor__max_depth=7, selector__k=17; total time=   0.1s\n",
      "[CV] END .............regressor__max_depth=7, selector__k=17; total time=   0.1s\n",
      "[CV] END .............regressor__max_depth=7, selector__k=16; total time=   0.1s\n",
      "[CV] END .............regressor__max_depth=7, selector__k=17; total time=   0.1s\n",
      "[CV] END .............regressor__max_depth=7, selector__k=17; total time=   0.1s\n",
      "[CV] END .............regressor__max_depth=7, selector__k=17; total time=   0.1s\n",
      "[CV] END .............regressor__max_depth=7, selector__k=18; total time=   0.1s\n",
      "[CV] END .............regressor__max_depth=7, selector__k=18; total time=   0.1s\n",
      "[CV] END .............regressor__max_depth=7, selector__k=18; total time=   0.1s\n",
      "[CV] END .............regressor__max_depth=7, selector__k=19; total time=   0.1s\n"
     ]
    },
    {
     "name": "stderr",
     "output_type": "stream",
     "text": [
      "/home/philip/anaconda3/lib/python3.11/site-packages/sklearn/preprocessing/_encoders.py:202: UserWarning: Found unknown categories in columns [14, 15, 26, 40] during transform. These unknown categories will be encoded as all zeros\n",
      "  warnings.warn(\n",
      "/home/philip/anaconda3/lib/python3.11/site-packages/sklearn/preprocessing/_encoders.py:202: UserWarning: Found unknown categories in columns [10, 13, 14, 27, 31] during transform. These unknown categories will be encoded as all zeros\n",
      "  warnings.warn(\n",
      "/home/philip/anaconda3/lib/python3.11/site-packages/sklearn/preprocessing/_encoders.py:202: UserWarning: Found unknown categories in columns [8, 9, 10, 15, 22, 36] during transform. These unknown categories will be encoded as all zeros\n",
      "  warnings.warn(\n",
      "/home/philip/anaconda3/lib/python3.11/site-packages/sklearn/preprocessing/_encoders.py:202: UserWarning: Found unknown categories in columns [10, 13, 14, 27, 31] during transform. These unknown categories will be encoded as all zeros\n",
      "  warnings.warn(\n",
      "/home/philip/anaconda3/lib/python3.11/site-packages/sklearn/preprocessing/_encoders.py:202: UserWarning: Found unknown categories in columns [10, 15] during transform. These unknown categories will be encoded as all zeros\n",
      "  warnings.warn(\n",
      "/home/philip/anaconda3/lib/python3.11/site-packages/sklearn/preprocessing/_encoders.py:202: UserWarning: Found unknown categories in columns [5, 14, 15, 16, 19, 29] during transform. These unknown categories will be encoded as all zeros\n",
      "  warnings.warn(\n",
      "/home/philip/anaconda3/lib/python3.11/site-packages/sklearn/preprocessing/_encoders.py:202: UserWarning: Found unknown categories in columns [10, 15] during transform. These unknown categories will be encoded as all zeros\n",
      "  warnings.warn(\n",
      "/home/philip/anaconda3/lib/python3.11/site-packages/sklearn/preprocessing/_encoders.py:202: UserWarning: Found unknown categories in columns [8, 9, 10, 15, 22, 36] during transform. These unknown categories will be encoded as all zeros\n",
      "  warnings.warn(\n",
      "/home/philip/anaconda3/lib/python3.11/site-packages/sklearn/preprocessing/_encoders.py:202: UserWarning: Found unknown categories in columns [14, 15, 26, 40] during transform. These unknown categories will be encoded as all zeros\n",
      "  warnings.warn(\n",
      "/home/philip/anaconda3/lib/python3.11/site-packages/sklearn/preprocessing/_encoders.py:202: UserWarning: Found unknown categories in columns [5, 14, 15, 16, 19, 29] during transform. These unknown categories will be encoded as all zeros\n",
      "  warnings.warn(\n"
     ]
    },
    {
     "name": "stdout",
     "output_type": "stream",
     "text": [
      "[CV] END .............regressor__max_depth=7, selector__k=18; total time=   0.1s\n",
      "[CV] END .............regressor__max_depth=7, selector__k=18; total time=   0.1s\n",
      "[CV] END .............regressor__max_depth=7, selector__k=19; total time=   0.1s\n",
      "[CV] END .............regressor__max_depth=7, selector__k=19; total time=   0.1s\n",
      "[CV] END .............regressor__max_depth=10, selector__k=2; total time=   0.1s\n",
      "[CV] END .............regressor__max_depth=7, selector__k=19; total time=   0.1s\n",
      "[CV] END .............regressor__max_depth=10, selector__k=2; total time=   0.1s\n",
      "[CV] END .............regressor__max_depth=10, selector__k=2; total time=   0.1s\n",
      "[CV] END .............regressor__max_depth=10, selector__k=3; total time=   0.1s\n"
     ]
    },
    {
     "name": "stderr",
     "output_type": "stream",
     "text": [
      "/home/philip/anaconda3/lib/python3.11/site-packages/sklearn/preprocessing/_encoders.py:202: UserWarning: Found unknown categories in columns [10, 15] during transform. These unknown categories will be encoded as all zeros\n",
      "  warnings.warn(\n",
      "/home/philip/anaconda3/lib/python3.11/site-packages/sklearn/preprocessing/_encoders.py:202: UserWarning: Found unknown categories in columns [14, 15, 26, 40] during transform. These unknown categories will be encoded as all zeros\n",
      "  warnings.warn(\n",
      "/home/philip/anaconda3/lib/python3.11/site-packages/sklearn/preprocessing/_encoders.py:202: UserWarning: Found unknown categories in columns [10, 13, 14, 27, 31] during transform. These unknown categories will be encoded as all zeros\n",
      "  warnings.warn(\n",
      "/home/philip/anaconda3/lib/python3.11/site-packages/sklearn/preprocessing/_encoders.py:202: UserWarning: Found unknown categories in columns [8, 9, 10, 15, 22, 36] during transform. These unknown categories will be encoded as all zeros\n",
      "  warnings.warn(\n",
      "/home/philip/anaconda3/lib/python3.11/site-packages/sklearn/preprocessing/_encoders.py:202: UserWarning: Found unknown categories in columns [10, 13, 14, 27, 31] during transform. These unknown categories will be encoded as all zeros\n",
      "  warnings.warn(\n",
      "/home/philip/anaconda3/lib/python3.11/site-packages/sklearn/preprocessing/_encoders.py:202: UserWarning: Found unknown categories in columns [8, 9, 10, 15, 22, 36] during transform. These unknown categories will be encoded as all zeros\n",
      "  warnings.warn(\n",
      "/home/philip/anaconda3/lib/python3.11/site-packages/sklearn/preprocessing/_encoders.py:202: UserWarning: Found unknown categories in columns [10, 15] during transform. These unknown categories will be encoded as all zeros\n",
      "  warnings.warn(\n",
      "/home/philip/anaconda3/lib/python3.11/site-packages/sklearn/preprocessing/_encoders.py:202: UserWarning: Found unknown categories in columns [5, 14, 15, 16, 19, 29] during transform. These unknown categories will be encoded as all zeros\n",
      "  warnings.warn(\n",
      "/home/philip/anaconda3/lib/python3.11/site-packages/sklearn/preprocessing/_encoders.py:202: UserWarning: Found unknown categories in columns [5, 14, 15, 16, 19, 29] during transform. These unknown categories will be encoded as all zeros\n",
      "  warnings.warn(\n",
      "/home/philip/anaconda3/lib/python3.11/site-packages/sklearn/preprocessing/_encoders.py:202: UserWarning: Found unknown categories in columns [14, 15, 26, 40] during transform. These unknown categories will be encoded as all zeros\n",
      "  warnings.warn(\n"
     ]
    },
    {
     "name": "stdout",
     "output_type": "stream",
     "text": [
      "[CV] END .............regressor__max_depth=7, selector__k=19; total time=   0.1s\n",
      "[CV] END .............regressor__max_depth=10, selector__k=2; total time=   0.1s\n",
      "[CV] END .............regressor__max_depth=10, selector__k=2; total time=   0.1s\n",
      "[CV] END .............regressor__max_depth=10, selector__k=3; total time=   0.1s\n",
      "[CV] END .............regressor__max_depth=10, selector__k=3; total time=   0.1s\n",
      "[CV] END .............regressor__max_depth=10, selector__k=4; total time=   0.1s\n",
      "[CV] END .............regressor__max_depth=10, selector__k=4; total time=   0.1s\n",
      "[CV] END .............regressor__max_depth=10, selector__k=3; total time=   0.1s\n",
      "[CV] END .............regressor__max_depth=10, selector__k=3; total time=   0.1s\n",
      "[CV] END .............regressor__max_depth=10, selector__k=4; total time=   0.1s\n"
     ]
    },
    {
     "name": "stderr",
     "output_type": "stream",
     "text": [
      "/home/philip/anaconda3/lib/python3.11/site-packages/sklearn/preprocessing/_encoders.py:202: UserWarning: Found unknown categories in columns [10, 13, 14, 27, 31] during transform. These unknown categories will be encoded as all zeros\n",
      "  warnings.warn(\n",
      "/home/philip/anaconda3/lib/python3.11/site-packages/sklearn/preprocessing/_encoders.py:202: UserWarning: Found unknown categories in columns [8, 9, 10, 15, 22, 36] during transform. These unknown categories will be encoded as all zeros\n",
      "  warnings.warn(\n",
      "/home/philip/anaconda3/lib/python3.11/site-packages/sklearn/preprocessing/_encoders.py:202: UserWarning: Found unknown categories in columns [14, 15, 26, 40] during transform. These unknown categories will be encoded as all zeros\n",
      "  warnings.warn(\n",
      "/home/philip/anaconda3/lib/python3.11/site-packages/sklearn/preprocessing/_encoders.py:202: UserWarning: Found unknown categories in columns [10, 13, 14, 27, 31] during transform. These unknown categories will be encoded as all zeros\n",
      "  warnings.warn(\n",
      "/home/philip/anaconda3/lib/python3.11/site-packages/sklearn/preprocessing/_encoders.py:202: UserWarning: Found unknown categories in columns [8, 9, 10, 15, 22, 36] during transform. These unknown categories will be encoded as all zeros\n",
      "  warnings.warn(\n",
      "/home/philip/anaconda3/lib/python3.11/site-packages/sklearn/preprocessing/_encoders.py:202: UserWarning: Found unknown categories in columns [10, 15] during transform. These unknown categories will be encoded as all zeros\n",
      "  warnings.warn(\n",
      "/home/philip/anaconda3/lib/python3.11/site-packages/sklearn/preprocessing/_encoders.py:202: UserWarning: Found unknown categories in columns [10, 15] during transform. These unknown categories will be encoded as all zeros\n",
      "  warnings.warn(\n",
      "/home/philip/anaconda3/lib/python3.11/site-packages/sklearn/preprocessing/_encoders.py:202: UserWarning: Found unknown categories in columns [5, 14, 15, 16, 19, 29] during transform. These unknown categories will be encoded as all zeros\n",
      "  warnings.warn(\n",
      "/home/philip/anaconda3/lib/python3.11/site-packages/sklearn/preprocessing/_encoders.py:202: UserWarning: Found unknown categories in columns [14, 15, 26, 40] during transform. These unknown categories will be encoded as all zeros\n",
      "  warnings.warn(\n"
     ]
    },
    {
     "name": "stdout",
     "output_type": "stream",
     "text": [
      "[CV] END .............regressor__max_depth=10, selector__k=4; total time=   0.1s\n",
      "[CV] END .............regressor__max_depth=10, selector__k=4; total time=   0.1s\n",
      "[CV] END .............regressor__max_depth=10, selector__k=5; total time=   0.1s\n",
      "[CV] END .............regressor__max_depth=10, selector__k=5; total time=   0.1s\n",
      "[CV] END .............regressor__max_depth=10, selector__k=6; total time=   0.1s\n",
      "[CV] END .............regressor__max_depth=10, selector__k=5; total time=   0.1s\n",
      "[CV] END .............regressor__max_depth=10, selector__k=5; total time=   0.1s\n",
      "[CV] END .............regressor__max_depth=10, selector__k=5; total time=   0.1s\n",
      "[CV] END .............regressor__max_depth=10, selector__k=6; total time=   0.1s\n",
      "[CV] END .............regressor__max_depth=10, selector__k=6; total time=   0.1s\n"
     ]
    },
    {
     "name": "stderr",
     "output_type": "stream",
     "text": [
      "/home/philip/anaconda3/lib/python3.11/site-packages/sklearn/preprocessing/_encoders.py:202: UserWarning: Found unknown categories in columns [10, 13, 14, 27, 31] during transform. These unknown categories will be encoded as all zeros\n",
      "  warnings.warn(\n",
      "/home/philip/anaconda3/lib/python3.11/site-packages/sklearn/preprocessing/_encoders.py:202: UserWarning: Found unknown categories in columns [5, 14, 15, 16, 19, 29] during transform. These unknown categories will be encoded as all zeros\n",
      "  warnings.warn(\n",
      "/home/philip/anaconda3/lib/python3.11/site-packages/sklearn/preprocessing/_encoders.py:202: UserWarning: Found unknown categories in columns [14, 15, 26, 40] during transform. These unknown categories will be encoded as all zeros\n",
      "  warnings.warn(\n",
      "/home/philip/anaconda3/lib/python3.11/site-packages/sklearn/preprocessing/_encoders.py:202: UserWarning: Found unknown categories in columns [10, 13, 14, 27, 31] during transform. These unknown categories will be encoded as all zeros\n",
      "  warnings.warn(\n",
      "/home/philip/anaconda3/lib/python3.11/site-packages/sklearn/preprocessing/_encoders.py:202: UserWarning: Found unknown categories in columns [8, 9, 10, 15, 22, 36] during transform. These unknown categories will be encoded as all zeros\n",
      "  warnings.warn(\n",
      "/home/philip/anaconda3/lib/python3.11/site-packages/sklearn/preprocessing/_encoders.py:202: UserWarning: Found unknown categories in columns [8, 9, 10, 15, 22, 36] during transform. These unknown categories will be encoded as all zeros\n",
      "  warnings.warn(\n",
      "/home/philip/anaconda3/lib/python3.11/site-packages/sklearn/preprocessing/_encoders.py:202: UserWarning: Found unknown categories in columns [10, 15] during transform. These unknown categories will be encoded as all zeros\n",
      "  warnings.warn(\n",
      "/home/philip/anaconda3/lib/python3.11/site-packages/sklearn/preprocessing/_encoders.py:202: UserWarning: Found unknown categories in columns [5, 14, 15, 16, 19, 29] during transform. These unknown categories will be encoded as all zeros\n",
      "  warnings.warn(\n",
      "/home/philip/anaconda3/lib/python3.11/site-packages/sklearn/preprocessing/_encoders.py:202: UserWarning: Found unknown categories in columns [14, 15, 26, 40] during transform. These unknown categories will be encoded as all zeros\n",
      "  warnings.warn(\n",
      "/home/philip/anaconda3/lib/python3.11/site-packages/sklearn/preprocessing/_encoders.py:202: UserWarning: Found unknown categories in columns [10, 15] during transform. These unknown categories will be encoded as all zeros\n",
      "  warnings.warn(\n",
      "/home/philip/anaconda3/lib/python3.11/site-packages/sklearn/preprocessing/_encoders.py:202: UserWarning: Found unknown categories in columns [5, 14, 15, 16, 19, 29] during transform. These unknown categories will be encoded as all zeros\n",
      "  warnings.warn(\n"
     ]
    },
    {
     "name": "stdout",
     "output_type": "stream",
     "text": [
      "[CV] END .............regressor__max_depth=10, selector__k=6; total time=   0.1s\n",
      "[CV] END .............regressor__max_depth=10, selector__k=7; total time=   0.1s\n",
      "[CV] END .............regressor__max_depth=10, selector__k=7; total time=   0.1s\n",
      "[CV] END .............regressor__max_depth=10, selector__k=6; total time=   0.1s\n",
      "[CV] END .............regressor__max_depth=10, selector__k=7; total time=   0.1s\n",
      "[CV] END .............regressor__max_depth=10, selector__k=7; total time=   0.1s\n",
      "[CV] END .............regressor__max_depth=10, selector__k=7; total time=   0.1s\n",
      "[CV] END .............regressor__max_depth=10, selector__k=8; total time=   0.1s\n",
      "[CV] END .............regressor__max_depth=10, selector__k=8; total time=   0.1s\n",
      "[CV] END .............regressor__max_depth=10, selector__k=8; total time=   0.1s\n",
      "[CV] END .............regressor__max_depth=10, selector__k=8; total time=   0.1s\n"
     ]
    },
    {
     "name": "stderr",
     "output_type": "stream",
     "text": [
      "/home/philip/anaconda3/lib/python3.11/site-packages/sklearn/preprocessing/_encoders.py:202: UserWarning: Found unknown categories in columns [14, 15, 26, 40] during transform. These unknown categories will be encoded as all zeros\n",
      "  warnings.warn(\n",
      "/home/philip/anaconda3/lib/python3.11/site-packages/sklearn/preprocessing/_encoders.py:202: UserWarning: Found unknown categories in columns [10, 13, 14, 27, 31] during transform. These unknown categories will be encoded as all zeros\n",
      "  warnings.warn(\n",
      "/home/philip/anaconda3/lib/python3.11/site-packages/sklearn/preprocessing/_encoders.py:202: UserWarning: Found unknown categories in columns [10, 15] during transform. These unknown categories will be encoded as all zeros\n",
      "  warnings.warn(\n",
      "/home/philip/anaconda3/lib/python3.11/site-packages/sklearn/preprocessing/_encoders.py:202: UserWarning: Found unknown categories in columns [8, 9, 10, 15, 22, 36] during transform. These unknown categories will be encoded as all zeros\n",
      "  warnings.warn(\n",
      "/home/philip/anaconda3/lib/python3.11/site-packages/sklearn/preprocessing/_encoders.py:202: UserWarning: Found unknown categories in columns [8, 9, 10, 15, 22, 36] during transform. These unknown categories will be encoded as all zeros\n",
      "  warnings.warn(\n",
      "/home/philip/anaconda3/lib/python3.11/site-packages/sklearn/preprocessing/_encoders.py:202: UserWarning: Found unknown categories in columns [10, 13, 14, 27, 31] during transform. These unknown categories will be encoded as all zeros\n",
      "  warnings.warn(\n",
      "/home/philip/anaconda3/lib/python3.11/site-packages/sklearn/preprocessing/_encoders.py:202: UserWarning: Found unknown categories in columns [14, 15, 26, 40] during transform. These unknown categories will be encoded as all zeros\n",
      "  warnings.warn(\n"
     ]
    },
    {
     "name": "stdout",
     "output_type": "stream",
     "text": [
      "[CV] END .............regressor__max_depth=10, selector__k=9; total time=   0.1s\n",
      "[CV] END .............regressor__max_depth=10, selector__k=9; total time=   0.1s\n",
      "[CV] END .............regressor__max_depth=10, selector__k=8; total time=   0.1s\n",
      "[CV] END .............regressor__max_depth=10, selector__k=9; total time=   0.2s\n",
      "[CV] END .............regressor__max_depth=10, selector__k=9; total time=   0.1s\n",
      "[CV] END ............regressor__max_depth=10, selector__k=10; total time=   0.1s\n",
      "[CV] END ............regressor__max_depth=10, selector__k=10; total time=   0.1s\n",
      "[CV] END .............regressor__max_depth=10, selector__k=9; total time=   0.1s\n"
     ]
    },
    {
     "name": "stderr",
     "output_type": "stream",
     "text": [
      "/home/philip/anaconda3/lib/python3.11/site-packages/sklearn/preprocessing/_encoders.py:202: UserWarning: Found unknown categories in columns [10, 15] during transform. These unknown categories will be encoded as all zeros\n",
      "  warnings.warn(\n",
      "/home/philip/anaconda3/lib/python3.11/site-packages/sklearn/preprocessing/_encoders.py:202: UserWarning: Found unknown categories in columns [14, 15, 26, 40] during transform. These unknown categories will be encoded as all zeros\n",
      "  warnings.warn(\n",
      "/home/philip/anaconda3/lib/python3.11/site-packages/sklearn/preprocessing/_encoders.py:202: UserWarning: Found unknown categories in columns [5, 14, 15, 16, 19, 29] during transform. These unknown categories will be encoded as all zeros\n",
      "  warnings.warn(\n",
      "/home/philip/anaconda3/lib/python3.11/site-packages/sklearn/preprocessing/_encoders.py:202: UserWarning: Found unknown categories in columns [5, 14, 15, 16, 19, 29] during transform. These unknown categories will be encoded as all zeros\n",
      "  warnings.warn(\n",
      "/home/philip/anaconda3/lib/python3.11/site-packages/sklearn/preprocessing/_encoders.py:202: UserWarning: Found unknown categories in columns [10, 13, 14, 27, 31] during transform. These unknown categories will be encoded as all zeros\n",
      "  warnings.warn(\n",
      "/home/philip/anaconda3/lib/python3.11/site-packages/sklearn/preprocessing/_encoders.py:202: UserWarning: Found unknown categories in columns [10, 15] during transform. These unknown categories will be encoded as all zeros\n",
      "  warnings.warn(\n",
      "/home/philip/anaconda3/lib/python3.11/site-packages/sklearn/preprocessing/_encoders.py:202: UserWarning: Found unknown categories in columns [10, 13, 14, 27, 31] during transform. These unknown categories will be encoded as all zeros\n",
      "  warnings.warn(\n"
     ]
    },
    {
     "name": "stdout",
     "output_type": "stream",
     "text": [
      "[CV] END ............regressor__max_depth=10, selector__k=10; total time=   0.1s\n",
      "[CV] END ............regressor__max_depth=10, selector__k=10; total time=   0.2s\n",
      "[CV] END ............regressor__max_depth=10, selector__k=11; total time=   0.1s\n",
      "[CV] END ............regressor__max_depth=10, selector__k=11; total time=   0.1s\n",
      "[CV] END ............regressor__max_depth=10, selector__k=11; total time=   0.1s\n",
      "[CV] END ............regressor__max_depth=10, selector__k=12; total time=   0.1s\n",
      "[CV] END ............regressor__max_depth=10, selector__k=10; total time=   0.1s\n",
      "[CV] END ............regressor__max_depth=10, selector__k=11; total time=   0.1s\n"
     ]
    },
    {
     "name": "stderr",
     "output_type": "stream",
     "text": [
      "/home/philip/anaconda3/lib/python3.11/site-packages/sklearn/preprocessing/_encoders.py:202: UserWarning: Found unknown categories in columns [8, 9, 10, 15, 22, 36] during transform. These unknown categories will be encoded as all zeros\n",
      "  warnings.warn(\n",
      "/home/philip/anaconda3/lib/python3.11/site-packages/sklearn/preprocessing/_encoders.py:202: UserWarning: Found unknown categories in columns [10, 15] during transform. These unknown categories will be encoded as all zeros\n",
      "  warnings.warn(\n",
      "/home/philip/anaconda3/lib/python3.11/site-packages/sklearn/preprocessing/_encoders.py:202: UserWarning: Found unknown categories in columns [8, 9, 10, 15, 22, 36] during transform. These unknown categories will be encoded as all zeros\n",
      "  warnings.warn(\n",
      "/home/philip/anaconda3/lib/python3.11/site-packages/sklearn/preprocessing/_encoders.py:202: UserWarning: Found unknown categories in columns [5, 14, 15, 16, 19, 29] during transform. These unknown categories will be encoded as all zeros\n",
      "  warnings.warn(\n",
      "/home/philip/anaconda3/lib/python3.11/site-packages/sklearn/preprocessing/_encoders.py:202: UserWarning: Found unknown categories in columns [14, 15, 26, 40] during transform. These unknown categories will be encoded as all zeros\n",
      "  warnings.warn(\n",
      "/home/philip/anaconda3/lib/python3.11/site-packages/sklearn/preprocessing/_encoders.py:202: UserWarning: Found unknown categories in columns [10, 13, 14, 27, 31] during transform. These unknown categories will be encoded as all zeros\n",
      "  warnings.warn(\n",
      "/home/philip/anaconda3/lib/python3.11/site-packages/sklearn/preprocessing/_encoders.py:202: UserWarning: Found unknown categories in columns [5, 14, 15, 16, 19, 29] during transform. These unknown categories will be encoded as all zeros\n",
      "  warnings.warn(\n",
      "/home/philip/anaconda3/lib/python3.11/site-packages/sklearn/preprocessing/_encoders.py:202: UserWarning: Found unknown categories in columns [14, 15, 26, 40] during transform. These unknown categories will be encoded as all zeros\n",
      "  warnings.warn(\n",
      "/home/philip/anaconda3/lib/python3.11/site-packages/sklearn/preprocessing/_encoders.py:202: UserWarning: Found unknown categories in columns [10, 13, 14, 27, 31] during transform. These unknown categories will be encoded as all zeros\n",
      "  warnings.warn(\n"
     ]
    },
    {
     "name": "stdout",
     "output_type": "stream",
     "text": [
      "[CV] END ............regressor__max_depth=10, selector__k=11; total time=   0.1s\n",
      "[CV] END ............regressor__max_depth=10, selector__k=12; total time=   0.1s\n",
      "[CV] END ............regressor__max_depth=10, selector__k=12; total time=   0.1s\n",
      "[CV] END ............regressor__max_depth=10, selector__k=12; total time=   0.1s\n",
      "[CV] END ............regressor__max_depth=10, selector__k=13; total time=   0.1s\n",
      "[CV] END ............regressor__max_depth=10, selector__k=13; total time=   0.1s\n",
      "[CV] END ............regressor__max_depth=10, selector__k=12; total time=   0.1s\n",
      "[CV] END ............regressor__max_depth=10, selector__k=13; total time=   0.1s\n",
      "[CV] END ............regressor__max_depth=10, selector__k=13; total time=   0.1s\n",
      "[CV] END ............regressor__max_depth=10, selector__k=13; total time=   0.1s\n",
      "[CV] END ............regressor__max_depth=10, selector__k=14; total time=   0.1s\n"
     ]
    },
    {
     "name": "stderr",
     "output_type": "stream",
     "text": [
      "/home/philip/anaconda3/lib/python3.11/site-packages/sklearn/preprocessing/_encoders.py:202: UserWarning: Found unknown categories in columns [8, 9, 10, 15, 22, 36] during transform. These unknown categories will be encoded as all zeros\n",
      "  warnings.warn(\n",
      "/home/philip/anaconda3/lib/python3.11/site-packages/sklearn/preprocessing/_encoders.py:202: UserWarning: Found unknown categories in columns [10, 15] during transform. These unknown categories will be encoded as all zeros\n",
      "  warnings.warn(\n",
      "/home/philip/anaconda3/lib/python3.11/site-packages/sklearn/preprocessing/_encoders.py:202: UserWarning: Found unknown categories in columns [8, 9, 10, 15, 22, 36] during transform. These unknown categories will be encoded as all zeros\n",
      "  warnings.warn(\n",
      "/home/philip/anaconda3/lib/python3.11/site-packages/sklearn/preprocessing/_encoders.py:202: UserWarning: Found unknown categories in columns [5, 14, 15, 16, 19, 29] during transform. These unknown categories will be encoded as all zeros\n",
      "  warnings.warn(\n",
      "/home/philip/anaconda3/lib/python3.11/site-packages/sklearn/preprocessing/_encoders.py:202: UserWarning: Found unknown categories in columns [14, 15, 26, 40] during transform. These unknown categories will be encoded as all zeros\n",
      "  warnings.warn(\n",
      "/home/philip/anaconda3/lib/python3.11/site-packages/sklearn/preprocessing/_encoders.py:202: UserWarning: Found unknown categories in columns [10, 15] during transform. These unknown categories will be encoded as all zeros\n",
      "  warnings.warn(\n",
      "/home/philip/anaconda3/lib/python3.11/site-packages/sklearn/preprocessing/_encoders.py:202: UserWarning: Found unknown categories in columns [5, 14, 15, 16, 19, 29] during transform. These unknown categories will be encoded as all zeros\n",
      "  warnings.warn(\n",
      "/home/philip/anaconda3/lib/python3.11/site-packages/sklearn/preprocessing/_encoders.py:202: UserWarning: Found unknown categories in columns [14, 15, 26, 40] during transform. These unknown categories will be encoded as all zeros\n",
      "  warnings.warn(\n",
      "/home/philip/anaconda3/lib/python3.11/site-packages/sklearn/preprocessing/_encoders.py:202: UserWarning: Found unknown categories in columns [10, 13, 14, 27, 31] during transform. These unknown categories will be encoded as all zeros\n",
      "  warnings.warn(\n",
      "/home/philip/anaconda3/lib/python3.11/site-packages/sklearn/preprocessing/_encoders.py:202: UserWarning: Found unknown categories in columns [10, 13, 14, 27, 31] during transform. These unknown categories will be encoded as all zeros\n",
      "  warnings.warn(\n",
      "/home/philip/anaconda3/lib/python3.11/site-packages/sklearn/preprocessing/_encoders.py:202: UserWarning: Found unknown categories in columns [8, 9, 10, 15, 22, 36] during transform. These unknown categories will be encoded as all zeros\n",
      "  warnings.warn(\n"
     ]
    },
    {
     "name": "stdout",
     "output_type": "stream",
     "text": [
      "[CV] END ............regressor__max_depth=10, selector__k=14; total time=   0.1s\n",
      "[CV] END ............regressor__max_depth=10, selector__k=14; total time=   0.1s\n",
      "[CV] END ............regressor__max_depth=10, selector__k=14; total time=   0.1s\n",
      "[CV] END ............regressor__max_depth=10, selector__k=15; total time=   0.1s\n",
      "[CV] END ............regressor__max_depth=10, selector__k=14; total time=   0.1s\n",
      "[CV] END ............regressor__max_depth=10, selector__k=15; total time=   0.1s\n",
      "[CV] END ............regressor__max_depth=10, selector__k=15; total time=   0.1s\n",
      "[CV] END ............regressor__max_depth=10, selector__k=15; total time=   0.1s\n",
      "[CV] END ............regressor__max_depth=10, selector__k=16; total time=   0.1s\n",
      "[CV] END ............regressor__max_depth=10, selector__k=16; total time=   0.1s\n"
     ]
    },
    {
     "name": "stderr",
     "output_type": "stream",
     "text": [
      "/home/philip/anaconda3/lib/python3.11/site-packages/sklearn/preprocessing/_encoders.py:202: UserWarning: Found unknown categories in columns [10, 15] during transform. These unknown categories will be encoded as all zeros\n",
      "  warnings.warn(\n",
      "/home/philip/anaconda3/lib/python3.11/site-packages/sklearn/preprocessing/_encoders.py:202: UserWarning: Found unknown categories in columns [8, 9, 10, 15, 22, 36] during transform. These unknown categories will be encoded as all zeros\n",
      "  warnings.warn(\n",
      "/home/philip/anaconda3/lib/python3.11/site-packages/sklearn/preprocessing/_encoders.py:202: UserWarning: Found unknown categories in columns [5, 14, 15, 16, 19, 29] during transform. These unknown categories will be encoded as all zeros\n",
      "  warnings.warn(\n",
      "/home/philip/anaconda3/lib/python3.11/site-packages/sklearn/preprocessing/_encoders.py:202: UserWarning: Found unknown categories in columns [10, 15] during transform. These unknown categories will be encoded as all zeros\n",
      "  warnings.warn(\n",
      "/home/philip/anaconda3/lib/python3.11/site-packages/sklearn/preprocessing/_encoders.py:202: UserWarning: Found unknown categories in columns [5, 14, 15, 16, 19, 29] during transform. These unknown categories will be encoded as all zeros\n",
      "  warnings.warn(\n",
      "/home/philip/anaconda3/lib/python3.11/site-packages/sklearn/preprocessing/_encoders.py:202: UserWarning: Found unknown categories in columns [14, 15, 26, 40] during transform. These unknown categories will be encoded as all zeros\n",
      "  warnings.warn(\n",
      "/home/philip/anaconda3/lib/python3.11/site-packages/sklearn/preprocessing/_encoders.py:202: UserWarning: Found unknown categories in columns [10, 13, 14, 27, 31] during transform. These unknown categories will be encoded as all zeros\n",
      "  warnings.warn(\n",
      "/home/philip/anaconda3/lib/python3.11/site-packages/sklearn/preprocessing/_encoders.py:202: UserWarning: Found unknown categories in columns [14, 15, 26, 40] during transform. These unknown categories will be encoded as all zeros\n",
      "  warnings.warn(\n",
      "/home/philip/anaconda3/lib/python3.11/site-packages/sklearn/preprocessing/_encoders.py:202: UserWarning: Found unknown categories in columns [10, 15] during transform. These unknown categories will be encoded as all zeros\n",
      "  warnings.warn(\n",
      "/home/philip/anaconda3/lib/python3.11/site-packages/sklearn/preprocessing/_encoders.py:202: UserWarning: Found unknown categories in columns [8, 9, 10, 15, 22, 36] during transform. These unknown categories will be encoded as all zeros\n",
      "  warnings.warn(\n"
     ]
    },
    {
     "name": "stdout",
     "output_type": "stream",
     "text": [
      "[CV] END ............regressor__max_depth=10, selector__k=16; total time=   0.1s\n",
      "[CV] END ............regressor__max_depth=10, selector__k=16; total time=   0.1s\n",
      "[CV] END ............regressor__max_depth=10, selector__k=15; total time=   0.1s\n",
      "[CV] END ............regressor__max_depth=10, selector__k=17; total time=   0.1s\n",
      "[CV] END ............regressor__max_depth=10, selector__k=16; total time=   0.1s\n",
      "[CV] END ............regressor__max_depth=10, selector__k=17; total time=   0.1s\n",
      "[CV] END ............regressor__max_depth=10, selector__k=18; total time=   0.1s\n",
      "[CV] END ............regressor__max_depth=10, selector__k=17; total time=   0.1s\n"
     ]
    },
    {
     "name": "stderr",
     "output_type": "stream",
     "text": [
      "/home/philip/anaconda3/lib/python3.11/site-packages/sklearn/preprocessing/_encoders.py:202: UserWarning: Found unknown categories in columns [10, 13, 14, 27, 31] during transform. These unknown categories will be encoded as all zeros\n",
      "  warnings.warn(\n",
      "/home/philip/anaconda3/lib/python3.11/site-packages/sklearn/preprocessing/_encoders.py:202: UserWarning: Found unknown categories in columns [10, 15] during transform. These unknown categories will be encoded as all zeros\n",
      "  warnings.warn(\n",
      "/home/philip/anaconda3/lib/python3.11/site-packages/sklearn/preprocessing/_encoders.py:202: UserWarning: Found unknown categories in columns [8, 9, 10, 15, 22, 36] during transform. These unknown categories will be encoded as all zeros\n",
      "  warnings.warn(\n",
      "/home/philip/anaconda3/lib/python3.11/site-packages/sklearn/preprocessing/_encoders.py:202: UserWarning: Found unknown categories in columns [5, 14, 15, 16, 19, 29] during transform. These unknown categories will be encoded as all zeros\n",
      "  warnings.warn(\n",
      "/home/philip/anaconda3/lib/python3.11/site-packages/sklearn/preprocessing/_encoders.py:202: UserWarning: Found unknown categories in columns [5, 14, 15, 16, 19, 29] during transform. These unknown categories will be encoded as all zeros\n",
      "  warnings.warn(\n",
      "/home/philip/anaconda3/lib/python3.11/site-packages/sklearn/preprocessing/_encoders.py:202: UserWarning: Found unknown categories in columns [10, 13, 14, 27, 31] during transform. These unknown categories will be encoded as all zeros\n",
      "  warnings.warn(\n",
      "/home/philip/anaconda3/lib/python3.11/site-packages/sklearn/preprocessing/_encoders.py:202: UserWarning: Found unknown categories in columns [14, 15, 26, 40] during transform. These unknown categories will be encoded as all zeros\n",
      "  warnings.warn(\n",
      "/home/philip/anaconda3/lib/python3.11/site-packages/sklearn/preprocessing/_encoders.py:202: UserWarning: Found unknown categories in columns [14, 15, 26, 40] during transform. These unknown categories will be encoded as all zeros\n",
      "  warnings.warn(\n",
      "/home/philip/anaconda3/lib/python3.11/site-packages/sklearn/preprocessing/_encoders.py:202: UserWarning: Found unknown categories in columns [10, 13, 14, 27, 31] during transform. These unknown categories will be encoded as all zeros\n",
      "  warnings.warn(\n"
     ]
    },
    {
     "name": "stdout",
     "output_type": "stream",
     "text": [
      "[CV] END ............regressor__max_depth=10, selector__k=18; total time=   0.1s\n",
      "[CV] END ............regressor__max_depth=10, selector__k=17; total time=   0.1s\n",
      "[CV] END ............regressor__max_depth=10, selector__k=18; total time=   0.1s\n",
      "[CV] END ............regressor__max_depth=10, selector__k=18; total time=   0.1s\n",
      "[CV] END ............regressor__max_depth=10, selector__k=17; total time=   0.2s\n",
      "[CV] END ............regressor__max_depth=10, selector__k=19; total time=   0.1s\n",
      "[CV] END ............regressor__max_depth=10, selector__k=18; total time=   0.1s\n",
      "[CV] END ............regressor__max_depth=10, selector__k=19; total time=   0.1s\n",
      "[CV] END ............regressor__max_depth=10, selector__k=19; total time=   0.1s\n"
     ]
    },
    {
     "name": "stderr",
     "output_type": "stream",
     "text": [
      "/home/philip/anaconda3/lib/python3.11/site-packages/sklearn/preprocessing/_encoders.py:202: UserWarning: Found unknown categories in columns [8, 9, 10, 15, 22, 36] during transform. These unknown categories will be encoded as all zeros\n",
      "  warnings.warn(\n",
      "/home/philip/anaconda3/lib/python3.11/site-packages/sklearn/preprocessing/_encoders.py:202: UserWarning: Found unknown categories in columns [8, 9, 10, 15, 22, 36] during transform. These unknown categories will be encoded as all zeros\n",
      "  warnings.warn(\n",
      "/home/philip/anaconda3/lib/python3.11/site-packages/sklearn/preprocessing/_encoders.py:202: UserWarning: Found unknown categories in columns [10, 15] during transform. These unknown categories will be encoded as all zeros\n",
      "  warnings.warn(\n",
      "/home/philip/anaconda3/lib/python3.11/site-packages/sklearn/preprocessing/_encoders.py:202: UserWarning: Found unknown categories in columns [5, 14, 15, 16, 19, 29] during transform. These unknown categories will be encoded as all zeros\n",
      "  warnings.warn(\n",
      "/home/philip/anaconda3/lib/python3.11/site-packages/sklearn/preprocessing/_encoders.py:202: UserWarning: Found unknown categories in columns [14, 15, 26, 40] during transform. These unknown categories will be encoded as all zeros\n",
      "  warnings.warn(\n"
     ]
    },
    {
     "name": "stdout",
     "output_type": "stream",
     "text": [
      "[CV] END ............regressor__max_depth=10, selector__k=19; total time=   0.1s\n",
      "[CV] END ............regressor__max_depth=10, selector__k=19; total time=   0.1s\n",
      "Best parameters found:\n",
      "{'regressor__max_depth': 7, 'selector__k': 6}\n",
      "\n",
      "Training and evaluating SGD...\n",
      "Fitting 5 folds for each of 18 candidates, totalling 90 fits\n"
     ]
    },
    {
     "name": "stderr",
     "output_type": "stream",
     "text": [
      "/home/philip/anaconda3/lib/python3.11/site-packages/sklearn/linear_model/_stochastic_gradient.py:1548: ConvergenceWarning: Maximum number of iteration reached before convergence. Consider increasing max_iter to improve the fit.\n",
      "  warnings.warn(\n",
      "/home/philip/anaconda3/lib/python3.11/site-packages/sklearn/linear_model/_stochastic_gradient.py:1548: ConvergenceWarning: Maximum number of iteration reached before convergence. Consider increasing max_iter to improve the fit.\n",
      "  warnings.warn(\n",
      "/home/philip/anaconda3/lib/python3.11/site-packages/sklearn/preprocessing/_encoders.py:202: UserWarning: Found unknown categories in columns [10, 13, 14, 27, 31] during transform. These unknown categories will be encoded as all zeros\n",
      "  warnings.warn(\n",
      "/home/philip/anaconda3/lib/python3.11/site-packages/sklearn/linear_model/_stochastic_gradient.py:1548: ConvergenceWarning: Maximum number of iteration reached before convergence. Consider increasing max_iter to improve the fit.\n",
      "  warnings.warn(\n",
      "/home/philip/anaconda3/lib/python3.11/site-packages/sklearn/preprocessing/_encoders.py:202: UserWarning: Found unknown categories in columns [8, 9, 10, 15, 22, 36] during transform. These unknown categories will be encoded as all zeros\n",
      "  warnings.warn(\n",
      "/home/philip/anaconda3/lib/python3.11/site-packages/sklearn/preprocessing/_encoders.py:202: UserWarning: Found unknown categories in columns [10, 15] during transform. These unknown categories will be encoded as all zeros\n",
      "  warnings.warn(\n",
      "/home/philip/anaconda3/lib/python3.11/site-packages/sklearn/linear_model/_stochastic_gradient.py:1548: ConvergenceWarning: Maximum number of iteration reached before convergence. Consider increasing max_iter to improve the fit.\n",
      "  warnings.warn(\n",
      "/home/philip/anaconda3/lib/python3.11/site-packages/sklearn/linear_model/_stochastic_gradient.py:1548: ConvergenceWarning: Maximum number of iteration reached before convergence. Consider increasing max_iter to improve the fit.\n",
      "  warnings.warn(\n",
      "/home/philip/anaconda3/lib/python3.11/site-packages/sklearn/preprocessing/_encoders.py:202: UserWarning: Found unknown categories in columns [5, 14, 15, 16, 19, 29] during transform. These unknown categories will be encoded as all zeros\n",
      "  warnings.warn(\n",
      "/home/philip/anaconda3/lib/python3.11/site-packages/sklearn/preprocessing/_encoders.py:202: UserWarning: Found unknown categories in columns [14, 15, 26, 40] during transform. These unknown categories will be encoded as all zeros\n",
      "  warnings.warn(\n",
      "/home/philip/anaconda3/lib/python3.11/site-packages/sklearn/preprocessing/_encoders.py:202: UserWarning: Found unknown categories in columns [10, 13, 14, 27, 31] during transform. These unknown categories will be encoded as all zeros\n",
      "  warnings.warn(\n",
      "/home/philip/anaconda3/lib/python3.11/site-packages/sklearn/preprocessing/_encoders.py:202: UserWarning: Found unknown categories in columns [10, 15] during transform. These unknown categories will be encoded as all zeros\n",
      "  warnings.warn(\n"
     ]
    },
    {
     "name": "stdout",
     "output_type": "stream",
     "text": [
      "[CV] END regressor__alpha=1e-05, regressor__learning_rate=optimal, regressor__max_iter=100; total time=   0.1s[CV] END regressor__alpha=1e-05, regressor__learning_rate=optimal, regressor__max_iter=100; total time=   0.1s\n",
      "\n",
      "[CV] END regressor__alpha=1e-05, regressor__learning_rate=optimal, regressor__max_iter=100; total time=   0.2s\n",
      "[CV] END regressor__alpha=1e-05, regressor__learning_rate=optimal, regressor__max_iter=100; total time=   0.1s\n",
      "[CV] END regressor__alpha=1e-05, regressor__learning_rate=optimal, regressor__max_iter=100; total time=   0.2s\n",
      "[CV] END regressor__alpha=1e-05, regressor__learning_rate=optimal, regressor__max_iter=1000; total time=   0.1s\n",
      "[CV] END regressor__alpha=1e-05, regressor__learning_rate=optimal, regressor__max_iter=1000; total time=   0.1s\n",
      "[CV] END regressor__alpha=1e-05, regressor__learning_rate=optimal, regressor__max_iter=1000; total time=   0.1s\n",
      "[CV] END regressor__alpha=1e-05, regressor__learning_rate=optimal, regressor__max_iter=1000; total time=   0.1s\n"
     ]
    },
    {
     "name": "stderr",
     "output_type": "stream",
     "text": [
      "/home/philip/anaconda3/lib/python3.11/site-packages/sklearn/preprocessing/_encoders.py:202: UserWarning: Found unknown categories in columns [5, 14, 15, 16, 19, 29] during transform. These unknown categories will be encoded as all zeros\n",
      "  warnings.warn(\n",
      "/home/philip/anaconda3/lib/python3.11/site-packages/sklearn/preprocessing/_encoders.py:202: UserWarning: Found unknown categories in columns [8, 9, 10, 15, 22, 36] during transform. These unknown categories will be encoded as all zeros\n",
      "  warnings.warn(\n",
      "/home/philip/anaconda3/lib/python3.11/site-packages/sklearn/preprocessing/_encoders.py:202: UserWarning: Found unknown categories in columns [10, 15] during transform. These unknown categories will be encoded as all zeros\n",
      "  warnings.warn(\n",
      "/home/philip/anaconda3/lib/python3.11/site-packages/sklearn/preprocessing/_encoders.py:202: UserWarning: Found unknown categories in columns [5, 14, 15, 16, 19, 29] during transform. These unknown categories will be encoded as all zeros\n",
      "  warnings.warn(\n",
      "/home/philip/anaconda3/lib/python3.11/site-packages/sklearn/preprocessing/_encoders.py:202: UserWarning: Found unknown categories in columns [14, 15, 26, 40] during transform. These unknown categories will be encoded as all zeros\n",
      "  warnings.warn(\n",
      "/home/philip/anaconda3/lib/python3.11/site-packages/sklearn/preprocessing/_encoders.py:202: UserWarning: Found unknown categories in columns [14, 15, 26, 40] during transform. These unknown categories will be encoded as all zeros\n",
      "  warnings.warn(\n",
      "/home/philip/anaconda3/lib/python3.11/site-packages/sklearn/preprocessing/_encoders.py:202: UserWarning: Found unknown categories in columns [10, 13, 14, 27, 31] during transform. These unknown categories will be encoded as all zeros\n",
      "  warnings.warn(\n",
      "/home/philip/anaconda3/lib/python3.11/site-packages/sklearn/preprocessing/_encoders.py:202: UserWarning: Found unknown categories in columns [8, 9, 10, 15, 22, 36] during transform. These unknown categories will be encoded as all zeros\n",
      "  warnings.warn(\n",
      "/home/philip/anaconda3/lib/python3.11/site-packages/sklearn/linear_model/_stochastic_gradient.py:1548: ConvergenceWarning: Maximum number of iteration reached before convergence. Consider increasing max_iter to improve the fit.\n",
      "  warnings.warn(\n",
      "/home/philip/anaconda3/lib/python3.11/site-packages/sklearn/preprocessing/_encoders.py:202: UserWarning: Found unknown categories in columns [10, 15] during transform. These unknown categories will be encoded as all zeros\n",
      "  warnings.warn(\n",
      "/home/philip/anaconda3/lib/python3.11/site-packages/sklearn/linear_model/_stochastic_gradient.py:1548: ConvergenceWarning: Maximum number of iteration reached before convergence. Consider increasing max_iter to improve the fit.\n",
      "  warnings.warn(\n"
     ]
    },
    {
     "name": "stdout",
     "output_type": "stream",
     "text": [
      "[CV] END regressor__alpha=1e-05, regressor__learning_rate=optimal, regressor__max_iter=3000; total time=   0.1s\n",
      "[CV] END regressor__alpha=1e-05, regressor__learning_rate=optimal, regressor__max_iter=3000; total time=   0.1s\n",
      "[CV] END regressor__alpha=1e-05, regressor__learning_rate=optimal, regressor__max_iter=1000; total time=   0.1s\n",
      "[CV] END regressor__alpha=1e-05, regressor__learning_rate=optimal, regressor__max_iter=3000; total time=   0.1s\n",
      "[CV] END regressor__alpha=1e-05, regressor__learning_rate=optimal, regressor__max_iter=3000; total time=   0.1s\n",
      "[CV] END regressor__alpha=1e-05, regressor__learning_rate=optimal, regressor__max_iter=3000; total time=   0.1s\n",
      "[CV] END regressor__alpha=1e-05, regressor__learning_rate=invscaling, regressor__max_iter=100; total time=   0.1s\n",
      "[CV] END regressor__alpha=1e-05, regressor__learning_rate=invscaling, regressor__max_iter=100; total time=   0.1s\n"
     ]
    },
    {
     "name": "stderr",
     "output_type": "stream",
     "text": [
      "/home/philip/anaconda3/lib/python3.11/site-packages/sklearn/preprocessing/_encoders.py:202: UserWarning: Found unknown categories in columns [10, 13, 14, 27, 31] during transform. These unknown categories will be encoded as all zeros\n",
      "  warnings.warn(\n",
      "/home/philip/anaconda3/lib/python3.11/site-packages/sklearn/linear_model/_stochastic_gradient.py:1548: ConvergenceWarning: Maximum number of iteration reached before convergence. Consider increasing max_iter to improve the fit.\n",
      "  warnings.warn(\n",
      "/home/philip/anaconda3/lib/python3.11/site-packages/sklearn/preprocessing/_encoders.py:202: UserWarning: Found unknown categories in columns [10, 15] during transform. These unknown categories will be encoded as all zeros\n",
      "  warnings.warn(\n",
      "/home/philip/anaconda3/lib/python3.11/site-packages/sklearn/preprocessing/_encoders.py:202: UserWarning: Found unknown categories in columns [8, 9, 10, 15, 22, 36] during transform. These unknown categories will be encoded as all zeros\n",
      "  warnings.warn(\n",
      "/home/philip/anaconda3/lib/python3.11/site-packages/sklearn/linear_model/_stochastic_gradient.py:1548: ConvergenceWarning: Maximum number of iteration reached before convergence. Consider increasing max_iter to improve the fit.\n",
      "  warnings.warn(\n",
      "/home/philip/anaconda3/lib/python3.11/site-packages/sklearn/preprocessing/_encoders.py:202: UserWarning: Found unknown categories in columns [5, 14, 15, 16, 19, 29] during transform. These unknown categories will be encoded as all zeros\n",
      "  warnings.warn(\n",
      "/home/philip/anaconda3/lib/python3.11/site-packages/sklearn/preprocessing/_encoders.py:202: UserWarning: Found unknown categories in columns [5, 14, 15, 16, 19, 29] during transform. These unknown categories will be encoded as all zeros\n",
      "  warnings.warn(\n",
      "/home/philip/anaconda3/lib/python3.11/site-packages/sklearn/linear_model/_stochastic_gradient.py:1548: ConvergenceWarning: Maximum number of iteration reached before convergence. Consider increasing max_iter to improve the fit.\n",
      "  warnings.warn(\n",
      "/home/philip/anaconda3/lib/python3.11/site-packages/sklearn/preprocessing/_encoders.py:202: UserWarning: Found unknown categories in columns [10, 13, 14, 27, 31] during transform. These unknown categories will be encoded as all zeros\n",
      "  warnings.warn(\n",
      "/home/philip/anaconda3/lib/python3.11/site-packages/sklearn/preprocessing/_encoders.py:202: UserWarning: Found unknown categories in columns [14, 15, 26, 40] during transform. These unknown categories will be encoded as all zeros\n",
      "  warnings.warn(\n",
      "/home/philip/anaconda3/lib/python3.11/site-packages/sklearn/preprocessing/_encoders.py:202: UserWarning: Found unknown categories in columns [8, 9, 10, 15, 22, 36] during transform. These unknown categories will be encoded as all zeros\n",
      "  warnings.warn(\n"
     ]
    },
    {
     "name": "stdout",
     "output_type": "stream",
     "text": [
      "[CV] END regressor__alpha=1e-05, regressor__learning_rate=invscaling, regressor__max_iter=1000; total time=   0.1s\n",
      "[CV] END regressor__alpha=1e-05, regressor__learning_rate=invscaling, regressor__max_iter=100; total time=   0.1s\n",
      "[CV] END regressor__alpha=1e-05, regressor__learning_rate=invscaling, regressor__max_iter=100; total time=   0.1s\n",
      "[CV] END regressor__alpha=1e-05, regressor__learning_rate=invscaling, regressor__max_iter=1000; total time=   0.1s\n",
      "[CV] END regressor__alpha=1e-05, regressor__learning_rate=invscaling, regressor__max_iter=1000; total time=   0.1s\n",
      "[CV] END regressor__alpha=1e-05, regressor__learning_rate=invscaling, regressor__max_iter=100; total time=   0.1s\n",
      "[CV] END regressor__alpha=1e-05, regressor__learning_rate=invscaling, regressor__max_iter=1000; total time=   0.1s\n"
     ]
    },
    {
     "name": "stderr",
     "output_type": "stream",
     "text": [
      "/home/philip/anaconda3/lib/python3.11/site-packages/sklearn/preprocessing/_encoders.py:202: UserWarning: Found unknown categories in columns [10, 15] during transform. These unknown categories will be encoded as all zeros\n",
      "  warnings.warn(\n",
      "/home/philip/anaconda3/lib/python3.11/site-packages/sklearn/preprocessing/_encoders.py:202: UserWarning: Found unknown categories in columns [14, 15, 26, 40] during transform. These unknown categories will be encoded as all zeros\n",
      "  warnings.warn(\n",
      "/home/philip/anaconda3/lib/python3.11/site-packages/sklearn/preprocessing/_encoders.py:202: UserWarning: Found unknown categories in columns [8, 9, 10, 15, 22, 36] during transform. These unknown categories will be encoded as all zeros\n",
      "  warnings.warn(\n",
      "/home/philip/anaconda3/lib/python3.11/site-packages/sklearn/preprocessing/_encoders.py:202: UserWarning: Found unknown categories in columns [10, 13, 14, 27, 31] during transform. These unknown categories will be encoded as all zeros\n",
      "  warnings.warn(\n",
      "/home/philip/anaconda3/lib/python3.11/site-packages/sklearn/preprocessing/_encoders.py:202: UserWarning: Found unknown categories in columns [10, 13, 14, 27, 31] during transform. These unknown categories will be encoded as all zeros\n",
      "  warnings.warn(\n",
      "/home/philip/anaconda3/lib/python3.11/site-packages/sklearn/preprocessing/_encoders.py:202: UserWarning: Found unknown categories in columns [10, 15] during transform. These unknown categories will be encoded as all zeros\n",
      "  warnings.warn(\n",
      "/home/philip/anaconda3/lib/python3.11/site-packages/sklearn/preprocessing/_encoders.py:202: UserWarning: Found unknown categories in columns [14, 15, 26, 40] during transform. These unknown categories will be encoded as all zeros\n",
      "  warnings.warn(\n",
      "/home/philip/anaconda3/lib/python3.11/site-packages/sklearn/preprocessing/_encoders.py:202: UserWarning: Found unknown categories in columns [5, 14, 15, 16, 19, 29] during transform. These unknown categories will be encoded as all zeros\n",
      "  warnings.warn(\n",
      "/home/philip/anaconda3/lib/python3.11/site-packages/sklearn/preprocessing/_encoders.py:202: UserWarning: Found unknown categories in columns [5, 14, 15, 16, 19, 29] during transform. These unknown categories will be encoded as all zeros\n",
      "  warnings.warn(\n",
      "/home/philip/anaconda3/lib/python3.11/site-packages/sklearn/preprocessing/_encoders.py:202: UserWarning: Found unknown categories in columns [14, 15, 26, 40] during transform. These unknown categories will be encoded as all zeros\n",
      "  warnings.warn(\n"
     ]
    },
    {
     "name": "stdout",
     "output_type": "stream",
     "text": [
      "[CV] END regressor__alpha=0.0001, regressor__learning_rate=optimal, regressor__max_iter=100; total time=   0.1s\n",
      "[CV] END regressor__alpha=1e-05, regressor__learning_rate=invscaling, regressor__max_iter=1000; total time=   0.2s\n",
      "[CV] END regressor__alpha=1e-05, regressor__learning_rate=invscaling, regressor__max_iter=3000; total time=   0.1s\n",
      "[CV] END regressor__alpha=1e-05, regressor__learning_rate=invscaling, regressor__max_iter=3000; total time=   0.1s\n",
      "[CV] END regressor__alpha=0.0001, regressor__learning_rate=optimal, regressor__max_iter=100; total time=   0.1s\n",
      "[CV] END regressor__alpha=1e-05, regressor__learning_rate=invscaling, regressor__max_iter=3000; total time=   0.1s\n",
      "[CV] END regressor__alpha=1e-05, regressor__learning_rate=invscaling, regressor__max_iter=3000; total time=   0.1s\n",
      "[CV] END regressor__alpha=1e-05, regressor__learning_rate=invscaling, regressor__max_iter=3000; total time=   0.1s\n",
      "[CV] END regressor__alpha=0.0001, regressor__learning_rate=optimal, regressor__max_iter=100; total time=   0.1s\n",
      "[CV] END regressor__alpha=0.0001, regressor__learning_rate=optimal, regressor__max_iter=100; total time=   0.1s\n"
     ]
    },
    {
     "name": "stderr",
     "output_type": "stream",
     "text": [
      "/home/philip/anaconda3/lib/python3.11/site-packages/sklearn/preprocessing/_encoders.py:202: UserWarning: Found unknown categories in columns [8, 9, 10, 15, 22, 36] during transform. These unknown categories will be encoded as all zeros\n",
      "  warnings.warn(\n",
      "/home/philip/anaconda3/lib/python3.11/site-packages/sklearn/linear_model/_stochastic_gradient.py:1548: ConvergenceWarning: Maximum number of iteration reached before convergence. Consider increasing max_iter to improve the fit.\n",
      "  warnings.warn(\n",
      "/home/philip/anaconda3/lib/python3.11/site-packages/sklearn/preprocessing/_encoders.py:202: UserWarning: Found unknown categories in columns [10, 13, 14, 27, 31] during transform. These unknown categories will be encoded as all zeros\n",
      "  warnings.warn(\n",
      "/home/philip/anaconda3/lib/python3.11/site-packages/sklearn/preprocessing/_encoders.py:202: UserWarning: Found unknown categories in columns [8, 9, 10, 15, 22, 36] during transform. These unknown categories will be encoded as all zeros\n",
      "  warnings.warn(\n",
      "/home/philip/anaconda3/lib/python3.11/site-packages/sklearn/preprocessing/_encoders.py:202: UserWarning: Found unknown categories in columns [10, 15] during transform. These unknown categories will be encoded as all zeros\n",
      "  warnings.warn(\n",
      "/home/philip/anaconda3/lib/python3.11/site-packages/sklearn/preprocessing/_encoders.py:202: UserWarning: Found unknown categories in columns [14, 15, 26, 40] during transform. These unknown categories will be encoded as all zeros\n",
      "  warnings.warn(\n",
      "/home/philip/anaconda3/lib/python3.11/site-packages/sklearn/preprocessing/_encoders.py:202: UserWarning: Found unknown categories in columns [10, 15] during transform. These unknown categories will be encoded as all zeros\n",
      "  warnings.warn(\n",
      "/home/philip/anaconda3/lib/python3.11/site-packages/sklearn/preprocessing/_encoders.py:202: UserWarning: Found unknown categories in columns [5, 14, 15, 16, 19, 29] during transform. These unknown categories will be encoded as all zeros\n",
      "  warnings.warn(\n",
      "/home/philip/anaconda3/lib/python3.11/site-packages/sklearn/preprocessing/_encoders.py:202: UserWarning: Found unknown categories in columns [5, 14, 15, 16, 19, 29] during transform. These unknown categories will be encoded as all zeros\n",
      "  warnings.warn(\n",
      "/home/philip/anaconda3/lib/python3.11/site-packages/sklearn/preprocessing/_encoders.py:202: UserWarning: Found unknown categories in columns [14, 15, 26, 40] during transform. These unknown categories will be encoded as all zeros\n",
      "  warnings.warn(\n",
      "/home/philip/anaconda3/lib/python3.11/site-packages/sklearn/linear_model/_stochastic_gradient.py:1548: ConvergenceWarning: Maximum number of iteration reached before convergence. Consider increasing max_iter to improve the fit.\n",
      "  warnings.warn(\n",
      "/home/philip/anaconda3/lib/python3.11/site-packages/sklearn/preprocessing/_encoders.py:202: UserWarning: Found unknown categories in columns [10, 13, 14, 27, 31] during transform. These unknown categories will be encoded as all zeros\n",
      "  warnings.warn(\n",
      "/home/philip/anaconda3/lib/python3.11/site-packages/sklearn/preprocessing/_encoders.py:202: UserWarning: Found unknown categories in columns [8, 9, 10, 15, 22, 36] during transform. These unknown categories will be encoded as all zeros\n",
      "  warnings.warn(\n"
     ]
    },
    {
     "name": "stdout",
     "output_type": "stream",
     "text": [
      "[CV] END regressor__alpha=0.0001, regressor__learning_rate=optimal, regressor__max_iter=1000; total time=   0.1s\n",
      "[CV] END regressor__alpha=0.0001, regressor__learning_rate=optimal, regressor__max_iter=1000; total time=   0.1s\n",
      "[CV] END regressor__alpha=0.0001, regressor__learning_rate=optimal, regressor__max_iter=100; total time=   0.1s\n",
      "[CV] END regressor__alpha=0.0001, regressor__learning_rate=optimal, regressor__max_iter=1000; total time=   0.1s\n",
      "[CV] END regressor__alpha=0.0001, regressor__learning_rate=optimal, regressor__max_iter=1000; total time=   0.1s\n",
      "[CV] END regressor__alpha=0.0001, regressor__learning_rate=optimal, regressor__max_iter=3000; total time=   0.1s\n",
      "[CV] END regressor__alpha=0.0001, regressor__learning_rate=optimal, regressor__max_iter=1000; total time=   0.1s\n",
      "[CV] END regressor__alpha=0.0001, regressor__learning_rate=optimal, regressor__max_iter=3000; total time=   0.1s\n",
      "[CV] END regressor__alpha=0.0001, regressor__learning_rate=optimal, regressor__max_iter=3000; total time=   0.1s\n",
      "[CV] END regressor__alpha=0.0001, regressor__learning_rate=optimal, regressor__max_iter=3000; total time=   0.1s\n",
      "[CV] END regressor__alpha=0.0001, regressor__learning_rate=optimal, regressor__max_iter=3000; total time=   0.1s\n",
      "[CV] END regressor__alpha=0.0001, regressor__learning_rate=invscaling, regressor__max_iter=100; total time=   0.1s\n"
     ]
    },
    {
     "name": "stderr",
     "output_type": "stream",
     "text": [
      "/home/philip/anaconda3/lib/python3.11/site-packages/sklearn/preprocessing/_encoders.py:202: UserWarning: Found unknown categories in columns [10, 13, 14, 27, 31] during transform. These unknown categories will be encoded as all zeros\n",
      "  warnings.warn(\n",
      "/home/philip/anaconda3/lib/python3.11/site-packages/sklearn/linear_model/_stochastic_gradient.py:1548: ConvergenceWarning: Maximum number of iteration reached before convergence. Consider increasing max_iter to improve the fit.\n",
      "  warnings.warn(\n",
      "/home/philip/anaconda3/lib/python3.11/site-packages/sklearn/preprocessing/_encoders.py:202: UserWarning: Found unknown categories in columns [10, 15] during transform. These unknown categories will be encoded as all zeros\n",
      "  warnings.warn(\n",
      "/home/philip/anaconda3/lib/python3.11/site-packages/sklearn/linear_model/_stochastic_gradient.py:1548: ConvergenceWarning: Maximum number of iteration reached before convergence. Consider increasing max_iter to improve the fit.\n",
      "  warnings.warn(\n",
      "/home/philip/anaconda3/lib/python3.11/site-packages/sklearn/linear_model/_stochastic_gradient.py:1548: ConvergenceWarning: Maximum number of iteration reached before convergence. Consider increasing max_iter to improve the fit.\n",
      "  warnings.warn(\n",
      "/home/philip/anaconda3/lib/python3.11/site-packages/sklearn/preprocessing/_encoders.py:202: UserWarning: Found unknown categories in columns [5, 14, 15, 16, 19, 29] during transform. These unknown categories will be encoded as all zeros\n",
      "  warnings.warn(\n",
      "/home/philip/anaconda3/lib/python3.11/site-packages/sklearn/preprocessing/_encoders.py:202: UserWarning: Found unknown categories in columns [8, 9, 10, 15, 22, 36] during transform. These unknown categories will be encoded as all zeros\n",
      "  warnings.warn(\n",
      "/home/philip/anaconda3/lib/python3.11/site-packages/sklearn/preprocessing/_encoders.py:202: UserWarning: Found unknown categories in columns [10, 15] during transform. These unknown categories will be encoded as all zeros\n",
      "  warnings.warn(\n",
      "/home/philip/anaconda3/lib/python3.11/site-packages/sklearn/linear_model/_stochastic_gradient.py:1548: ConvergenceWarning: Maximum number of iteration reached before convergence. Consider increasing max_iter to improve the fit.\n",
      "  warnings.warn(\n",
      "/home/philip/anaconda3/lib/python3.11/site-packages/sklearn/preprocessing/_encoders.py:202: UserWarning: Found unknown categories in columns [5, 14, 15, 16, 19, 29] during transform. These unknown categories will be encoded as all zeros\n",
      "  warnings.warn(\n",
      "/home/philip/anaconda3/lib/python3.11/site-packages/sklearn/preprocessing/_encoders.py:202: UserWarning: Found unknown categories in columns [14, 15, 26, 40] during transform. These unknown categories will be encoded as all zeros\n",
      "  warnings.warn(\n",
      "/home/philip/anaconda3/lib/python3.11/site-packages/sklearn/preprocessing/_encoders.py:202: UserWarning: Found unknown categories in columns [14, 15, 26, 40] during transform. These unknown categories will be encoded as all zeros\n",
      "  warnings.warn(\n",
      "/home/philip/anaconda3/lib/python3.11/site-packages/sklearn/preprocessing/_encoders.py:202: UserWarning: Found unknown categories in columns [10, 13, 14, 27, 31] during transform. These unknown categories will be encoded as all zeros\n",
      "  warnings.warn(\n"
     ]
    },
    {
     "name": "stdout",
     "output_type": "stream",
     "text": [
      "[CV] END regressor__alpha=0.0001, regressor__learning_rate=invscaling, regressor__max_iter=100; total time=   0.1s\n",
      "[CV] END regressor__alpha=0.0001, regressor__learning_rate=invscaling, regressor__max_iter=100; total time=   0.1s\n",
      "[CV] END regressor__alpha=0.0001, regressor__learning_rate=invscaling, regressor__max_iter=100; total time=   0.1s\n",
      "[CV] END regressor__alpha=0.0001, regressor__learning_rate=invscaling, regressor__max_iter=1000; total time=   0.1s\n",
      "[CV] END regressor__alpha=0.0001, regressor__learning_rate=invscaling, regressor__max_iter=1000; total time=   0.1s\n",
      "[CV] END regressor__alpha=0.0001, regressor__learning_rate=invscaling, regressor__max_iter=100; total time=   0.1s\n",
      "[CV] END regressor__alpha=0.0001, regressor__learning_rate=invscaling, regressor__max_iter=1000; total time=   0.1s\n",
      "[CV] END regressor__alpha=0.0001, regressor__learning_rate=invscaling, regressor__max_iter=1000; total time=   0.1s\n",
      "[CV] END regressor__alpha=0.0001, regressor__learning_rate=invscaling, regressor__max_iter=1000; total time=   0.1s\n"
     ]
    },
    {
     "name": "stderr",
     "output_type": "stream",
     "text": [
      "/home/philip/anaconda3/lib/python3.11/site-packages/sklearn/preprocessing/_encoders.py:202: UserWarning: Found unknown categories in columns [8, 9, 10, 15, 22, 36] during transform. These unknown categories will be encoded as all zeros\n",
      "  warnings.warn(\n",
      "/home/philip/anaconda3/lib/python3.11/site-packages/sklearn/preprocessing/_encoders.py:202: UserWarning: Found unknown categories in columns [10, 13, 14, 27, 31] during transform. These unknown categories will be encoded as all zeros\n",
      "  warnings.warn(\n",
      "/home/philip/anaconda3/lib/python3.11/site-packages/sklearn/preprocessing/_encoders.py:202: UserWarning: Found unknown categories in columns [10, 15] during transform. These unknown categories will be encoded as all zeros\n",
      "  warnings.warn(\n",
      "/home/philip/anaconda3/lib/python3.11/site-packages/sklearn/preprocessing/_encoders.py:202: UserWarning: Found unknown categories in columns [8, 9, 10, 15, 22, 36] during transform. These unknown categories will be encoded as all zeros\n",
      "  warnings.warn(\n",
      "/home/philip/anaconda3/lib/python3.11/site-packages/sklearn/linear_model/_stochastic_gradient.py:1548: ConvergenceWarning: Maximum number of iteration reached before convergence. Consider increasing max_iter to improve the fit.\n",
      "  warnings.warn(\n",
      "/home/philip/anaconda3/lib/python3.11/site-packages/sklearn/preprocessing/_encoders.py:202: UserWarning: Found unknown categories in columns [10, 15] during transform. These unknown categories will be encoded as all zeros\n",
      "  warnings.warn(\n",
      "/home/philip/anaconda3/lib/python3.11/site-packages/sklearn/linear_model/_stochastic_gradient.py:1548: ConvergenceWarning: Maximum number of iteration reached before convergence. Consider increasing max_iter to improve the fit.\n",
      "  warnings.warn(\n",
      "/home/philip/anaconda3/lib/python3.11/site-packages/sklearn/preprocessing/_encoders.py:202: UserWarning: Found unknown categories in columns [5, 14, 15, 16, 19, 29] during transform. These unknown categories will be encoded as all zeros\n",
      "  warnings.warn(\n",
      "/home/philip/anaconda3/lib/python3.11/site-packages/sklearn/linear_model/_stochastic_gradient.py:1548: ConvergenceWarning: Maximum number of iteration reached before convergence. Consider increasing max_iter to improve the fit.\n",
      "  warnings.warn(\n",
      "/home/philip/anaconda3/lib/python3.11/site-packages/sklearn/preprocessing/_encoders.py:202: UserWarning: Found unknown categories in columns [5, 14, 15, 16, 19, 29] during transform. These unknown categories will be encoded as all zeros\n",
      "  warnings.warn(\n",
      "/home/philip/anaconda3/lib/python3.11/site-packages/sklearn/preprocessing/_encoders.py:202: UserWarning: Found unknown categories in columns [14, 15, 26, 40] during transform. These unknown categories will be encoded as all zeros\n",
      "  warnings.warn(\n",
      "/home/philip/anaconda3/lib/python3.11/site-packages/sklearn/preprocessing/_encoders.py:202: UserWarning: Found unknown categories in columns [10, 13, 14, 27, 31] during transform. These unknown categories will be encoded as all zeros\n",
      "  warnings.warn(\n",
      "/home/philip/anaconda3/lib/python3.11/site-packages/sklearn/linear_model/_stochastic_gradient.py:1548: ConvergenceWarning: Maximum number of iteration reached before convergence. Consider increasing max_iter to improve the fit.\n",
      "  warnings.warn(\n",
      "/home/philip/anaconda3/lib/python3.11/site-packages/sklearn/preprocessing/_encoders.py:202: UserWarning: Found unknown categories in columns [8, 9, 10, 15, 22, 36] during transform. These unknown categories will be encoded as all zeros\n",
      "  warnings.warn(\n",
      "/home/philip/anaconda3/lib/python3.11/site-packages/sklearn/linear_model/_stochastic_gradient.py:1548: ConvergenceWarning: Maximum number of iteration reached before convergence. Consider increasing max_iter to improve the fit.\n",
      "  warnings.warn(\n"
     ]
    },
    {
     "name": "stdout",
     "output_type": "stream",
     "text": [
      "[CV] END regressor__alpha=0.0001, regressor__learning_rate=invscaling, regressor__max_iter=3000; total time=   0.1s\n",
      "[CV] END regressor__alpha=0.0001, regressor__learning_rate=invscaling, regressor__max_iter=3000; total time=   0.1s\n",
      "[CV] END regressor__alpha=0.0001, regressor__learning_rate=invscaling, regressor__max_iter=3000; total time=   0.1s\n",
      "[CV] END regressor__alpha=0.001, regressor__learning_rate=optimal, regressor__max_iter=100; total time=   0.1s\n",
      "[CV] END regressor__alpha=0.001, regressor__learning_rate=optimal, regressor__max_iter=100; total time=   0.1s\n",
      "[CV] END regressor__alpha=0.0001, regressor__learning_rate=invscaling, regressor__max_iter=3000; total time=   0.1s\n",
      "[CV] END regressor__alpha=0.0001, regressor__learning_rate=invscaling, regressor__max_iter=3000; total time=   0.1s\n",
      "[CV] END regressor__alpha=0.001, regressor__learning_rate=optimal, regressor__max_iter=100; total time=   0.1s\n",
      "[CV] END regressor__alpha=0.001, regressor__learning_rate=optimal, regressor__max_iter=100; total time=   0.1s\n",
      "[CV] END regressor__alpha=0.001, regressor__learning_rate=optimal, regressor__max_iter=100; total time=   0.1s\n"
     ]
    },
    {
     "name": "stderr",
     "output_type": "stream",
     "text": [
      "/home/philip/anaconda3/lib/python3.11/site-packages/sklearn/preprocessing/_encoders.py:202: UserWarning: Found unknown categories in columns [14, 15, 26, 40] during transform. These unknown categories will be encoded as all zeros\n",
      "  warnings.warn(\n",
      "/home/philip/anaconda3/lib/python3.11/site-packages/sklearn/linear_model/_stochastic_gradient.py:1548: ConvergenceWarning: Maximum number of iteration reached before convergence. Consider increasing max_iter to improve the fit.\n",
      "  warnings.warn(\n",
      "/home/philip/anaconda3/lib/python3.11/site-packages/sklearn/linear_model/_stochastic_gradient.py:1548: ConvergenceWarning: Maximum number of iteration reached before convergence. Consider increasing max_iter to improve the fit.\n",
      "  warnings.warn(\n",
      "/home/philip/anaconda3/lib/python3.11/site-packages/sklearn/preprocessing/_encoders.py:202: UserWarning: Found unknown categories in columns [10, 13, 14, 27, 31] during transform. These unknown categories will be encoded as all zeros\n",
      "  warnings.warn(\n",
      "/home/philip/anaconda3/lib/python3.11/site-packages/sklearn/preprocessing/_encoders.py:202: UserWarning: Found unknown categories in columns [8, 9, 10, 15, 22, 36] during transform. These unknown categories will be encoded as all zeros\n",
      "  warnings.warn(\n",
      "/home/philip/anaconda3/lib/python3.11/site-packages/sklearn/linear_model/_stochastic_gradient.py:1548: ConvergenceWarning: Maximum number of iteration reached before convergence. Consider increasing max_iter to improve the fit.\n",
      "  warnings.warn(\n",
      "/home/philip/anaconda3/lib/python3.11/site-packages/sklearn/preprocessing/_encoders.py:202: UserWarning: Found unknown categories in columns [10, 15] during transform. These unknown categories will be encoded as all zeros\n",
      "  warnings.warn(\n",
      "/home/philip/anaconda3/lib/python3.11/site-packages/sklearn/preprocessing/_encoders.py:202: UserWarning: Found unknown categories in columns [5, 14, 15, 16, 19, 29] during transform. These unknown categories will be encoded as all zeros\n",
      "  warnings.warn(\n"
     ]
    },
    {
     "name": "stdout",
     "output_type": "stream",
     "text": [
      "[CV] END regressor__alpha=0.001, regressor__learning_rate=optimal, regressor__max_iter=1000; total time=   0.1s\n",
      "[CV] END regressor__alpha=0.001, regressor__learning_rate=optimal, regressor__max_iter=1000; total time=   0.1s\n",
      "[CV] END regressor__alpha=0.001, regressor__learning_rate=optimal, regressor__max_iter=1000; total time=   0.1s\n",
      "[CV] END regressor__alpha=0.001, regressor__learning_rate=optimal, regressor__max_iter=1000; total time=   0.1s\n",
      "[CV] END regressor__alpha=0.001, regressor__learning_rate=optimal, regressor__max_iter=1000; total time=   0.1s\n",
      "[CV] END regressor__alpha=0.001, regressor__learning_rate=optimal, regressor__max_iter=3000; total time=   0.1s\n",
      "[CV] END regressor__alpha=0.001, regressor__learning_rate=optimal, regressor__max_iter=3000; total time=   0.3s\n",
      "[CV] END regressor__alpha=0.001, regressor__learning_rate=optimal, regressor__max_iter=3000; total time=   0.1s\n"
     ]
    },
    {
     "name": "stderr",
     "output_type": "stream",
     "text": [
      "/home/philip/anaconda3/lib/python3.11/site-packages/sklearn/preprocessing/_encoders.py:202: UserWarning: Found unknown categories in columns [14, 15, 26, 40] during transform. These unknown categories will be encoded as all zeros\n",
      "  warnings.warn(\n",
      "/home/philip/anaconda3/lib/python3.11/site-packages/sklearn/linear_model/_stochastic_gradient.py:1548: ConvergenceWarning: Maximum number of iteration reached before convergence. Consider increasing max_iter to improve the fit.\n",
      "  warnings.warn(\n",
      "/home/philip/anaconda3/lib/python3.11/site-packages/sklearn/preprocessing/_encoders.py:202: UserWarning: Found unknown categories in columns [5, 14, 15, 16, 19, 29] during transform. These unknown categories will be encoded as all zeros\n",
      "  warnings.warn(\n",
      "/home/philip/anaconda3/lib/python3.11/site-packages/sklearn/preprocessing/_encoders.py:202: UserWarning: Found unknown categories in columns [10, 15] during transform. These unknown categories will be encoded as all zeros\n",
      "  warnings.warn(\n",
      "/home/philip/anaconda3/lib/python3.11/site-packages/sklearn/preprocessing/_encoders.py:202: UserWarning: Found unknown categories in columns [14, 15, 26, 40] during transform. These unknown categories will be encoded as all zeros\n",
      "  warnings.warn(\n",
      "/home/philip/anaconda3/lib/python3.11/site-packages/sklearn/linear_model/_stochastic_gradient.py:1548: ConvergenceWarning: Maximum number of iteration reached before convergence. Consider increasing max_iter to improve the fit.\n",
      "  warnings.warn(\n",
      "/home/philip/anaconda3/lib/python3.11/site-packages/sklearn/preprocessing/_encoders.py:202: UserWarning: Found unknown categories in columns [10, 13, 14, 27, 31] during transform. These unknown categories will be encoded as all zeros\n",
      "  warnings.warn(\n",
      "/home/philip/anaconda3/lib/python3.11/site-packages/sklearn/preprocessing/_encoders.py:202: UserWarning: Found unknown categories in columns [10, 13, 14, 27, 31] during transform. These unknown categories will be encoded as all zeros\n",
      "  warnings.warn(\n",
      "/home/philip/anaconda3/lib/python3.11/site-packages/sklearn/linear_model/_stochastic_gradient.py:1548: ConvergenceWarning: Maximum number of iteration reached before convergence. Consider increasing max_iter to improve the fit.\n",
      "  warnings.warn(\n",
      "/home/philip/anaconda3/lib/python3.11/site-packages/sklearn/preprocessing/_encoders.py:202: UserWarning: Found unknown categories in columns [10, 15] during transform. These unknown categories will be encoded as all zeros\n",
      "  warnings.warn(\n",
      "/home/philip/anaconda3/lib/python3.11/site-packages/sklearn/preprocessing/_encoders.py:202: UserWarning: Found unknown categories in columns [8, 9, 10, 15, 22, 36] during transform. These unknown categories will be encoded as all zeros\n",
      "  warnings.warn(\n",
      "/home/philip/anaconda3/lib/python3.11/site-packages/sklearn/linear_model/_stochastic_gradient.py:1548: ConvergenceWarning: Maximum number of iteration reached before convergence. Consider increasing max_iter to improve the fit.\n",
      "  warnings.warn(\n",
      "/home/philip/anaconda3/lib/python3.11/site-packages/sklearn/preprocessing/_encoders.py:202: UserWarning: Found unknown categories in columns [5, 14, 15, 16, 19, 29] during transform. These unknown categories will be encoded as all zeros\n",
      "  warnings.warn(\n",
      "/home/philip/anaconda3/lib/python3.11/site-packages/sklearn/linear_model/_stochastic_gradient.py:1548: ConvergenceWarning: Maximum number of iteration reached before convergence. Consider increasing max_iter to improve the fit.\n",
      "  warnings.warn(\n",
      "/home/philip/anaconda3/lib/python3.11/site-packages/sklearn/preprocessing/_encoders.py:202: UserWarning: Found unknown categories in columns [8, 9, 10, 15, 22, 36] during transform. These unknown categories will be encoded as all zeros\n",
      "  warnings.warn(\n"
     ]
    },
    {
     "name": "stdout",
     "output_type": "stream",
     "text": [
      "[CV] END regressor__alpha=0.001, regressor__learning_rate=invscaling, regressor__max_iter=100; total time=   0.1s\n",
      "[CV] END regressor__alpha=0.001, regressor__learning_rate=optimal, regressor__max_iter=3000; total time=   0.1s\n",
      "[CV] END regressor__alpha=0.001, regressor__learning_rate=invscaling, regressor__max_iter=100; total time=   0.1s\n",
      "[CV] END regressor__alpha=0.001, regressor__learning_rate=optimal, regressor__max_iter=3000; total time=   0.1s\n",
      "[CV] END regressor__alpha=0.001, regressor__learning_rate=invscaling, regressor__max_iter=100; total time=   0.1s\n",
      "[CV] END regressor__alpha=0.001, regressor__learning_rate=invscaling, regressor__max_iter=100; total time=   0.1s\n",
      "[CV] END regressor__alpha=0.001, regressor__learning_rate=invscaling, regressor__max_iter=1000; total time=   0.1s\n",
      "[CV] END regressor__alpha=0.001, regressor__learning_rate=invscaling, regressor__max_iter=1000; total time=   0.1s\n",
      "[CV] END regressor__alpha=0.001, regressor__learning_rate=invscaling, regressor__max_iter=100; total time=   0.1s\n",
      "[CV] END regressor__alpha=0.001, regressor__learning_rate=invscaling, regressor__max_iter=1000; total time=   0.1s\n"
     ]
    },
    {
     "name": "stderr",
     "output_type": "stream",
     "text": [
      "/home/philip/anaconda3/lib/python3.11/site-packages/sklearn/preprocessing/_encoders.py:202: UserWarning: Found unknown categories in columns [10, 15] during transform. These unknown categories will be encoded as all zeros\n",
      "  warnings.warn(\n",
      "/home/philip/anaconda3/lib/python3.11/site-packages/sklearn/linear_model/_stochastic_gradient.py:1548: ConvergenceWarning: Maximum number of iteration reached before convergence. Consider increasing max_iter to improve the fit.\n",
      "  warnings.warn(\n",
      "/home/philip/anaconda3/lib/python3.11/site-packages/sklearn/preprocessing/_encoders.py:202: UserWarning: Found unknown categories in columns [5, 14, 15, 16, 19, 29] during transform. These unknown categories will be encoded as all zeros\n",
      "  warnings.warn(\n",
      "/home/philip/anaconda3/lib/python3.11/site-packages/sklearn/preprocessing/_encoders.py:202: UserWarning: Found unknown categories in columns [14, 15, 26, 40] during transform. These unknown categories will be encoded as all zeros\n",
      "  warnings.warn(\n",
      "/home/philip/anaconda3/lib/python3.11/site-packages/sklearn/preprocessing/_encoders.py:202: UserWarning: Found unknown categories in columns [14, 15, 26, 40] during transform. These unknown categories will be encoded as all zeros\n",
      "  warnings.warn(\n",
      "/home/philip/anaconda3/lib/python3.11/site-packages/sklearn/preprocessing/_encoders.py:202: UserWarning: Found unknown categories in columns [10, 13, 14, 27, 31] during transform. These unknown categories will be encoded as all zeros\n",
      "  warnings.warn(\n",
      "/home/philip/anaconda3/lib/python3.11/site-packages/sklearn/preprocessing/_encoders.py:202: UserWarning: Found unknown categories in columns [8, 9, 10, 15, 22, 36] during transform. These unknown categories will be encoded as all zeros\n",
      "  warnings.warn(\n",
      "/home/philip/anaconda3/lib/python3.11/site-packages/sklearn/preprocessing/_encoders.py:202: UserWarning: Found unknown categories in columns [10, 15] during transform. These unknown categories will be encoded as all zeros\n",
      "  warnings.warn(\n"
     ]
    },
    {
     "name": "stdout",
     "output_type": "stream",
     "text": [
      "[CV] END regressor__alpha=0.001, regressor__learning_rate=invscaling, regressor__max_iter=3000; total time=   0.1s\n",
      "[CV] END regressor__alpha=0.001, regressor__learning_rate=invscaling, regressor__max_iter=1000; total time=   0.1s\n",
      "[CV] END regressor__alpha=0.001, regressor__learning_rate=invscaling, regressor__max_iter=3000; total time=   0.1s\n",
      "[CV] END regressor__alpha=0.001, regressor__learning_rate=invscaling, regressor__max_iter=3000; total time=   0.1s\n",
      "[CV] END regressor__alpha=0.001, regressor__learning_rate=invscaling, regressor__max_iter=1000; total time=   0.2s\n",
      "[CV] END regressor__alpha=0.001, regressor__learning_rate=invscaling, regressor__max_iter=3000; total time=   0.1s\n",
      "[CV] END regressor__alpha=0.001, regressor__learning_rate=invscaling, regressor__max_iter=3000; total time=   0.1s\n"
     ]
    },
    {
     "name": "stderr",
     "output_type": "stream",
     "text": [
      "/home/philip/anaconda3/lib/python3.11/site-packages/sklearn/preprocessing/_encoders.py:202: UserWarning: Found unknown categories in columns [10, 13, 14, 27, 31] during transform. These unknown categories will be encoded as all zeros\n",
      "  warnings.warn(\n",
      "/home/philip/anaconda3/lib/python3.11/site-packages/sklearn/preprocessing/_encoders.py:202: UserWarning: Found unknown categories in columns [8, 9, 10, 15, 22, 36] during transform. These unknown categories will be encoded as all zeros\n",
      "  warnings.warn(\n",
      "/home/philip/anaconda3/lib/python3.11/site-packages/sklearn/preprocessing/_encoders.py:202: UserWarning: Found unknown categories in columns [14, 15, 26, 40] during transform. These unknown categories will be encoded as all zeros\n",
      "  warnings.warn(\n",
      "/home/philip/anaconda3/lib/python3.11/site-packages/sklearn/preprocessing/_encoders.py:202: UserWarning: Found unknown categories in columns [5, 14, 15, 16, 19, 29] during transform. These unknown categories will be encoded as all zeros\n",
      "  warnings.warn(\n"
     ]
    },
    {
     "name": "stdout",
     "output_type": "stream",
     "text": [
      "Best parameters found:\n",
      "{'regressor__alpha': 0.0001, 'regressor__learning_rate': 'invscaling', 'regressor__max_iter': 1000}\n",
      "\n",
      "Training and evaluating LinReg...\n",
      "Fitting 5 folds for each of 1 candidates, totalling 5 fits\n",
      "[CV] END .................................................... total time=   0.1s\n",
      "[CV] END .................................................... total time=   0.1s\n",
      "[CV] END .................................................... total time=   0.1s\n",
      "[CV] END .................................................... total time=   0.2s\n",
      "[CV] END .................................................... total time=   0.1s\n",
      "Best parameters found:\n",
      "{}\n"
     ]
    },
    {
     "name": "stderr",
     "output_type": "stream",
     "text": [
      "/home/philip/anaconda3/lib/python3.11/site-packages/sklearn/preprocessing/_encoders.py:202: UserWarning: Found unknown categories in columns [10, 15] during transform. These unknown categories will be encoded as all zeros\n",
      "  warnings.warn(\n",
      "/home/philip/anaconda3/lib/python3.11/site-packages/sklearn/preprocessing/_encoders.py:202: UserWarning: Found unknown categories in columns [5, 14, 15, 16, 19, 29] during transform. These unknown categories will be encoded as all zeros\n",
      "  warnings.warn(\n",
      "/home/philip/anaconda3/lib/python3.11/site-packages/sklearn/preprocessing/_encoders.py:202: UserWarning: Found unknown categories in columns [8, 9, 10, 15, 22, 36] during transform. These unknown categories will be encoded as all zeros\n",
      "  warnings.warn(\n",
      "/home/philip/anaconda3/lib/python3.11/site-packages/sklearn/preprocessing/_encoders.py:202: UserWarning: Found unknown categories in columns [10, 13, 14, 27, 31] during transform. These unknown categories will be encoded as all zeros\n",
      "  warnings.warn(\n",
      "/home/philip/anaconda3/lib/python3.11/site-packages/sklearn/preprocessing/_encoders.py:202: UserWarning: Found unknown categories in columns [14, 15, 26, 40] during transform. These unknown categories will be encoded as all zeros\n",
      "  warnings.warn(\n"
     ]
    }
   ],
   "source": [
    "# Fit and evaluate each pipeline\n",
    "scores_explore = {}\n",
    "params_explore = {}\n",
    "\n",
    "fit_models = True # for turning off costly exploratory fitting\n",
    "\n",
    "for name in pipelines:\n",
    "    print(f\"\\nTraining and evaluating {name}...\")\n",
    "    pipe = pipelines[name]\n",
    "    grid_search = GridSearchCV(pipe, \n",
    "                               param_grids_explore[name], \n",
    "                               cv=5, \n",
    "                               #scoring='neg_mean_absolute_error',\n",
    "                               #scoring='neg_mean_squared_error',\n",
    "                               scoring='r2',\n",
    "                               verbose=2, n_jobs=-1)\n",
    "    \n",
    "    if fit_models == True:\n",
    "        grid_search.fit(X_train, y_train)\n",
    "        \n",
    "        # Evaluate on test set\n",
    "        #y_pred = grid_search.predict(X_test)\n",
    "        #accuracy = accuracy_score(y_test, y_pred)\n",
    "        \n",
    "        print(\"Best parameters found:\")\n",
    "        print(grid_search.best_params_)\n",
    "        #print(\"Classification report:\")\n",
    "        #print(classification_report(y_test, y_pred))\n",
    "        #print(f\"Accuracy: {accuracy:.4f}\")\n",
    "        \n",
    "        scores_explore[name] = grid_search.best_score_\n",
    "        params_explore[name] = grid_search.best_params_"
   ]
  },
  {
   "cell_type": "code",
   "execution_count": 91,
   "id": "ea6b634e-a0d5-44d6-ba3c-363626814075",
   "metadata": {},
   "outputs": [
    {
     "data": {
      "text/plain": [
       "{'DecisionTree': 0.7218305452090926,\n",
       " 'SGD': 0.7426444582862715,\n",
       " 'LinReg': 0.7485491429818396}"
      ]
     },
     "execution_count": 91,
     "metadata": {},
     "output_type": "execute_result"
    }
   ],
   "source": [
    "scores_explore"
   ]
  },
  {
   "cell_type": "code",
   "execution_count": 92,
   "id": "56ab3132-a612-4715-a1fd-6e316ce901e6",
   "metadata": {},
   "outputs": [
    {
     "data": {
      "text/plain": [
       "{'DecisionTree': {'regressor__max_depth': 7, 'selector__k': 6},\n",
       " 'SGD': {'regressor__alpha': 0.0001,\n",
       "  'regressor__learning_rate': 'invscaling',\n",
       "  'regressor__max_iter': 1000},\n",
       " 'LinReg': {}}"
      ]
     },
     "execution_count": 92,
     "metadata": {},
     "output_type": "execute_result"
    }
   ],
   "source": [
    "params_explore"
   ]
  },
  {
   "cell_type": "code",
   "execution_count": null,
   "id": "a57914fb-ad71-46ee-a4f6-de965d2f4dff",
   "metadata": {},
   "outputs": [],
   "source": []
  },
  {
   "cell_type": "code",
   "execution_count": 93,
   "id": "edd028ee-5e5c-490c-bdfd-413ff7ac26ee",
   "metadata": {},
   "outputs": [
    {
     "name": "stdout",
     "output_type": "stream",
     "text": [
      "Best parameters: {}\n",
      "Best score on test data: 0.7952222939108533\n"
     ]
    }
   ],
   "source": [
    "# Evaluate the best model on the test data\n",
    "score = grid_search.score(X_test, y_test)\n",
    "print(\"Best parameters:\", grid_search.best_params_)\n",
    "print(\"Best score on test data:\", score)"
   ]
  },
  {
   "cell_type": "code",
   "execution_count": null,
   "id": "11b017ee-3d62-423b-9390-e5ee2fc7814f",
   "metadata": {},
   "outputs": [],
   "source": []
  }
 ],
 "metadata": {
  "kernelspec": {
   "display_name": "Python 3 (ipykernel)",
   "language": "python",
   "name": "python3"
  },
  "language_info": {
   "codemirror_mode": {
    "name": "ipython",
    "version": 3
   },
   "file_extension": ".py",
   "mimetype": "text/x-python",
   "name": "python",
   "nbconvert_exporter": "python",
   "pygments_lexer": "ipython3",
   "version": "3.11.5"
  }
 },
 "nbformat": 4,
 "nbformat_minor": 5
}
