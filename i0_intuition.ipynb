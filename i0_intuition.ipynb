{
 "cells": [
  {
   "cell_type": "markdown",
   "id": "0ac080e6-b7f5-4cef-bde4-c7648c2b5e0d",
   "metadata": {},
   "source": [
    "# Iteration 0: Creating an intuition-based model"
   ]
  },
  {
   "cell_type": "markdown",
   "id": "fe91fc22-d248-4399-ac79-6b4da1450e52",
   "metadata": {},
   "source": [
    "## Load data"
   ]
  },
  {
   "cell_type": "code",
   "execution_count": 1,
   "id": "7eae060f-9e19-4893-a4c9-f4cbf91cfbb0",
   "metadata": {},
   "outputs": [],
   "source": [
    "import pandas as pd\n",
    "import seaborn as sns"
   ]
  },
  {
   "cell_type": "code",
   "execution_count": 2,
   "id": "e8bcae71-9959-4774-8fe9-fc0b3a1c65e2",
   "metadata": {},
   "outputs": [
    {
     "data": {
      "text/html": [
       "<div>\n",
       "<style scoped>\n",
       "    .dataframe tbody tr th:only-of-type {\n",
       "        vertical-align: middle;\n",
       "    }\n",
       "\n",
       "    .dataframe tbody tr th {\n",
       "        vertical-align: top;\n",
       "    }\n",
       "\n",
       "    .dataframe thead th {\n",
       "        text-align: right;\n",
       "    }\n",
       "</style>\n",
       "<table border=\"1\" class=\"dataframe\">\n",
       "  <thead>\n",
       "    <tr style=\"text-align: right;\">\n",
       "      <th></th>\n",
       "      <th>LotArea</th>\n",
       "      <th>LotFrontage</th>\n",
       "      <th>TotalBsmtSF</th>\n",
       "      <th>BedroomAbvGr</th>\n",
       "      <th>Fireplaces</th>\n",
       "      <th>PoolArea</th>\n",
       "      <th>GarageCars</th>\n",
       "      <th>WoodDeckSF</th>\n",
       "      <th>ScreenPorch</th>\n",
       "      <th>Expensive</th>\n",
       "    </tr>\n",
       "  </thead>\n",
       "  <tbody>\n",
       "    <tr>\n",
       "      <th>0</th>\n",
       "      <td>8450</td>\n",
       "      <td>65.0</td>\n",
       "      <td>856</td>\n",
       "      <td>3</td>\n",
       "      <td>0</td>\n",
       "      <td>0</td>\n",
       "      <td>2</td>\n",
       "      <td>0</td>\n",
       "      <td>0</td>\n",
       "      <td>0</td>\n",
       "    </tr>\n",
       "    <tr>\n",
       "      <th>1</th>\n",
       "      <td>9600</td>\n",
       "      <td>80.0</td>\n",
       "      <td>1262</td>\n",
       "      <td>3</td>\n",
       "      <td>1</td>\n",
       "      <td>0</td>\n",
       "      <td>2</td>\n",
       "      <td>298</td>\n",
       "      <td>0</td>\n",
       "      <td>0</td>\n",
       "    </tr>\n",
       "    <tr>\n",
       "      <th>2</th>\n",
       "      <td>11250</td>\n",
       "      <td>68.0</td>\n",
       "      <td>920</td>\n",
       "      <td>3</td>\n",
       "      <td>1</td>\n",
       "      <td>0</td>\n",
       "      <td>2</td>\n",
       "      <td>0</td>\n",
       "      <td>0</td>\n",
       "      <td>0</td>\n",
       "    </tr>\n",
       "    <tr>\n",
       "      <th>3</th>\n",
       "      <td>9550</td>\n",
       "      <td>60.0</td>\n",
       "      <td>756</td>\n",
       "      <td>3</td>\n",
       "      <td>1</td>\n",
       "      <td>0</td>\n",
       "      <td>3</td>\n",
       "      <td>0</td>\n",
       "      <td>0</td>\n",
       "      <td>0</td>\n",
       "    </tr>\n",
       "    <tr>\n",
       "      <th>4</th>\n",
       "      <td>14260</td>\n",
       "      <td>84.0</td>\n",
       "      <td>1145</td>\n",
       "      <td>4</td>\n",
       "      <td>1</td>\n",
       "      <td>0</td>\n",
       "      <td>3</td>\n",
       "      <td>192</td>\n",
       "      <td>0</td>\n",
       "      <td>0</td>\n",
       "    </tr>\n",
       "  </tbody>\n",
       "</table>\n",
       "</div>"
      ],
      "text/plain": [
       "   LotArea  LotFrontage  TotalBsmtSF  BedroomAbvGr  Fireplaces  PoolArea  \\\n",
       "0     8450         65.0          856             3           0         0   \n",
       "1     9600         80.0         1262             3           1         0   \n",
       "2    11250         68.0          920             3           1         0   \n",
       "3     9550         60.0          756             3           1         0   \n",
       "4    14260         84.0         1145             4           1         0   \n",
       "\n",
       "   GarageCars  WoodDeckSF  ScreenPorch  Expensive  \n",
       "0           2           0            0          0  \n",
       "1           2         298            0          0  \n",
       "2           2           0            0          0  \n",
       "3           3           0            0          0  \n",
       "4           3         192            0          0  "
      ]
     },
     "execution_count": 2,
     "metadata": {},
     "output_type": "execute_result"
    }
   ],
   "source": [
    "df = pd.read_csv('./data/housing_iteration_0_2_classification.csv')\n",
    "df.head()"
   ]
  },
  {
   "cell_type": "code",
   "execution_count": 3,
   "id": "89044e8e-4cde-438e-87c9-614534a9c2b2",
   "metadata": {},
   "outputs": [],
   "source": [
    "y = df.pop('Expensive')"
   ]
  },
  {
   "cell_type": "code",
   "execution_count": 4,
   "id": "444cd020-b6ef-4dc7-a404-62a8097ca541",
   "metadata": {},
   "outputs": [],
   "source": [
    "X = df.copy()"
   ]
  },
  {
   "cell_type": "markdown",
   "id": "c1d86c45-5398-4bec-80f0-f483cb2a0858",
   "metadata": {},
   "source": [
    "## Train-test split"
   ]
  },
  {
   "cell_type": "code",
   "execution_count": 5,
   "id": "8a08fb7a-2975-45a5-a2ee-231c2b5b221c",
   "metadata": {},
   "outputs": [],
   "source": [
    "from sklearn.model_selection import train_test_split\n",
    "\n",
    "X_train, X_test, y_train, y_test = train_test_split(X, y, test_size=0.2, random_state=42)"
   ]
  },
  {
   "cell_type": "code",
   "execution_count": 12,
   "id": "40ec879f-4c90-43cf-aa91-7f90cb212bc6",
   "metadata": {},
   "outputs": [
    {
     "data": {
      "text/plain": [
       "Expensive\n",
       "0    999\n",
       "1    169\n",
       "Name: count, dtype: int64"
      ]
     },
     "execution_count": 12,
     "metadata": {},
     "output_type": "execute_result"
    }
   ],
   "source": [
    "y_train.value_counts()"
   ]
  },
  {
   "cell_type": "markdown",
   "id": "ff5023ae-0a6f-4f31-9b78-ede02f865e51",
   "metadata": {},
   "source": [
    "## Definition of intuition-based models"
   ]
  },
  {
   "cell_type": "markdown",
   "id": "a4116a1e-ed74-40c4-94b0-6ca71cb25cd2",
   "metadata": {},
   "source": [
    "### Model 0: All houses are cheap"
   ]
  },
  {
   "cell_type": "markdown",
   "id": "32fb0981-37bb-4904-9b12-0abd19df3d1f",
   "metadata": {},
   "source": [
    "As a starting guess for our first model, we will assume that all houses are cheap."
   ]
  },
  {
   "cell_type": "code",
   "execution_count": 19,
   "id": "227448e6-8467-4c69-ab60-8430c920c48e",
   "metadata": {},
   "outputs": [],
   "source": [
    "model_cheap_train = pd.Series(0, index=range(len(y_train)))"
   ]
  },
  {
   "cell_type": "code",
   "execution_count": 20,
   "id": "5762a878-2b13-4574-a67a-ea468848d2c8",
   "metadata": {},
   "outputs": [
    {
     "data": {
      "text/plain": [
       "0.86"
      ]
     },
     "execution_count": 20,
     "metadata": {},
     "output_type": "execute_result"
    }
   ],
   "source": [
    "from sklearn.metrics import accuracy_score\n",
    "\n",
    "train_accuracy = accuracy_score(y_true = y_train,\n",
    "                                 y_pred = model_cheap_train\n",
    "                                 )\n",
    "\n",
    "round(train_accuracy, 2)"
   ]
  },
  {
   "cell_type": "markdown",
   "id": "14aa6456-29be-4574-a5cc-021954c6c80a",
   "metadata": {},
   "source": [
    "This model has an accuracy of 86%. Compare with the test data below."
   ]
  },
  {
   "cell_type": "code",
   "execution_count": 22,
   "id": "355141c1-9e7d-49c4-adb7-783e0b097a1c",
   "metadata": {},
   "outputs": [],
   "source": [
    "model_cheap_test = pd.Series(0, index=range(len(y_test)))"
   ]
  },
  {
   "cell_type": "code",
   "execution_count": 44,
   "id": "a4ae3446-8c96-46ca-a3eb-471769939595",
   "metadata": {},
   "outputs": [
    {
     "data": {
      "text/plain": [
       "0.84"
      ]
     },
     "execution_count": 44,
     "metadata": {},
     "output_type": "execute_result"
    }
   ],
   "source": [
    "test_accuracy = accuracy_score(y_true = y_test,\n",
    "                                 y_pred = model_cheap_test\n",
    "                                 )\n",
    "\n",
    "round(test_accuracy, 2)"
   ]
  },
  {
   "cell_type": "markdown",
   "id": "d2a7ef09-be81-4cb5-a874-29f5bf84fa6c",
   "metadata": {},
   "source": [
    "The test model has an identical accuracy, i.e. the variance between train and test is very low, which is good. Each further model must fulfill this as well and additionally they must perform better (i.e. have higher accuracy) than this baseline model."
   ]
  },
  {
   "cell_type": "markdown",
   "id": "598aec7e-52ff-4eed-8d4f-e8e381e285f2",
   "metadata": {},
   "source": [
    "### Model 1: Houses with pool are expensive"
   ]
  },
  {
   "cell_type": "markdown",
   "id": "4d98b39d-5306-44b2-8078-76f2ab0ef8ff",
   "metadata": {},
   "source": [
    "An alternative intuitive baseline model."
   ]
  },
  {
   "cell_type": "code",
   "execution_count": 59,
   "id": "6ee29842-d170-403d-99b5-7af71f1ad85e",
   "metadata": {},
   "outputs": [],
   "source": [
    "model_pools_train = X_train['PoolArea'].apply(lambda x: 0 if x == 0 else 1)"
   ]
  },
  {
   "cell_type": "code",
   "execution_count": 60,
   "id": "31bcdbfd-e767-4d65-acf2-e0a1123dec00",
   "metadata": {},
   "outputs": [
    {
     "data": {
      "text/plain": [
       "0.85"
      ]
     },
     "execution_count": 60,
     "metadata": {},
     "output_type": "execute_result"
    }
   ],
   "source": [
    "train_accuracy = accuracy_score(y_true = y_train,\n",
    "                                 y_pred = model_pools_train\n",
    "                                 )\n",
    "\n",
    "round(train_accuracy, 2)"
   ]
  },
  {
   "cell_type": "code",
   "execution_count": 61,
   "id": "0754901b-01ae-4600-b47c-cdf0f5d062c3",
   "metadata": {},
   "outputs": [],
   "source": [
    "model_pools_test = X_test['PoolArea'].apply(lambda x: 0 if x == 0 else 1)"
   ]
  },
  {
   "cell_type": "code",
   "execution_count": 62,
   "id": "c1ed2bd4-5627-4a99-be47-203e1050a19d",
   "metadata": {},
   "outputs": [
    {
     "data": {
      "text/plain": [
       "0.83"
      ]
     },
     "execution_count": 62,
     "metadata": {},
     "output_type": "execute_result"
    }
   ],
   "source": [
    "test_accuracy = accuracy_score(y_true = y_test,\n",
    "                                 y_pred = model_pools_test\n",
    "                                 )\n",
    "\n",
    "round(test_accuracy, 2)"
   ]
  },
  {
   "cell_type": "markdown",
   "id": "1f336858-001b-437d-9d65-3305ed6d6dfb",
   "metadata": {},
   "source": [
    "This more complex model does not produce a more accurate prediction then our baseline model."
   ]
  },
  {
   "cell_type": "code",
   "execution_count": null,
   "id": "38562976-97e0-4433-b1ec-40e406b2d18a",
   "metadata": {},
   "outputs": [],
   "source": []
  }
 ],
 "metadata": {
  "kernelspec": {
   "display_name": "Python 3 (ipykernel)",
   "language": "python",
   "name": "python3"
  },
  "language_info": {
   "codemirror_mode": {
    "name": "ipython",
    "version": 3
   },
   "file_extension": ".py",
   "mimetype": "text/x-python",
   "name": "python",
   "nbconvert_exporter": "python",
   "pygments_lexer": "ipython3",
   "version": "3.11.5"
  }
 },
 "nbformat": 4,
 "nbformat_minor": 5
}
